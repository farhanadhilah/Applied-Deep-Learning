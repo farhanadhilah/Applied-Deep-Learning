{
  "nbformat": 4,
  "nbformat_minor": 0,
  "metadata": {
    "colab": {
      "name": "Bismillah_ADL.ipynb",
      "provenance": [],
      "authorship_tag": "ABX9TyN16HD6scCReDekMRrIiWA5",
      "include_colab_link": true
    },
    "kernelspec": {
      "name": "python3",
      "display_name": "Python 3"
    },
    "language_info": {
      "name": "python"
    }
  },
  "cells": [
    {
      "cell_type": "markdown",
      "metadata": {
        "id": "view-in-github",
        "colab_type": "text"
      },
      "source": [
        "<a href=\"https://colab.research.google.com/github/farhanadhilah/Applied_Deep_Learning/blob/main/Projek_UTS/UTS_ADL.ipynb\" target=\"_parent\"><img src=\"https://colab.research.google.com/assets/colab-badge.svg\" alt=\"Open In Colab\"/></a>"
      ]
    },
    {
      "cell_type": "code",
      "execution_count": 1,
      "metadata": {
        "colab": {
          "base_uri": "https://localhost:8080/"
        },
        "id": "mqbAsC8251MA",
        "outputId": "4d8f7caf-26ad-4fd3-fd4c-d4589a837776"
      },
      "outputs": [
        {
          "output_type": "stream",
          "name": "stdout",
          "text": [
            "Cloning into 'Applied_Deep_Learning'...\n",
            "remote: Enumerating objects: 532, done.\u001b[K\n",
            "remote: Counting objects: 100% (532/532), done.\u001b[K\n",
            "remote: Compressing objects: 100% (519/519), done.\u001b[K\n",
            "remote: Total 532 (delta 102), reused 0 (delta 0), pack-reused 0\u001b[K\n",
            "Receiving objects: 100% (532/532), 187.41 MiB | 23.12 MiB/s, done.\n",
            "Resolving deltas: 100% (102/102), done.\n"
          ]
        }
      ],
      "source": [
        "!git clone https://github.com/farhanadhilah/Applied_Deep_Learning.git"
      ]
    },
    {
      "cell_type": "code",
      "source": [
        "%cd /content/Applied_Deep_Learning/Projek_UTS"
      ],
      "metadata": {
        "colab": {
          "base_uri": "https://localhost:8080/"
        },
        "id": "NssuP3bq6hyU",
        "outputId": "69835015-9e0e-4d7d-e1cd-6104df4f804e"
      },
      "execution_count": 2,
      "outputs": [
        {
          "output_type": "stream",
          "name": "stdout",
          "text": [
            "/content/Applied_Deep_Learning/Projek_UTS\n"
          ]
        }
      ]
    },
    {
      "cell_type": "code",
      "source": [
        "!pip install keras\n",
        "!pip install tensorflow\n",
        "!pip install rasterio"
      ],
      "metadata": {
        "colab": {
          "base_uri": "https://localhost:8080/"
        },
        "id": "hLyg8ewN59-V",
        "outputId": "c883fd5b-59ab-4096-d7a9-af390ca117f7"
      },
      "execution_count": 3,
      "outputs": [
        {
          "output_type": "stream",
          "name": "stdout",
          "text": [
            "Requirement already satisfied: keras in /usr/local/lib/python3.7/dist-packages (2.8.0)\n",
            "Requirement already satisfied: tensorflow in /usr/local/lib/python3.7/dist-packages (2.8.0)\n",
            "Requirement already satisfied: opt-einsum>=2.3.2 in /usr/local/lib/python3.7/dist-packages (from tensorflow) (3.3.0)\n",
            "Requirement already satisfied: tensorflow-io-gcs-filesystem>=0.23.1 in /usr/local/lib/python3.7/dist-packages (from tensorflow) (0.24.0)\n",
            "Collecting tf-estimator-nightly==2.8.0.dev2021122109\n",
            "  Downloading tf_estimator_nightly-2.8.0.dev2021122109-py2.py3-none-any.whl (462 kB)\n",
            "\u001b[K     |████████████████████████████████| 462 kB 23.7 MB/s \n",
            "\u001b[?25hRequirement already satisfied: setuptools in /usr/local/lib/python3.7/dist-packages (from tensorflow) (57.4.0)\n",
            "Requirement already satisfied: h5py>=2.9.0 in /usr/local/lib/python3.7/dist-packages (from tensorflow) (3.1.0)\n",
            "Requirement already satisfied: gast>=0.2.1 in /usr/local/lib/python3.7/dist-packages (from tensorflow) (0.5.3)\n",
            "Requirement already satisfied: typing-extensions>=3.6.6 in /usr/local/lib/python3.7/dist-packages (from tensorflow) (4.1.1)\n",
            "Requirement already satisfied: flatbuffers>=1.12 in /usr/local/lib/python3.7/dist-packages (from tensorflow) (2.0)\n",
            "Requirement already satisfied: tensorboard<2.9,>=2.8 in /usr/local/lib/python3.7/dist-packages (from tensorflow) (2.8.0)\n",
            "Requirement already satisfied: numpy>=1.20 in /usr/local/lib/python3.7/dist-packages (from tensorflow) (1.21.5)\n",
            "Requirement already satisfied: google-pasta>=0.1.1 in /usr/local/lib/python3.7/dist-packages (from tensorflow) (0.2.0)\n",
            "Requirement already satisfied: protobuf>=3.9.2 in /usr/local/lib/python3.7/dist-packages (from tensorflow) (3.17.3)\n",
            "Requirement already satisfied: grpcio<2.0,>=1.24.3 in /usr/local/lib/python3.7/dist-packages (from tensorflow) (1.44.0)\n",
            "Requirement already satisfied: wrapt>=1.11.0 in /usr/local/lib/python3.7/dist-packages (from tensorflow) (1.14.0)\n",
            "Requirement already satisfied: astunparse>=1.6.0 in /usr/local/lib/python3.7/dist-packages (from tensorflow) (1.6.3)\n",
            "Requirement already satisfied: six>=1.12.0 in /usr/local/lib/python3.7/dist-packages (from tensorflow) (1.15.0)\n",
            "Requirement already satisfied: keras<2.9,>=2.8.0rc0 in /usr/local/lib/python3.7/dist-packages (from tensorflow) (2.8.0)\n",
            "Requirement already satisfied: absl-py>=0.4.0 in /usr/local/lib/python3.7/dist-packages (from tensorflow) (1.0.0)\n",
            "Requirement already satisfied: keras-preprocessing>=1.1.1 in /usr/local/lib/python3.7/dist-packages (from tensorflow) (1.1.2)\n",
            "Requirement already satisfied: termcolor>=1.1.0 in /usr/local/lib/python3.7/dist-packages (from tensorflow) (1.1.0)\n",
            "Requirement already satisfied: libclang>=9.0.1 in /usr/local/lib/python3.7/dist-packages (from tensorflow) (13.0.0)\n",
            "Requirement already satisfied: wheel<1.0,>=0.23.0 in /usr/local/lib/python3.7/dist-packages (from astunparse>=1.6.0->tensorflow) (0.37.1)\n",
            "Requirement already satisfied: cached-property in /usr/local/lib/python3.7/dist-packages (from h5py>=2.9.0->tensorflow) (1.5.2)\n",
            "Requirement already satisfied: requests<3,>=2.21.0 in /usr/local/lib/python3.7/dist-packages (from tensorboard<2.9,>=2.8->tensorflow) (2.23.0)\n",
            "Requirement already satisfied: werkzeug>=0.11.15 in /usr/local/lib/python3.7/dist-packages (from tensorboard<2.9,>=2.8->tensorflow) (1.0.1)\n",
            "Requirement already satisfied: tensorboard-plugin-wit>=1.6.0 in /usr/local/lib/python3.7/dist-packages (from tensorboard<2.9,>=2.8->tensorflow) (1.8.1)\n",
            "Requirement already satisfied: tensorboard-data-server<0.7.0,>=0.6.0 in /usr/local/lib/python3.7/dist-packages (from tensorboard<2.9,>=2.8->tensorflow) (0.6.1)\n",
            "Requirement already satisfied: markdown>=2.6.8 in /usr/local/lib/python3.7/dist-packages (from tensorboard<2.9,>=2.8->tensorflow) (3.3.6)\n",
            "Requirement already satisfied: google-auth<3,>=1.6.3 in /usr/local/lib/python3.7/dist-packages (from tensorboard<2.9,>=2.8->tensorflow) (1.35.0)\n",
            "Requirement already satisfied: google-auth-oauthlib<0.5,>=0.4.1 in /usr/local/lib/python3.7/dist-packages (from tensorboard<2.9,>=2.8->tensorflow) (0.4.6)\n",
            "Requirement already satisfied: rsa<5,>=3.1.4 in /usr/local/lib/python3.7/dist-packages (from google-auth<3,>=1.6.3->tensorboard<2.9,>=2.8->tensorflow) (4.8)\n",
            "Requirement already satisfied: pyasn1-modules>=0.2.1 in /usr/local/lib/python3.7/dist-packages (from google-auth<3,>=1.6.3->tensorboard<2.9,>=2.8->tensorflow) (0.2.8)\n",
            "Requirement already satisfied: cachetools<5.0,>=2.0.0 in /usr/local/lib/python3.7/dist-packages (from google-auth<3,>=1.6.3->tensorboard<2.9,>=2.8->tensorflow) (4.2.4)\n",
            "Requirement already satisfied: requests-oauthlib>=0.7.0 in /usr/local/lib/python3.7/dist-packages (from google-auth-oauthlib<0.5,>=0.4.1->tensorboard<2.9,>=2.8->tensorflow) (1.3.1)\n",
            "Requirement already satisfied: importlib-metadata>=4.4 in /usr/local/lib/python3.7/dist-packages (from markdown>=2.6.8->tensorboard<2.9,>=2.8->tensorflow) (4.11.3)\n",
            "Requirement already satisfied: zipp>=0.5 in /usr/local/lib/python3.7/dist-packages (from importlib-metadata>=4.4->markdown>=2.6.8->tensorboard<2.9,>=2.8->tensorflow) (3.8.0)\n",
            "Requirement already satisfied: pyasn1<0.5.0,>=0.4.6 in /usr/local/lib/python3.7/dist-packages (from pyasn1-modules>=0.2.1->google-auth<3,>=1.6.3->tensorboard<2.9,>=2.8->tensorflow) (0.4.8)\n",
            "Requirement already satisfied: certifi>=2017.4.17 in /usr/local/lib/python3.7/dist-packages (from requests<3,>=2.21.0->tensorboard<2.9,>=2.8->tensorflow) (2021.10.8)\n",
            "Requirement already satisfied: idna<3,>=2.5 in /usr/local/lib/python3.7/dist-packages (from requests<3,>=2.21.0->tensorboard<2.9,>=2.8->tensorflow) (2.10)\n",
            "Requirement already satisfied: chardet<4,>=3.0.2 in /usr/local/lib/python3.7/dist-packages (from requests<3,>=2.21.0->tensorboard<2.9,>=2.8->tensorflow) (3.0.4)\n",
            "Requirement already satisfied: urllib3!=1.25.0,!=1.25.1,<1.26,>=1.21.1 in /usr/local/lib/python3.7/dist-packages (from requests<3,>=2.21.0->tensorboard<2.9,>=2.8->tensorflow) (1.24.3)\n",
            "Requirement already satisfied: oauthlib>=3.0.0 in /usr/local/lib/python3.7/dist-packages (from requests-oauthlib>=0.7.0->google-auth-oauthlib<0.5,>=0.4.1->tensorboard<2.9,>=2.8->tensorflow) (3.2.0)\n",
            "Installing collected packages: tf-estimator-nightly\n",
            "Successfully installed tf-estimator-nightly-2.8.0.dev2021122109\n",
            "Collecting rasterio\n",
            "  Downloading rasterio-1.2.10-cp37-cp37m-manylinux1_x86_64.whl (19.3 MB)\n",
            "\u001b[K     |████████████████████████████████| 19.3 MB 387 kB/s \n",
            "\u001b[?25hRequirement already satisfied: attrs in /usr/local/lib/python3.7/dist-packages (from rasterio) (21.4.0)\n",
            "Requirement already satisfied: setuptools in /usr/local/lib/python3.7/dist-packages (from rasterio) (57.4.0)\n",
            "Collecting snuggs>=1.4.1\n",
            "  Downloading snuggs-1.4.7-py3-none-any.whl (5.4 kB)\n",
            "Requirement already satisfied: certifi in /usr/local/lib/python3.7/dist-packages (from rasterio) (2021.10.8)\n",
            "Requirement already satisfied: numpy in /usr/local/lib/python3.7/dist-packages (from rasterio) (1.21.5)\n",
            "Collecting click-plugins\n",
            "  Downloading click_plugins-1.1.1-py2.py3-none-any.whl (7.5 kB)\n",
            "Requirement already satisfied: click>=4.0 in /usr/local/lib/python3.7/dist-packages (from rasterio) (7.1.2)\n",
            "Collecting affine\n",
            "  Downloading affine-2.3.1-py2.py3-none-any.whl (16 kB)\n",
            "Collecting cligj>=0.5\n",
            "  Downloading cligj-0.7.2-py3-none-any.whl (7.1 kB)\n",
            "Requirement already satisfied: pyparsing>=2.1.6 in /usr/local/lib/python3.7/dist-packages (from snuggs>=1.4.1->rasterio) (3.0.8)\n",
            "Installing collected packages: snuggs, cligj, click-plugins, affine, rasterio\n",
            "Successfully installed affine-2.3.1 click-plugins-1.1.1 cligj-0.7.2 rasterio-1.2.10 snuggs-1.4.7\n"
          ]
        }
      ]
    },
    {
      "cell_type": "code",
      "source": [
        "!python generate_parameters.py"
      ],
      "metadata": {
        "colab": {
          "base_uri": "https://localhost:8080/"
        },
        "id": "mTDYA5x5a7ho",
        "outputId": "cddd905b-9538-4670-a4ba-fd809ca3ba71"
      },
      "execution_count": 19,
      "outputs": [
        {
          "output_type": "stream",
          "name": "stdout",
          "text": [
            "Warning params file exists, continue? (y/n) y\n"
          ]
        }
      ]
    },
    {
      "cell_type": "code",
      "source": [
        "!python TrainingClass.py"
      ],
      "metadata": {
        "id": "O1fBmcJJKnYD"
      },
      "execution_count": 20,
      "outputs": []
    },
    {
      "cell_type": "code",
      "source": [
        "!python PostProcessing.py"
      ],
      "metadata": {
        "colab": {
          "base_uri": "https://localhost:8080/"
        },
        "id": "vbyCuftWMeUe",
        "outputId": "55696de1-7a04-4616-c456-9bb1cfca2f0b"
      },
      "execution_count": 21,
      "outputs": [
        {
          "output_type": "stream",
          "name": "stdout",
          "text": [
            "/usr/local/lib/python3.7/dist-packages/keras/optimizer_v2/adam.py:105: UserWarning: The `lr` argument is deprecated, use `learning_rate` instead.\n",
            "  super(Adam, self).__init__(name, **kwargs)\n"
          ]
        }
      ]
    },
    {
      "cell_type": "code",
      "source": [
        "!python train.py"
      ],
      "metadata": {
        "colab": {
          "base_uri": "https://localhost:8080/"
        },
        "id": "m3s02xxnM1SW",
        "outputId": "c3ec77a0-c8c6-47b3-be6b-99924006f339"
      },
      "execution_count": 22,
      "outputs": [
        {
          "output_type": "stream",
          "name": "stdout",
          "text": [
            "/usr/local/lib/python3.7/dist-packages/keras/optimizer_v2/adam.py:105: UserWarning: The `lr` argument is deprecated, use `learning_rate` instead.\n",
            "  super(Adam, self).__init__(name, **kwargs)\n",
            "I will train on all these parameter files:\n",
            "\n",
            "parameters.txt\n",
            "Warning, folder exists! Delete? (y/n) y\n",
            "Data loaded succesfully.\n",
            "/content/Applied_Deep_Learning/Projek_UTS/XNet.py\n",
            "2022-04-16 01:02:57.752826: E tensorflow/stream_executor/cuda/cuda_driver.cc:271] failed call to cuInit: CUDA_ERROR_NO_DEVICE: no CUDA-capable device is detected\n",
            "/usr/local/lib/python3.7/dist-packages/keras/optimizer_v2/rmsprop.py:130: UserWarning: The `lr` argument is deprecated, use `learning_rate` instead.\n",
            "  super(RMSprop, self).__init__(name, **kwargs)\n",
            "Model loaded and compiled succesfully.\n",
            "WARNING:tensorflow:`period` argument is deprecated. Please use `save_freq` to specify the frequency in number of batches seen.\n",
            "/content/Applied_Deep_Learning/Projek_UTS/TrainingClass.py:373: UserWarning: `Model.fit_generator` is deprecated and will be removed in a future version. Please use `Model.fit`, which supports generators.\n",
            "  self.model.fit_generator(self.generator_with_augmentations(), steps_per_epoch = self.no_images // self.batch_size, epochs = self.no_epochs, callbacks = [csv_logger, checkpoint, earlystop], validation_data = (self.val, self.val_label))\n",
            "Epoch 1/4\n",
            "2022-04-16 01:03:19.626488: W tensorflow/core/framework/cpu_allocator_impl.cc:82] Allocation of 1024000000 exceeds 10% of free system memory.\n",
            "2022-04-16 01:03:19.636010: W tensorflow/core/framework/cpu_allocator_impl.cc:82] Allocation of 1024000000 exceeds 10% of free system memory.\n",
            " 1/24 [>.............................] - ETA: 23:04 - loss: 1.0877 - accuracy: 0.45842022-04-16 01:04:13.651553: W tensorflow/core/framework/cpu_allocator_impl.cc:82] Allocation of 1024000000 exceeds 10% of free system memory.\n",
            "2022-04-16 01:04:13.658899: W tensorflow/core/framework/cpu_allocator_impl.cc:82] Allocation of 1024000000 exceeds 10% of free system memory.\n",
            " 2/24 [=>............................] - ETA: 19:05 - loss: 0.7269 - accuracy: 0.69282022-04-16 01:05:05.853010: W tensorflow/core/framework/cpu_allocator_impl.cc:82] Allocation of 1024000000 exceeds 10% of free system memory.\n",
            "24/24 [==============================] - ETA: 0s - loss: 0.4408 - accuracy: 0.8793 tcmalloc: large alloc 1792180224 bytes == 0x5604b5b22000 @  0x7f9dbbb9b1e7 0x7f9d7aecdf3f 0x7f9d7d9d0eca 0x7f9d7de2e464 0x7f9d7de7e45e 0x7f9d7de7f6f7 0x7f9d7de806fa 0x7f9d7de81dae 0x7f9d7de86882 0x7f9d7de86d2f 0x7f9d7330b228 0x7f9d7329dea3 0x7f9d78cd1ce1 0x7f9d78cce9a3 0x7f9d739c38d5 0x7f9dbb9506db 0x7f9dbaa8561f\n",
            "\n",
            "Epoch 1: val_loss improved from inf to 3273.03369, saving model to Model0/DLs200_64.h5\n",
            "24/24 [==============================] - 1330s 55s/step - loss: 0.4408 - accuracy: 0.8793 - val_loss: 3273.0337 - val_accuracy: 0.8326\n",
            "Epoch 2/4\n",
            "24/24 [==============================] - ETA: 0s - loss: 0.3415 - accuracy: 0.9062 tcmalloc: large alloc 1792180224 bytes == 0x5604c1e72000 @  0x7f9dbbb9b1e7 0x7f9d7aecdf3f 0x7f9d7d9d0eca 0x7f9d7de2e464 0x7f9d7de7e45e 0x7f9d7de7f6f7 0x7f9d7de806fa 0x7f9d7de81dae 0x7f9d7de86882 0x7f9d7de86d2f 0x7f9d7330b228 0x7f9d7329dea3 0x7f9d78cd1ce1 0x7f9d78cce9a3 0x7f9d739c38d5 0x7f9dbb9506db 0x7f9dbaa8561f\n",
            "\n",
            "Epoch 2: val_loss improved from 3273.03369 to 2737.88867, saving model to Model0/DLs200_64.h5\n",
            "24/24 [==============================] - 1315s 55s/step - loss: 0.3415 - accuracy: 0.9062 - val_loss: 2737.8887 - val_accuracy: 0.7569\n",
            "Epoch 3/4\n",
            "24/24 [==============================] - ETA: 0s - loss: 0.2820 - accuracy: 0.9239 tcmalloc: large alloc 1792180224 bytes == 0x5604c1e72000 @  0x7f9dbbb9b1e7 0x7f9d7aecdf3f 0x7f9d7d9d0eca 0x7f9d7de2e464 0x7f9d7de7e45e 0x7f9d7de7f6f7 0x7f9d7de806fa 0x7f9d7de81dae 0x7f9d7de86882 0x7f9d7de86d2f 0x7f9d7330b228 0x7f9d7329dea3 0x7f9d78cd1ce1 0x7f9d78cce9a3 0x7f9d739c38d5 0x7f9dbb9506db 0x7f9dbaa8561f\n",
            "\n",
            "Epoch 3: val_loss improved from 2737.88867 to 2077.65527, saving model to Model0/DLs200_64.h5\n",
            "24/24 [==============================] - 1326s 55s/step - loss: 0.2820 - accuracy: 0.9239 - val_loss: 2077.6553 - val_accuracy: 0.6954\n",
            "Epoch 4/4\n",
            "24/24 [==============================] - ETA: 0s - loss: 0.2595 - accuracy: 0.9202 tcmalloc: large alloc 1792180224 bytes == 0x5604c6928000 @  0x7f9dbbb9b1e7 0x7f9d7aecdf3f 0x7f9d7d9d0eca 0x7f9d7de2e464 0x7f9d7de7e45e 0x7f9d7de7f6f7 0x7f9d7de806fa 0x7f9d7de81dae 0x7f9d7de86882 0x7f9d7de86d2f 0x7f9d7330b228 0x7f9d7329dea3 0x7f9d78cd1ce1 0x7f9d78cce9a3 0x7f9d739c38d5 0x7f9dbb9506db 0x7f9dbaa8561f\n",
            "\n",
            "Epoch 4: val_loss improved from 2077.65527 to 1543.93054, saving model to Model0/DLs200_64.h5\n",
            "24/24 [==============================] - 1326s 55s/step - loss: 0.2595 - accuracy: 0.9202 - val_loss: 1543.9305 - val_accuracy: 0.8072\n",
            "Running post training analysis...\n",
            "\n",
            "categorical_crossentropy\n",
            "Model loaded.\n",
            "Traceback (most recent call last):\n",
            "  File \"train.py\", line 53, in <module>\n",
            "    pp = PostProcessing(h5_files[-1], params[\"data_path\"], device = \"cpu\")\n",
            "  File \"/content/Applied_Deep_Learning/Projek_UTS/PostProcessing.py\", line 43, in __init__\n",
            "    self.prediction_prob_rs, self.prediction_argmax = self.predict(device=device)\n",
            "  File \"/content/Applied_Deep_Learning/Projek_UTS/PostProcessing.py\", line 105, in predict\n",
            "    images = self.test_images\n",
            "AttributeError: 'PostProcessing' object has no attribute 'test_images'\n"
          ]
        }
      ]
    },
    {
      "cell_type": "markdown",
      "source": [
        "Diperoleh akurasi model sebesar 80.72% dengan 120 data training 120 dan 20 data validasi."
      ],
      "metadata": {
        "id": "J5yLIt_-b7tT"
      }
    }
  ]
}