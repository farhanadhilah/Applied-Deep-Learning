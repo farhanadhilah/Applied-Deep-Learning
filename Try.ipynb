{
  "nbformat": 4,
  "nbformat_minor": 0,
  "metadata": {
    "colab": {
      "name": "Coba.ipynb",
      "provenance": [],
      "authorship_tag": "ABX9TyO/UitjYG45pTBoIDvcYzz8",
      "include_colab_link": true
    },
    "kernelspec": {
      "name": "python3",
      "display_name": "Python 3"
    },
    "language_info": {
      "name": "python"
    }
  },
  "cells": [
    {
      "cell_type": "markdown",
      "metadata": {
        "id": "view-in-github",
        "colab_type": "text"
      },
      "source": [
        "<a href=\"https://colab.research.google.com/github/farhanadhilah/Applied_Deep_Learning/blob/main/Try.ipynb\" target=\"_parent\"><img src=\"https://colab.research.google.com/assets/colab-badge.svg\" alt=\"Open In Colab\"/></a>"
      ]
    },
    {
      "cell_type": "code",
      "execution_count": 1,
      "metadata": {
        "colab": {
          "base_uri": "https://localhost:8080/"
        },
        "id": "d8J1ucKfp2Jx",
        "outputId": "2f61222c-5b2e-42e2-d6d1-5c7b7d84b511"
      },
      "outputs": [
        {
          "output_type": "stream",
          "name": "stdout",
          "text": [
            "Nadhilah Farhana\n"
          ]
        }
      ],
      "source": [
        "print(\"Nadhilah Farhana\")"
      ]
    },
    {
      "cell_type": "code",
      "source": [
        ""
      ],
      "metadata": {
        "id": "gU-jgeqjp5Uh"
      },
      "execution_count": null,
      "outputs": []
    }
  ]
}