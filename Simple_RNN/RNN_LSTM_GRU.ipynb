{
  "cells": [
    {
      "cell_type": "markdown",
      "metadata": {
        "id": "view-in-github",
        "colab_type": "text"
      },
      "source": [
        "<a href=\"https://colab.research.google.com/github/farhanadhilah/Applied_Deep_Learning/blob/main/Simple_RNN/RNN_LSTM_GRU.ipynb\" target=\"_parent\"><img src=\"https://colab.research.google.com/assets/colab-badge.svg\" alt=\"Open In Colab\"/></a>"
      ]
    },
    {
      "cell_type": "code",
      "source": [
        "!git clone https://github.com/farhanadhilah/Applied_Deep_Learning.git"
      ],
      "metadata": {
        "colab": {
          "base_uri": "https://localhost:8080/"
        },
        "id": "3vAhZFo8CnIa",
        "outputId": "fa952be0-c4ce-4414-887e-e3a6e017d6e3"
      },
      "execution_count": 1,
      "outputs": [
        {
          "output_type": "stream",
          "name": "stdout",
          "text": [
            "Cloning into 'Applied_Deep_Learning'...\n",
            "remote: Enumerating objects: 206, done.\u001b[K\n",
            "remote: Counting objects: 100% (206/206), done.\u001b[K\n",
            "remote: Compressing objects: 100% (193/193), done.\u001b[K\n",
            "remote: Total 206 (delta 60), reused 0 (delta 0), pack-reused 0\u001b[K\n",
            "Receiving objects: 100% (206/206), 65.21 MiB | 20.12 MiB/s, done.\n",
            "Resolving deltas: 100% (60/60), done.\n"
          ]
        }
      ]
    },
    {
      "cell_type": "code",
      "source": [
        "%cd '/content/Applied_Deep_Learning/Simple_RNN'"
      ],
      "metadata": {
        "colab": {
          "base_uri": "https://localhost:8080/"
        },
        "id": "En5B37sICrXu",
        "outputId": "0f1d4665-05fa-43a3-9f90-5fd19b83eb6b"
      },
      "execution_count": 2,
      "outputs": [
        {
          "output_type": "stream",
          "name": "stdout",
          "text": [
            "/content/Applied_Deep_Learning/Simple_RNN\n"
          ]
        }
      ]
    },
    {
      "cell_type": "code",
      "source": [
        "!pip install tensorflow"
      ],
      "metadata": {
        "colab": {
          "base_uri": "https://localhost:8080/"
        },
        "id": "K-sRypMUDyt6",
        "outputId": "efb0f3a9-926a-4a86-9833-513d62d3d27c"
      },
      "execution_count": 4,
      "outputs": [
        {
          "output_type": "stream",
          "name": "stdout",
          "text": [
            "Requirement already satisfied: tensorflow in /usr/local/lib/python3.7/dist-packages (2.8.0)\n",
            "Requirement already satisfied: libclang>=9.0.1 in /usr/local/lib/python3.7/dist-packages (from tensorflow) (13.0.0)\n",
            "Requirement already satisfied: keras<2.9,>=2.8.0rc0 in /usr/local/lib/python3.7/dist-packages (from tensorflow) (2.8.0)\n",
            "Requirement already satisfied: google-pasta>=0.1.1 in /usr/local/lib/python3.7/dist-packages (from tensorflow) (0.2.0)\n",
            "Requirement already satisfied: termcolor>=1.1.0 in /usr/local/lib/python3.7/dist-packages (from tensorflow) (1.1.0)\n",
            "Requirement already satisfied: astunparse>=1.6.0 in /usr/local/lib/python3.7/dist-packages (from tensorflow) (1.6.3)\n",
            "Requirement already satisfied: opt-einsum>=2.3.2 in /usr/local/lib/python3.7/dist-packages (from tensorflow) (3.3.0)\n",
            "Requirement already satisfied: numpy>=1.20 in /usr/local/lib/python3.7/dist-packages (from tensorflow) (1.21.5)\n",
            "Requirement already satisfied: keras-preprocessing>=1.1.1 in /usr/local/lib/python3.7/dist-packages (from tensorflow) (1.1.2)\n",
            "Requirement already satisfied: tensorboard<2.9,>=2.8 in /usr/local/lib/python3.7/dist-packages (from tensorflow) (2.8.0)\n",
            "Requirement already satisfied: grpcio<2.0,>=1.24.3 in /usr/local/lib/python3.7/dist-packages (from tensorflow) (1.44.0)\n",
            "Requirement already satisfied: six>=1.12.0 in /usr/local/lib/python3.7/dist-packages (from tensorflow) (1.15.0)\n",
            "Requirement already satisfied: setuptools in /usr/local/lib/python3.7/dist-packages (from tensorflow) (57.4.0)\n",
            "Requirement already satisfied: gast>=0.2.1 in /usr/local/lib/python3.7/dist-packages (from tensorflow) (0.5.3)\n",
            "Requirement already satisfied: absl-py>=0.4.0 in /usr/local/lib/python3.7/dist-packages (from tensorflow) (1.0.0)\n",
            "Requirement already satisfied: h5py>=2.9.0 in /usr/local/lib/python3.7/dist-packages (from tensorflow) (3.1.0)\n",
            "Requirement already satisfied: wrapt>=1.11.0 in /usr/local/lib/python3.7/dist-packages (from tensorflow) (1.14.0)\n",
            "Requirement already satisfied: typing-extensions>=3.6.6 in /usr/local/lib/python3.7/dist-packages (from tensorflow) (4.1.1)\n",
            "Requirement already satisfied: tensorflow-io-gcs-filesystem>=0.23.1 in /usr/local/lib/python3.7/dist-packages (from tensorflow) (0.24.0)\n",
            "Collecting tf-estimator-nightly==2.8.0.dev2021122109\n",
            "  Downloading tf_estimator_nightly-2.8.0.dev2021122109-py2.py3-none-any.whl (462 kB)\n",
            "\u001b[K     |████████████████████████████████| 462 kB 5.2 MB/s \n",
            "\u001b[?25hRequirement already satisfied: protobuf>=3.9.2 in /usr/local/lib/python3.7/dist-packages (from tensorflow) (3.17.3)\n",
            "Requirement already satisfied: flatbuffers>=1.12 in /usr/local/lib/python3.7/dist-packages (from tensorflow) (2.0)\n",
            "Requirement already satisfied: wheel<1.0,>=0.23.0 in /usr/local/lib/python3.7/dist-packages (from astunparse>=1.6.0->tensorflow) (0.37.1)\n",
            "Requirement already satisfied: cached-property in /usr/local/lib/python3.7/dist-packages (from h5py>=2.9.0->tensorflow) (1.5.2)\n",
            "Requirement already satisfied: requests<3,>=2.21.0 in /usr/local/lib/python3.7/dist-packages (from tensorboard<2.9,>=2.8->tensorflow) (2.23.0)\n",
            "Requirement already satisfied: tensorboard-data-server<0.7.0,>=0.6.0 in /usr/local/lib/python3.7/dist-packages (from tensorboard<2.9,>=2.8->tensorflow) (0.6.1)\n",
            "Requirement already satisfied: google-auth<3,>=1.6.3 in /usr/local/lib/python3.7/dist-packages (from tensorboard<2.9,>=2.8->tensorflow) (1.35.0)\n",
            "Requirement already satisfied: google-auth-oauthlib<0.5,>=0.4.1 in /usr/local/lib/python3.7/dist-packages (from tensorboard<2.9,>=2.8->tensorflow) (0.4.6)\n",
            "Requirement already satisfied: tensorboard-plugin-wit>=1.6.0 in /usr/local/lib/python3.7/dist-packages (from tensorboard<2.9,>=2.8->tensorflow) (1.8.1)\n",
            "Requirement already satisfied: werkzeug>=0.11.15 in /usr/local/lib/python3.7/dist-packages (from tensorboard<2.9,>=2.8->tensorflow) (1.0.1)\n",
            "Requirement already satisfied: markdown>=2.6.8 in /usr/local/lib/python3.7/dist-packages (from tensorboard<2.9,>=2.8->tensorflow) (3.3.6)\n",
            "Requirement already satisfied: pyasn1-modules>=0.2.1 in /usr/local/lib/python3.7/dist-packages (from google-auth<3,>=1.6.3->tensorboard<2.9,>=2.8->tensorflow) (0.2.8)\n",
            "Requirement already satisfied: cachetools<5.0,>=2.0.0 in /usr/local/lib/python3.7/dist-packages (from google-auth<3,>=1.6.3->tensorboard<2.9,>=2.8->tensorflow) (4.2.4)\n",
            "Requirement already satisfied: rsa<5,>=3.1.4 in /usr/local/lib/python3.7/dist-packages (from google-auth<3,>=1.6.3->tensorboard<2.9,>=2.8->tensorflow) (4.8)\n",
            "Requirement already satisfied: requests-oauthlib>=0.7.0 in /usr/local/lib/python3.7/dist-packages (from google-auth-oauthlib<0.5,>=0.4.1->tensorboard<2.9,>=2.8->tensorflow) (1.3.1)\n",
            "Requirement already satisfied: importlib-metadata>=4.4 in /usr/local/lib/python3.7/dist-packages (from markdown>=2.6.8->tensorboard<2.9,>=2.8->tensorflow) (4.11.3)\n",
            "Requirement already satisfied: zipp>=0.5 in /usr/local/lib/python3.7/dist-packages (from importlib-metadata>=4.4->markdown>=2.6.8->tensorboard<2.9,>=2.8->tensorflow) (3.8.0)\n",
            "Requirement already satisfied: pyasn1<0.5.0,>=0.4.6 in /usr/local/lib/python3.7/dist-packages (from pyasn1-modules>=0.2.1->google-auth<3,>=1.6.3->tensorboard<2.9,>=2.8->tensorflow) (0.4.8)\n",
            "Requirement already satisfied: chardet<4,>=3.0.2 in /usr/local/lib/python3.7/dist-packages (from requests<3,>=2.21.0->tensorboard<2.9,>=2.8->tensorflow) (3.0.4)\n",
            "Requirement already satisfied: urllib3!=1.25.0,!=1.25.1,<1.26,>=1.21.1 in /usr/local/lib/python3.7/dist-packages (from requests<3,>=2.21.0->tensorboard<2.9,>=2.8->tensorflow) (1.24.3)\n",
            "Requirement already satisfied: certifi>=2017.4.17 in /usr/local/lib/python3.7/dist-packages (from requests<3,>=2.21.0->tensorboard<2.9,>=2.8->tensorflow) (2021.10.8)\n",
            "Requirement already satisfied: idna<3,>=2.5 in /usr/local/lib/python3.7/dist-packages (from requests<3,>=2.21.0->tensorboard<2.9,>=2.8->tensorflow) (2.10)\n",
            "Requirement already satisfied: oauthlib>=3.0.0 in /usr/local/lib/python3.7/dist-packages (from requests-oauthlib>=0.7.0->google-auth-oauthlib<0.5,>=0.4.1->tensorboard<2.9,>=2.8->tensorflow) (3.2.0)\n",
            "Installing collected packages: tf-estimator-nightly\n",
            "Successfully installed tf-estimator-nightly-2.8.0.dev2021122109\n"
          ]
        }
      ]
    },
    {
      "cell_type": "markdown",
      "source": [
        "#**LSTM**"
      ],
      "metadata": {
        "id": "XNHxy1USFIzA"
      }
    },
    {
      "metadata": {
        "trusted": true,
        "_uuid": "da0236e4b36ce514c1fec3fd72f236d1fa259131",
        "collapsed": true,
        "id": "DCFoWR9X2d49"
      },
      "cell_type": "code",
      "source": [
        "# Importing the libraries\n",
        "import numpy as np\n",
        "import matplotlib.pyplot as plt\n",
        "plt.style.use('fivethirtyeight')\n",
        "import pandas as pd\n",
        "from sklearn.preprocessing import MinMaxScaler\n",
        "from keras.models import Sequential\n",
        "from keras.layers import Dense, LSTM, Dropout, GRU, Bidirectional\n",
        "from tensorflow.keras.optimizers import SGD\n",
        "import math\n",
        "from sklearn.metrics import mean_squared_error"
      ],
      "execution_count": 5,
      "outputs": []
    },
    {
      "metadata": {
        "trusted": true,
        "_uuid": "b288a8e2caf6196daec9cd2bc4ca78fe50345845",
        "id": "HqUSwS2g2d4-"
      },
      "cell_type": "code",
      "source": [
        "# Some functions to help out with\n",
        "def plot_predictions(test,predicted):\n",
        "    plt.plot(test, color='red',label='Real IBM Stock Price')\n",
        "    plt.plot(predicted, color='blue',label='Predicted IBM Stock Price')\n",
        "    plt.title('IBM Stock Price Prediction')\n",
        "    plt.xlabel('Time')\n",
        "    plt.ylabel('IBM Stock Price')\n",
        "    plt.legend()\n",
        "    plt.show()\n",
        "\n",
        "def return_rmse(test,predicted):\n",
        "    rmse = math.sqrt(mean_squared_error(test, predicted))\n",
        "    print(\"The root mean squared error is {}.\".format(rmse))"
      ],
      "execution_count": 6,
      "outputs": []
    },
    {
      "metadata": {
        "trusted": true,
        "_uuid": "4cf10cf27420eb383b93b15c0895139ea96c0ed3",
        "collapsed": true,
        "colab": {
          "base_uri": "https://localhost:8080/",
          "height": 237
        },
        "id": "W-QDV8Dw2d4-",
        "outputId": "0de48d27-e134-4203-cbef-312a8776db9f"
      },
      "cell_type": "code",
      "source": [
        "# First, we get the data\n",
        "dataset = pd.read_csv('IBM_2006-01-01_to_2018-01-01.csv', index_col='Date', parse_dates=['Date'])\n",
        "dataset.head()"
      ],
      "execution_count": 7,
      "outputs": [
        {
          "output_type": "execute_result",
          "data": {
            "text/plain": [
              "             Open   High    Low  Close    Volume Name\n",
              "Date                                                 \n",
              "2006-01-03  82.45  82.55  80.81  82.06  11715200  IBM\n",
              "2006-01-04  82.20  82.50  81.33  81.95   9840600  IBM\n",
              "2006-01-05  81.40  82.90  81.00  82.50   7213500  IBM\n",
              "2006-01-06  83.95  85.03  83.41  84.95   8197400  IBM\n",
              "2006-01-09  84.10  84.25  83.38  83.73   6858200  IBM"
            ],
            "text/html": [
              "\n",
              "  <div id=\"df-bd915172-a28d-40de-b70a-d38e31615dbe\">\n",
              "    <div class=\"colab-df-container\">\n",
              "      <div>\n",
              "<style scoped>\n",
              "    .dataframe tbody tr th:only-of-type {\n",
              "        vertical-align: middle;\n",
              "    }\n",
              "\n",
              "    .dataframe tbody tr th {\n",
              "        vertical-align: top;\n",
              "    }\n",
              "\n",
              "    .dataframe thead th {\n",
              "        text-align: right;\n",
              "    }\n",
              "</style>\n",
              "<table border=\"1\" class=\"dataframe\">\n",
              "  <thead>\n",
              "    <tr style=\"text-align: right;\">\n",
              "      <th></th>\n",
              "      <th>Open</th>\n",
              "      <th>High</th>\n",
              "      <th>Low</th>\n",
              "      <th>Close</th>\n",
              "      <th>Volume</th>\n",
              "      <th>Name</th>\n",
              "    </tr>\n",
              "    <tr>\n",
              "      <th>Date</th>\n",
              "      <th></th>\n",
              "      <th></th>\n",
              "      <th></th>\n",
              "      <th></th>\n",
              "      <th></th>\n",
              "      <th></th>\n",
              "    </tr>\n",
              "  </thead>\n",
              "  <tbody>\n",
              "    <tr>\n",
              "      <th>2006-01-03</th>\n",
              "      <td>82.45</td>\n",
              "      <td>82.55</td>\n",
              "      <td>80.81</td>\n",
              "      <td>82.06</td>\n",
              "      <td>11715200</td>\n",
              "      <td>IBM</td>\n",
              "    </tr>\n",
              "    <tr>\n",
              "      <th>2006-01-04</th>\n",
              "      <td>82.20</td>\n",
              "      <td>82.50</td>\n",
              "      <td>81.33</td>\n",
              "      <td>81.95</td>\n",
              "      <td>9840600</td>\n",
              "      <td>IBM</td>\n",
              "    </tr>\n",
              "    <tr>\n",
              "      <th>2006-01-05</th>\n",
              "      <td>81.40</td>\n",
              "      <td>82.90</td>\n",
              "      <td>81.00</td>\n",
              "      <td>82.50</td>\n",
              "      <td>7213500</td>\n",
              "      <td>IBM</td>\n",
              "    </tr>\n",
              "    <tr>\n",
              "      <th>2006-01-06</th>\n",
              "      <td>83.95</td>\n",
              "      <td>85.03</td>\n",
              "      <td>83.41</td>\n",
              "      <td>84.95</td>\n",
              "      <td>8197400</td>\n",
              "      <td>IBM</td>\n",
              "    </tr>\n",
              "    <tr>\n",
              "      <th>2006-01-09</th>\n",
              "      <td>84.10</td>\n",
              "      <td>84.25</td>\n",
              "      <td>83.38</td>\n",
              "      <td>83.73</td>\n",
              "      <td>6858200</td>\n",
              "      <td>IBM</td>\n",
              "    </tr>\n",
              "  </tbody>\n",
              "</table>\n",
              "</div>\n",
              "      <button class=\"colab-df-convert\" onclick=\"convertToInteractive('df-bd915172-a28d-40de-b70a-d38e31615dbe')\"\n",
              "              title=\"Convert this dataframe to an interactive table.\"\n",
              "              style=\"display:none;\">\n",
              "        \n",
              "  <svg xmlns=\"http://www.w3.org/2000/svg\" height=\"24px\"viewBox=\"0 0 24 24\"\n",
              "       width=\"24px\">\n",
              "    <path d=\"M0 0h24v24H0V0z\" fill=\"none\"/>\n",
              "    <path d=\"M18.56 5.44l.94 2.06.94-2.06 2.06-.94-2.06-.94-.94-2.06-.94 2.06-2.06.94zm-11 1L8.5 8.5l.94-2.06 2.06-.94-2.06-.94L8.5 2.5l-.94 2.06-2.06.94zm10 10l.94 2.06.94-2.06 2.06-.94-2.06-.94-.94-2.06-.94 2.06-2.06.94z\"/><path d=\"M17.41 7.96l-1.37-1.37c-.4-.4-.92-.59-1.43-.59-.52 0-1.04.2-1.43.59L10.3 9.45l-7.72 7.72c-.78.78-.78 2.05 0 2.83L4 21.41c.39.39.9.59 1.41.59.51 0 1.02-.2 1.41-.59l7.78-7.78 2.81-2.81c.8-.78.8-2.07 0-2.86zM5.41 20L4 18.59l7.72-7.72 1.47 1.35L5.41 20z\"/>\n",
              "  </svg>\n",
              "      </button>\n",
              "      \n",
              "  <style>\n",
              "    .colab-df-container {\n",
              "      display:flex;\n",
              "      flex-wrap:wrap;\n",
              "      gap: 12px;\n",
              "    }\n",
              "\n",
              "    .colab-df-convert {\n",
              "      background-color: #E8F0FE;\n",
              "      border: none;\n",
              "      border-radius: 50%;\n",
              "      cursor: pointer;\n",
              "      display: none;\n",
              "      fill: #1967D2;\n",
              "      height: 32px;\n",
              "      padding: 0 0 0 0;\n",
              "      width: 32px;\n",
              "    }\n",
              "\n",
              "    .colab-df-convert:hover {\n",
              "      background-color: #E2EBFA;\n",
              "      box-shadow: 0px 1px 2px rgba(60, 64, 67, 0.3), 0px 1px 3px 1px rgba(60, 64, 67, 0.15);\n",
              "      fill: #174EA6;\n",
              "    }\n",
              "\n",
              "    [theme=dark] .colab-df-convert {\n",
              "      background-color: #3B4455;\n",
              "      fill: #D2E3FC;\n",
              "    }\n",
              "\n",
              "    [theme=dark] .colab-df-convert:hover {\n",
              "      background-color: #434B5C;\n",
              "      box-shadow: 0px 1px 3px 1px rgba(0, 0, 0, 0.15);\n",
              "      filter: drop-shadow(0px 1px 2px rgba(0, 0, 0, 0.3));\n",
              "      fill: #FFFFFF;\n",
              "    }\n",
              "  </style>\n",
              "\n",
              "      <script>\n",
              "        const buttonEl =\n",
              "          document.querySelector('#df-bd915172-a28d-40de-b70a-d38e31615dbe button.colab-df-convert');\n",
              "        buttonEl.style.display =\n",
              "          google.colab.kernel.accessAllowed ? 'block' : 'none';\n",
              "\n",
              "        async function convertToInteractive(key) {\n",
              "          const element = document.querySelector('#df-bd915172-a28d-40de-b70a-d38e31615dbe');\n",
              "          const dataTable =\n",
              "            await google.colab.kernel.invokeFunction('convertToInteractive',\n",
              "                                                     [key], {});\n",
              "          if (!dataTable) return;\n",
              "\n",
              "          const docLinkHtml = 'Like what you see? Visit the ' +\n",
              "            '<a target=\"_blank\" href=https://colab.research.google.com/notebooks/data_table.ipynb>data table notebook</a>'\n",
              "            + ' to learn more about interactive tables.';\n",
              "          element.innerHTML = '';\n",
              "          dataTable['output_type'] = 'display_data';\n",
              "          await google.colab.output.renderOutput(dataTable, element);\n",
              "          const docLink = document.createElement('div');\n",
              "          docLink.innerHTML = docLinkHtml;\n",
              "          element.appendChild(docLink);\n",
              "        }\n",
              "      </script>\n",
              "    </div>\n",
              "  </div>\n",
              "  "
            ]
          },
          "metadata": {},
          "execution_count": 7
        }
      ]
    },
    {
      "metadata": {
        "trusted": true,
        "_uuid": "fb4c9db6d8a5bcf20ffad41747cfa5b6215ba220",
        "collapsed": true,
        "id": "Dm29mbI-2d4-"
      },
      "cell_type": "code",
      "source": [
        "# Checking for missing values\n",
        "training_set = dataset[:'2016'].iloc[:,1:2].values\n",
        "test_set = dataset['2017':].iloc[:,1:2].values"
      ],
      "execution_count": 8,
      "outputs": []
    },
    {
      "metadata": {
        "trusted": true,
        "_uuid": "bf5a9463d58e73852d2b70be9611e8cf1f4166fd",
        "collapsed": true,
        "colab": {
          "base_uri": "https://localhost:8080/",
          "height": 303
        },
        "id": "sIlGhGhK2d4_",
        "outputId": "46e6ad35-01c2-46ab-eb31-5dfc0cf52037"
      },
      "cell_type": "code",
      "source": [
        "# We have chosen 'High' attribute for prices. Let's see what it looks like\n",
        "dataset[\"High\"][:'2016'].plot(figsize=(16,4),legend=True)\n",
        "dataset[\"High\"]['2017':].plot(figsize=(16,4),legend=True)\n",
        "plt.legend(['Training set (Before 2017)','Test set (2017 and beyond)'])\n",
        "plt.title('IBM stock price')\n",
        "plt.show()"
      ],
      "execution_count": 9,
      "outputs": [
        {
          "output_type": "display_data",
          "data": {
            "text/plain": [
              "<Figure size 1152x288 with 1 Axes>"
            ],
            "image/png": "[encoded data removed]"
          },
          "metadata": {}
        }
      ]
    },
    {
      "metadata": {
        "trusted": true,
        "_uuid": "bcc9c36165fc07d258bd5ea87874d2da17fa4a4d",
        "collapsed": true,
        "id": "I_R9tIh92d4_"
      },
      "cell_type": "code",
      "source": [
        "# Scaling the training set\n",
        "sc = MinMaxScaler(feature_range=(0,1))\n",
        "training_set_scaled = sc.fit_transform(training_set)"
      ],
      "execution_count": 10,
      "outputs": []
    },
    {
      "metadata": {
        "trusted": true,
        "_uuid": "fccfb866a2b4c702e0b2742f7c0289512d713d1b",
        "collapsed": true,
        "id": "4uYNt3Cg2d4_"
      },
      "cell_type": "code",
      "source": [
        "# Since LSTMs store long term memory state, we create a data structure with 60 timesteps and 1 output\n",
        "# So for each element of training set, we have 60 previous training set elements \n",
        "X_train = []\n",
        "y_train = []\n",
        "for i in range(60,2769):\n",
        "    X_train.append(training_set_scaled[i-60:i,0])\n",
        "    y_train.append(training_set_scaled[i,0])\n",
        "X_train, y_train = np.array(X_train), np.array(y_train)"
      ],
      "execution_count": 11,
      "outputs": []
    },
    {
      "metadata": {
        "trusted": true,
        "_uuid": "637f699d3c4bde4b783de56ed4dd70a1bf59760d",
        "collapsed": true,
        "id": "YQdKEQJC2d4_"
      },
      "cell_type": "code",
      "source": [
        "# Reshaping X_train for efficient modelling\n",
        "X_train = np.reshape(X_train, (X_train.shape[0],X_train.shape[1],1))"
      ],
      "execution_count": 12,
      "outputs": []
    },
    {
      "metadata": {
        "trusted": true,
        "_uuid": "df20eb7e8062dae0a3aff2182aa440faddd0017d",
        "collapsed": true,
        "colab": {
          "base_uri": "https://localhost:8080/"
        },
        "id": "u8Ate2TW2d4_",
        "outputId": "d889ee67-d0e7-4a47-8c2d-4baa862daf85"
      },
      "cell_type": "code",
      "source": [
        "# The LSTM architecture\n",
        "regressor = Sequential()\n",
        "# First LSTM layer with Dropout regularisation\n",
        "regressor.add(LSTM(units=50, return_sequences=True, input_shape=(X_train.shape[1],1)))\n",
        "regressor.add(Dropout(0.2))\n",
        "# Second LSTM layer\n",
        "regressor.add(LSTM(units=50, return_sequences=True))\n",
        "regressor.add(Dropout(0.2))\n",
        "# Third LSTM layer\n",
        "regressor.add(LSTM(units=50, return_sequences=True))\n",
        "regressor.add(Dropout(0.2))\n",
        "# Fourth LSTM layer\n",
        "regressor.add(LSTM(units=50))\n",
        "regressor.add(Dropout(0.2))\n",
        "# The output layer\n",
        "regressor.add(Dense(units=1))\n",
        "\n",
        "# Compiling the RNN\n",
        "regressor.compile(optimizer='rmsprop',loss='mean_squared_error')\n",
        "# Fitting to the training set\n",
        "regressor.fit(X_train,y_train,epochs=50,batch_size=32)"
      ],
      "execution_count": 13,
      "outputs": [
        {
          "output_type": "stream",
          "name": "stdout",
          "text": [
            "Epoch 1/50\n",
            "85/85 [==============================] - 19s 124ms/step - loss: 0.0233\n",
            "Epoch 2/50\n",
            "85/85 [==============================] - 11s 124ms/step - loss: 0.0110\n",
            "Epoch 3/50\n",
            "85/85 [==============================] - 11s 124ms/step - loss: 0.0085\n",
            "Epoch 4/50\n",
            "85/85 [==============================] - 10s 124ms/step - loss: 0.0071\n",
            "Epoch 5/50\n",
            "85/85 [==============================] - 12s 136ms/step - loss: 0.0059\n",
            "Epoch 6/50\n",
            "85/85 [==============================] - 10s 123ms/step - loss: 0.0058\n",
            "Epoch 7/50\n",
            "85/85 [==============================] - 11s 125ms/step - loss: 0.0052\n",
            "Epoch 8/50\n",
            "85/85 [==============================] - 11s 125ms/step - loss: 0.0047\n",
            "Epoch 9/50\n",
            "85/85 [==============================] - 11s 124ms/step - loss: 0.0044\n",
            "Epoch 10/50\n",
            "85/85 [==============================] - 11s 125ms/step - loss: 0.0040\n",
            "Epoch 11/50\n",
            "85/85 [==============================] - 11s 124ms/step - loss: 0.0038\n",
            "Epoch 12/50\n",
            "85/85 [==============================] - 11s 125ms/step - loss: 0.0035\n",
            "Epoch 13/50\n",
            "85/85 [==============================] - 10s 123ms/step - loss: 0.0034\n",
            "Epoch 14/50\n",
            "85/85 [==============================] - 11s 124ms/step - loss: 0.0031\n",
            "Epoch 15/50\n",
            "85/85 [==============================] - 11s 124ms/step - loss: 0.0032\n",
            "Epoch 16/50\n",
            "85/85 [==============================] - 11s 124ms/step - loss: 0.0031\n",
            "Epoch 17/50\n",
            "85/85 [==============================] - 16s 189ms/step - loss: 0.0028\n",
            "Epoch 18/50\n",
            "85/85 [==============================] - 14s 162ms/step - loss: 0.0029\n",
            "Epoch 19/50\n",
            "85/85 [==============================] - 11s 126ms/step - loss: 0.0027\n",
            "Epoch 20/50\n",
            "85/85 [==============================] - 11s 124ms/step - loss: 0.0026\n",
            "Epoch 21/50\n",
            "85/85 [==============================] - 11s 124ms/step - loss: 0.0025\n",
            "Epoch 22/50\n",
            "85/85 [==============================] - 11s 124ms/step - loss: 0.0024\n",
            "Epoch 23/50\n",
            "85/85 [==============================] - 11s 126ms/step - loss: 0.0024\n",
            "Epoch 24/50\n",
            "85/85 [==============================] - 11s 125ms/step - loss: 0.0023\n",
            "Epoch 25/50\n",
            "85/85 [==============================] - 11s 124ms/step - loss: 0.0023\n",
            "Epoch 26/50\n",
            "85/85 [==============================] - 11s 126ms/step - loss: 0.0022\n",
            "Epoch 27/50\n",
            "85/85 [==============================] - 11s 124ms/step - loss: 0.0021\n",
            "Epoch 28/50\n",
            "85/85 [==============================] - 11s 125ms/step - loss: 0.0021\n",
            "Epoch 29/50\n",
            "85/85 [==============================] - 10s 123ms/step - loss: 0.0022\n",
            "Epoch 30/50\n",
            "85/85 [==============================] - 11s 124ms/step - loss: 0.0020\n",
            "Epoch 31/50\n",
            "85/85 [==============================] - 10s 123ms/step - loss: 0.0020\n",
            "Epoch 32/50\n",
            "85/85 [==============================] - 10s 123ms/step - loss: 0.0018\n",
            "Epoch 33/50\n",
            "85/85 [==============================] - 10s 123ms/step - loss: 0.0019\n",
            "Epoch 34/50\n",
            "85/85 [==============================] - 10s 123ms/step - loss: 0.0019\n",
            "Epoch 35/50\n",
            "85/85 [==============================] - 11s 124ms/step - loss: 0.0018\n",
            "Epoch 36/50\n",
            "85/85 [==============================] - 11s 125ms/step - loss: 0.0018\n",
            "Epoch 37/50\n",
            "85/85 [==============================] - 11s 124ms/step - loss: 0.0017\n",
            "Epoch 38/50\n",
            "85/85 [==============================] - 11s 125ms/step - loss: 0.0018\n",
            "Epoch 39/50\n",
            "85/85 [==============================] - 11s 124ms/step - loss: 0.0017\n",
            "Epoch 40/50\n",
            "85/85 [==============================] - 11s 124ms/step - loss: 0.0016\n",
            "Epoch 41/50\n",
            "85/85 [==============================] - 11s 125ms/step - loss: 0.0016\n",
            "Epoch 42/50\n",
            "85/85 [==============================] - 11s 124ms/step - loss: 0.0017\n",
            "Epoch 43/50\n",
            "85/85 [==============================] - 11s 125ms/step - loss: 0.0015\n",
            "Epoch 44/50\n",
            "85/85 [==============================] - 11s 125ms/step - loss: 0.0015\n",
            "Epoch 45/50\n",
            "85/85 [==============================] - 11s 124ms/step - loss: 0.0015\n",
            "Epoch 46/50\n",
            "85/85 [==============================] - 11s 124ms/step - loss: 0.0015\n",
            "Epoch 47/50\n",
            "85/85 [==============================] - 11s 124ms/step - loss: 0.0015\n",
            "Epoch 48/50\n",
            "85/85 [==============================] - 11s 125ms/step - loss: 0.0015\n",
            "Epoch 49/50\n",
            "85/85 [==============================] - 11s 126ms/step - loss: 0.0015\n",
            "Epoch 50/50\n",
            "85/85 [==============================] - 11s 125ms/step - loss: 0.0015\n"
          ]
        },
        {
          "output_type": "execute_result",
          "data": {
            "text/plain": [
              "<keras.callbacks.History at 0x7f885cb61710>"
            ]
          },
          "metadata": {},
          "execution_count": 13
        }
      ]
    },
    {
      "metadata": {
        "trusted": true,
        "_uuid": "326fa85615622feb484cc4c848edeec6f7133913",
        "collapsed": true,
        "id": "DRzh2IbA2d5A"
      },
      "cell_type": "code",
      "source": [
        "# Now to get the test set ready in a similar way as the training set.\n",
        "# The following has been done so forst 60 entires of test set have 60 previous values which is impossible to get unless we take the whole \n",
        "# 'High' attribute data for processing\n",
        "dataset_total = pd.concat((dataset[\"High\"][:'2016'],dataset[\"High\"]['2017':]),axis=0)\n",
        "inputs = dataset_total[len(dataset_total)-len(test_set) - 60:].values\n",
        "inputs = inputs.reshape(-1,1)\n",
        "inputs  = sc.transform(inputs)"
      ],
      "execution_count": 14,
      "outputs": []
    },
    {
      "metadata": {
        "trusted": true,
        "collapsed": true,
        "_uuid": "435b8024814939ac4fbd372baa0cd8cfc78f80bc",
        "id": "EKSVnlUO2d5A"
      },
      "cell_type": "code",
      "source": [
        "# Preparing X_test and predicting the prices\n",
        "X_test = []\n",
        "for i in range(60,311):\n",
        "    X_test.append(inputs[i-60:i,0])\n",
        "X_test = np.array(X_test)\n",
        "X_test = np.reshape(X_test, (X_test.shape[0],X_test.shape[1],1))\n",
        "predicted_stock_price = regressor.predict(X_test)\n",
        "predicted_stock_price = sc.inverse_transform(predicted_stock_price)"
      ],
      "execution_count": 15,
      "outputs": []
    },
    {
      "metadata": {
        "trusted": true,
        "scrolled": false,
        "_uuid": "b774a8e79e53eac89694cafef6b11aa99226b95f",
        "collapsed": true,
        "colab": {
          "base_uri": "https://localhost:8080/",
          "height": 325
        },
        "id": "LSon9o9m2d5A",
        "outputId": "1e975adc-1f95-449b-de60-9caa9ddb182d"
      },
      "cell_type": "code",
      "source": [
        "# Visualizing the results for LSTM\n",
        "plot_predictions(test_set,predicted_stock_price)"
      ],
      "execution_count": 16,
      "outputs": [
        {
          "output_type": "display_data",
          "data": {
            "text/plain": [
              "<Figure size 432x288 with 1 Axes>"
            ],
            "image/png": "[encoded data removed]"
          },
          "metadata": {}
        }
      ]
    },
    {
      "metadata": {
        "trusted": true,
        "_uuid": "f6f6db0b6e1f17ac63c06ce49856873d98ba5f00",
        "collapsed": true,
        "colab": {
          "base_uri": "https://localhost:8080/"
        },
        "id": "OH1iwCsy2d5A",
        "outputId": "5e634482-6be6-4dd4-98ab-7102e699525f"
      },
      "cell_type": "code",
      "source": [
        "# Evaluating our model\n",
        "return_rmse(test_set,predicted_stock_price)"
      ],
      "execution_count": 17,
      "outputs": [
        {
          "output_type": "stream",
          "name": "stdout",
          "text": [
            "The root mean squared error is 2.0494582764998754.\n"
          ]
        }
      ]
    },
    {
      "cell_type": "markdown",
      "source": [
        "#**GRU**"
      ],
      "metadata": {
        "id": "NdTUNCmRFNpl"
      }
    },
    {
      "metadata": {
        "trusted": true,
        "collapsed": true,
        "_uuid": "e9b616c5112d707d16cc4b277007e286cffd58f6",
        "colab": {
          "base_uri": "https://localhost:8080/"
        },
        "id": "zclJeLRs2d5A",
        "outputId": "9e503729-e633-4803-8129-4faa6b8427ac"
      },
      "cell_type": "code",
      "source": [
        "# The GRU architecture\n",
        "regressorGRU = Sequential()\n",
        "# First GRU layer with Dropout regularisation\n",
        "regressorGRU.add(GRU(units=50, return_sequences=True, input_shape=(X_train.shape[1],1), activation='tanh'))\n",
        "regressorGRU.add(Dropout(0.2))\n",
        "# Second GRU layer\n",
        "regressorGRU.add(GRU(units=50, return_sequences=True, input_shape=(X_train.shape[1],1), activation='tanh'))\n",
        "regressorGRU.add(Dropout(0.2))\n",
        "# Third GRU layer\n",
        "regressorGRU.add(GRU(units=50, return_sequences=True, input_shape=(X_train.shape[1],1), activation='tanh'))\n",
        "regressorGRU.add(Dropout(0.2))\n",
        "# Fourth GRU layer\n",
        "regressorGRU.add(GRU(units=50, activation='tanh'))\n",
        "regressorGRU.add(Dropout(0.2))\n",
        "# The output layer\n",
        "regressorGRU.add(Dense(units=1))\n",
        "# Compiling the RNN\n",
        "regressorGRU.compile(optimizer=SGD(lr=0.01, decay=1e-7, momentum=0.9, nesterov=False),loss='mean_squared_error')\n",
        "# Fitting to the training set\n",
        "regressorGRU.fit(X_train,y_train,epochs=50,batch_size=150)"
      ],
      "execution_count": 18,
      "outputs": [
        {
          "output_type": "stream",
          "name": "stdout",
          "text": [
            "Epoch 1/50\n"
          ]
        },
        {
          "output_type": "stream",
          "name": "stderr",
          "text": [
            "/usr/local/lib/python3.7/dist-packages/keras/optimizer_v2/gradient_descent.py:102: UserWarning: The `lr` argument is deprecated, use `learning_rate` instead.\n",
            "  super(SGD, self).__init__(name, **kwargs)\n"
          ]
        },
        {
          "output_type": "stream",
          "name": "stdout",
          "text": [
            "19/19 [==============================] - 12s 232ms/step - loss: 0.1570\n",
            "Epoch 2/50\n",
            "19/19 [==============================] - 4s 234ms/step - loss: 0.0543\n",
            "Epoch 3/50\n",
            "19/19 [==============================] - 4s 230ms/step - loss: 0.0232\n",
            "Epoch 4/50\n",
            "19/19 [==============================] - 4s 228ms/step - loss: 0.0063\n",
            "Epoch 5/50\n",
            "19/19 [==============================] - 4s 228ms/step - loss: 0.0047\n",
            "Epoch 6/50\n",
            "19/19 [==============================] - 4s 230ms/step - loss: 0.0041\n",
            "Epoch 7/50\n",
            "19/19 [==============================] - 4s 231ms/step - loss: 0.0037\n",
            "Epoch 8/50\n",
            "19/19 [==============================] - 4s 232ms/step - loss: 0.0034\n",
            "Epoch 9/50\n",
            "19/19 [==============================] - 4s 228ms/step - loss: 0.0036\n",
            "Epoch 10/50\n",
            "19/19 [==============================] - 4s 234ms/step - loss: 0.0034\n",
            "Epoch 11/50\n",
            "19/19 [==============================] - 4s 235ms/step - loss: 0.0032\n",
            "Epoch 12/50\n",
            "19/19 [==============================] - 4s 230ms/step - loss: 0.0033\n",
            "Epoch 13/50\n",
            "19/19 [==============================] - 4s 229ms/step - loss: 0.0030\n",
            "Epoch 14/50\n",
            "19/19 [==============================] - 4s 230ms/step - loss: 0.0029\n",
            "Epoch 15/50\n",
            "19/19 [==============================] - 5s 238ms/step - loss: 0.0029\n",
            "Epoch 16/50\n",
            "19/19 [==============================] - 4s 233ms/step - loss: 0.0029\n",
            "Epoch 17/50\n",
            "19/19 [==============================] - 4s 231ms/step - loss: 0.0028\n",
            "Epoch 18/50\n",
            "19/19 [==============================] - 4s 229ms/step - loss: 0.0028\n",
            "Epoch 19/50\n",
            "19/19 [==============================] - 4s 234ms/step - loss: 0.0027\n",
            "Epoch 20/50\n",
            "19/19 [==============================] - 5s 247ms/step - loss: 0.0026\n",
            "Epoch 21/50\n",
            "19/19 [==============================] - 5s 229ms/step - loss: 0.0027\n",
            "Epoch 22/50\n",
            "19/19 [==============================] - 4s 232ms/step - loss: 0.0026\n",
            "Epoch 23/50\n",
            "19/19 [==============================] - 4s 230ms/step - loss: 0.0026\n",
            "Epoch 24/50\n",
            "19/19 [==============================] - 5s 264ms/step - loss: 0.0028\n",
            "Epoch 25/50\n",
            "19/19 [==============================] - 5s 235ms/step - loss: 0.0024\n",
            "Epoch 26/50\n",
            "19/19 [==============================] - 4s 230ms/step - loss: 0.0025\n",
            "Epoch 27/50\n",
            "19/19 [==============================] - 4s 231ms/step - loss: 0.0024\n",
            "Epoch 28/50\n",
            "19/19 [==============================] - 4s 234ms/step - loss: 0.0024\n",
            "Epoch 29/50\n",
            "19/19 [==============================] - 4s 232ms/step - loss: 0.0022\n",
            "Epoch 30/50\n",
            "19/19 [==============================] - 4s 231ms/step - loss: 0.0024\n",
            "Epoch 31/50\n",
            "19/19 [==============================] - 4s 228ms/step - loss: 0.0022\n",
            "Epoch 32/50\n",
            "19/19 [==============================] - 4s 233ms/step - loss: 0.0023\n",
            "Epoch 33/50\n",
            "19/19 [==============================] - 4s 233ms/step - loss: 0.0023\n",
            "Epoch 34/50\n",
            "19/19 [==============================] - 4s 227ms/step - loss: 0.0022\n",
            "Epoch 35/50\n",
            "19/19 [==============================] - 4s 234ms/step - loss: 0.0023\n",
            "Epoch 36/50\n",
            "19/19 [==============================] - 5s 237ms/step - loss: 0.0023\n",
            "Epoch 37/50\n",
            "19/19 [==============================] - 4s 233ms/step - loss: 0.0021\n",
            "Epoch 38/50\n",
            "19/19 [==============================] - 4s 232ms/step - loss: 0.0022\n",
            "Epoch 39/50\n",
            "19/19 [==============================] - 4s 231ms/step - loss: 0.0022\n",
            "Epoch 40/50\n",
            "19/19 [==============================] - 4s 232ms/step - loss: 0.0022\n",
            "Epoch 41/50\n",
            "19/19 [==============================] - 5s 237ms/step - loss: 0.0022\n",
            "Epoch 42/50\n",
            "19/19 [==============================] - 4s 235ms/step - loss: 0.0021\n",
            "Epoch 43/50\n",
            "19/19 [==============================] - 4s 231ms/step - loss: 0.0020\n",
            "Epoch 44/50\n",
            "19/19 [==============================] - 4s 230ms/step - loss: 0.0021\n",
            "Epoch 45/50\n",
            "19/19 [==============================] - 4s 234ms/step - loss: 0.0022\n",
            "Epoch 46/50\n",
            "19/19 [==============================] - 4s 233ms/step - loss: 0.0021\n",
            "Epoch 47/50\n",
            "19/19 [==============================] - 4s 232ms/step - loss: 0.0021\n",
            "Epoch 48/50\n",
            "19/19 [==============================] - 4s 230ms/step - loss: 0.0021\n",
            "Epoch 49/50\n",
            "19/19 [==============================] - 4s 232ms/step - loss: 0.0020\n",
            "Epoch 50/50\n",
            "19/19 [==============================] - 7s 369ms/step - loss: 0.0020\n"
          ]
        },
        {
          "output_type": "execute_result",
          "data": {
            "text/plain": [
              "<keras.callbacks.History at 0x7f885c630b90>"
            ]
          },
          "metadata": {},
          "execution_count": 18
        }
      ]
    },
    {
      "metadata": {
        "trusted": true,
        "collapsed": true,
        "_uuid": "f20ca021ea3ce05f6c6a98db93775f1b2c9c022c",
        "id": "KUN7kOgu2d5B"
      },
      "cell_type": "code",
      "source": [
        "# Preparing X_test and predicting the prices\n",
        "X_test = []\n",
        "for i in range(60,311):\n",
        "    X_test.append(inputs[i-60:i,0])\n",
        "X_test = np.array(X_test)\n",
        "X_test = np.reshape(X_test, (X_test.shape[0],X_test.shape[1],1))\n",
        "GRU_predicted_stock_price = regressorGRU.predict(X_test)\n",
        "GRU_predicted_stock_price = sc.inverse_transform(GRU_predicted_stock_price)"
      ],
      "execution_count": 19,
      "outputs": []
    },
    {
      "metadata": {
        "trusted": true,
        "collapsed": true,
        "_uuid": "da8e9fa28510aa03e7dd06d5070d7b16e05ebb6e",
        "colab": {
          "base_uri": "https://localhost:8080/",
          "height": 325
        },
        "id": "kPZuTh6-2d5B",
        "outputId": "af87f2c3-790f-42d0-8624-ad70e01d2ef1"
      },
      "cell_type": "code",
      "source": [
        "# Visualizing the results for GRU\n",
        "plot_predictions(test_set,GRU_predicted_stock_price)"
      ],
      "execution_count": 20,
      "outputs": [
        {
          "output_type": "display_data",
          "data": {
            "text/plain": [
              "<Figure size 432x288 with 1 Axes>"
            ],
            "image/png": "[encoded data removed]"
          },
          "metadata": {}
        }
      ]
    },
    {
      "metadata": {
        "trusted": true,
        "collapsed": true,
        "_uuid": "23aec5ab1a717e3458c8d5cae68db0e7add091ae",
        "colab": {
          "base_uri": "https://localhost:8080/"
        },
        "id": "cH_CcN282d5B",
        "outputId": "e77aac1f-d94a-4e2c-c351-256fe67968d9"
      },
      "cell_type": "code",
      "source": [
        "# Evaluating GRU\n",
        "return_rmse(test_set,GRU_predicted_stock_price)"
      ],
      "execution_count": 21,
      "outputs": [
        {
          "output_type": "stream",
          "name": "stdout",
          "text": [
            "The root mean squared error is 3.2769461158102993.\n"
          ]
        }
      ]
    },
    {
      "metadata": {
        "_uuid": "9164ee2b253583928226c76f6a5f5148717227d7",
        "id": "bS329MrS2d5C"
      },
      "cell_type": "markdown",
      "source": [
        "GRU memperoleh hasil yang lebih baik dibandingkan dengan LSTM."
      ]
    }
  ],
  "metadata": {
    "kernelspec": {
      "display_name": "Python 3",
      "language": "python",
      "name": "python3"
    },
    "language_info": {
      "name": "python",
      "version": "3.6.6",
      "mimetype": "text/x-python",
      "codemirror_mode": {
        "name": "ipython",
        "version": 3
      },
      "pygments_lexer": "ipython3",
      "nbconvert_exporter": "python",
      "file_extension": ".py"
    },
    "colab": {
      "name": "RNN_LSTM_GRU.ipynb",
      "provenance": [],
      "include_colab_link": true
    }
  },
  "nbformat": 4,
  "nbformat_minor": 0
}