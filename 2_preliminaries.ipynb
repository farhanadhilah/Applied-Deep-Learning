{
  "nbformat": 4,
  "nbformat_minor": 0,
  "metadata": {
    "colab": {
      "name": "2_preliminaries.ipynb",
      "provenance": [],
      "collapsed_sections": [],
      "authorship_tag": "ABX9TyMHcV4/mBABR+KLvVshSjg2",
      "include_colab_link": true
    },
    "kernelspec": {
      "name": "python3",
      "display_name": "Python 3"
    },
    "language_info": {
      "name": "python"
    }
  },
  "cells": [
    {
      "cell_type": "markdown",
      "metadata": {
        "id": "view-in-github",
        "colab_type": "text"
      },
      "source": [
        "<a href=\"https://colab.research.google.com/github/farhanadhilah/Applied_Deep_Learning/blob/main/2_preliminaries.ipynb\" target=\"_parent\"><img src=\"https://colab.research.google.com/assets/colab-badge.svg\" alt=\"Open In Colab\"/></a>"
      ]
    },
    {
      "cell_type": "markdown",
      "source": [
        "#2.1 Data Manipulation\n",
        "\n",
        "---\n",
        "\n",
        "\n",
        "\n",
        "---\n",
        "\n"
      ],
      "metadata": {
        "id": "uJsq39YMYfyB"
      }
    },
    {
      "cell_type": "markdown",
      "source": [
        "2 hal penting yang harus dilakukan dengan data:\n",
        "\n",
        "*   Kumpulkan data\n",
        "*   Olah data\n",
        "\n",
        "Tensor: n-dimensional array\n",
        "\n"
      ],
      "metadata": {
        "id": "nEt6SnaodFIO"
      }
    },
    {
      "cell_type": "code",
      "execution_count": null,
      "metadata": {
        "id": "z1eoj-S2W1ck"
      },
      "outputs": [],
      "source": [
        "#bisa pakai tensor class PyTorch atau TensorFlow\n",
        "import torch"
      ]
    },
    {
      "cell_type": "markdown",
      "source": [
        "\n",
        "\n",
        "*   Tensor 1 sumbu: Vektor\n",
        "*   Tensor 2 sumbu: Matriks\n",
        "*   Tensor $k>2$ sumbu: $k^{th}$ Order Tensor\n",
        "\n"
      ],
      "metadata": {
        "id": "F_H3UDvleR4u"
      }
    },
    {
      "cell_type": "code",
      "source": [
        "x = torch.arange(12, dtype=torch.float32)\n",
        "x"
      ],
      "metadata": {
        "colab": {
          "base_uri": "https://localhost:8080/"
        },
        "id": "XwhfC5PXY3ev",
        "outputId": "fb3f7128-ff17-473a-add9-2ec4368a8d33"
      },
      "execution_count": null,
      "outputs": [
        {
          "output_type": "execute_result",
          "data": {
            "text/plain": [
              "tensor([ 0.,  1.,  2.,  3.,  4.,  5.,  6.,  7.,  8.,  9., 10., 11.])"
            ]
          },
          "metadata": {},
          "execution_count": 3
        }
      ]
    },
    {
      "cell_type": "code",
      "source": [
        "#ukuran (panjang dari setiap sumbu)\n",
        "x.shape"
      ],
      "metadata": {
        "colab": {
          "base_uri": "https://localhost:8080/"
        },
        "id": "ENeTrudzY9Ph",
        "outputId": "fe4ab994-e152-49ad-c9f4-a00767e6bec0"
      },
      "execution_count": null,
      "outputs": [
        {
          "output_type": "execute_result",
          "data": {
            "text/plain": [
              "torch.Size([12])"
            ]
          },
          "metadata": {},
          "execution_count": 4
        }
      ]
    },
    {
      "cell_type": "code",
      "source": [
        "#jumlah total elemen dalam tensor\n",
        "x.numel()"
      ],
      "metadata": {
        "colab": {
          "base_uri": "https://localhost:8080/"
        },
        "id": "dH_ILRaPZA_q",
        "outputId": "0ac5f802-b597-4eb6-b16c-4408a41226b2"
      },
      "execution_count": null,
      "outputs": [
        {
          "output_type": "execute_result",
          "data": {
            "text/plain": [
              "12"
            ]
          },
          "metadata": {},
          "execution_count": 5
        }
      ]
    },
    {
      "cell_type": "code",
      "source": [
        "#tanpa merubah banyaknya elemen atau nilai dari elemennya\n",
        "#mengubah bentuk tensor dari vektor baris berukuran 12 menjadi matriks berukuran (3,4)\n",
        "X = x.reshape(3, 4)\n",
        "X"
      ],
      "metadata": {
        "colab": {
          "base_uri": "https://localhost:8080/"
        },
        "id": "aYFgagiuZD38",
        "outputId": "751d0287-0352-4a45-d8c9-95845eae6db0"
      },
      "execution_count": null,
      "outputs": [
        {
          "output_type": "execute_result",
          "data": {
            "text/plain": [
              "tensor([[ 0.,  1.,  2.,  3.],\n",
              "        [ 4.,  5.,  6.,  7.],\n",
              "        [ 8.,  9., 10., 11.]])"
            ]
          },
          "metadata": {},
          "execution_count": 6
        }
      ]
    },
    {
      "cell_type": "code",
      "source": [
        "#coba otomatis\n",
        "X = x.reshape(-1, 4)\n",
        "X"
      ],
      "metadata": {
        "colab": {
          "base_uri": "https://localhost:8080/"
        },
        "id": "agRVXBedg8-i",
        "outputId": "d1b3a26a-bb64-44d1-e08f-923e3152ee08"
      },
      "execution_count": null,
      "outputs": [
        {
          "output_type": "execute_result",
          "data": {
            "text/plain": [
              "tensor([[ 0.,  1.,  2.,  3.],\n",
              "        [ 4.,  5.,  6.,  7.],\n",
              "        [ 8.,  9., 10., 11.]])"
            ]
          },
          "metadata": {},
          "execution_count": 7
        }
      ]
    },
    {
      "cell_type": "code",
      "source": [
        "#coba otomatis\n",
        "X = x.reshape(3, -1)\n",
        "X"
      ],
      "metadata": {
        "colab": {
          "base_uri": "https://localhost:8080/"
        },
        "id": "GaKPTDREhCxz",
        "outputId": "5dfd1eb1-9f9d-49ac-b9d7-e281d17ddc9c"
      },
      "execution_count": null,
      "outputs": [
        {
          "output_type": "execute_result",
          "data": {
            "text/plain": [
              "tensor([[ 0.,  1.,  2.,  3.],\n",
              "        [ 4.,  5.,  6.,  7.],\n",
              "        [ 8.,  9., 10., 11.]])"
            ]
          },
          "metadata": {},
          "execution_count": 8
        }
      ]
    },
    {
      "cell_type": "markdown",
      "source": [
        "Tensor dapat secara otomatis melakukan *reshape* satu dimensi lainnya. Hal tersebut dapat dilakukan dengan menempatkan $-1$ pada dimensi yang ingin dibentuk.\n",
        "\n",
        "Contoh: $x.reshape(3, 4)$ dapat dilakukan dengan $x.reshape(-1, 4)$ atau $x.reshape(3, -1)$"
      ],
      "metadata": {
        "id": "qsrCI1S0hPh6"
      }
    },
    {
      "cell_type": "code",
      "source": [
        "#membuat matriks inisialisasi dengan entri 0\n",
        "torch.zeros((2, 3, 4))"
      ],
      "metadata": {
        "colab": {
          "base_uri": "https://localhost:8080/"
        },
        "id": "0316zgisZHnO",
        "outputId": "33c9f1ff-b62a-4cd8-ba45-c45a31ee2be0"
      },
      "execution_count": null,
      "outputs": [
        {
          "output_type": "execute_result",
          "data": {
            "text/plain": [
              "tensor([[[0., 0., 0., 0.],\n",
              "         [0., 0., 0., 0.],\n",
              "         [0., 0., 0., 0.]],\n",
              "\n",
              "        [[0., 0., 0., 0.],\n",
              "         [0., 0., 0., 0.],\n",
              "         [0., 0., 0., 0.]]])"
            ]
          },
          "metadata": {},
          "execution_count": 6
        }
      ]
    },
    {
      "cell_type": "code",
      "source": [
        "#membuat matriks inisialisasi dengan entri 1\n",
        "torch.ones((2, 3, 4))"
      ],
      "metadata": {
        "colab": {
          "base_uri": "https://localhost:8080/"
        },
        "id": "s6aKADyoZL7-",
        "outputId": "b23bf7e9-e1e6-47ef-da8d-c3d1b01908c0"
      },
      "execution_count": null,
      "outputs": [
        {
          "output_type": "execute_result",
          "data": {
            "text/plain": [
              "tensor([[[1., 1., 1., 1.],\n",
              "         [1., 1., 1., 1.],\n",
              "         [1., 1., 1., 1.]],\n",
              "\n",
              "        [[1., 1., 1., 1.],\n",
              "         [1., 1., 1., 1.],\n",
              "         [1., 1., 1., 1.]]])"
            ]
          },
          "metadata": {},
          "execution_count": 7
        }
      ]
    },
    {
      "cell_type": "code",
      "source": [
        "#membuat matriks inisialisasi dengan entri random\n",
        "#setiap elemennya diambil dari sampel acak distribusi Gaussian (normal) standar dengan mean 0 dan std 1\n",
        "torch.randn(3, 4)"
      ],
      "metadata": {
        "colab": {
          "base_uri": "https://localhost:8080/"
        },
        "id": "cjUh623KZOFT",
        "outputId": "eb7767fb-eeac-4bd5-9f91-1cfe36b25f88"
      },
      "execution_count": null,
      "outputs": [
        {
          "output_type": "execute_result",
          "data": {
            "text/plain": [
              "tensor([[-1.0534,  0.7047,  0.8490, -0.1929],\n",
              "        [ 0.7630,  1.1493, -0.0389,  0.2127],\n",
              "        [ 0.5834,  1.7204, -0.4753, -0.5213]])"
            ]
          },
          "metadata": {},
          "execution_count": 9
        }
      ]
    },
    {
      "cell_type": "code",
      "source": [
        "#membuat matriks dengan entri sesuai keinginan\n",
        "torch.tensor([[2, 1, 4, 3], [1, 2, 3, 4], [4, 3, 2, 1]])"
      ],
      "metadata": {
        "colab": {
          "base_uri": "https://localhost:8080/"
        },
        "id": "jtpxb4HWZY9-",
        "outputId": "30df1d43-76f9-479b-ab12-f872706ae294"
      },
      "execution_count": null,
      "outputs": [
        {
          "output_type": "execute_result",
          "data": {
            "text/plain": [
              "tensor([[2, 1, 4, 3],\n",
              "        [1, 2, 3, 4],\n",
              "        [4, 3, 2, 1]])"
            ]
          },
          "metadata": {},
          "execution_count": 10
        }
      ]
    },
    {
      "cell_type": "markdown",
      "source": [
        "##2.1.2 Operations"
      ],
      "metadata": {
        "id": "ls-LdzRfZdVN"
      }
    },
    {
      "cell_type": "markdown",
      "source": [
        "###2.1.2.1 Operations"
      ],
      "metadata": {
        "id": "YDYXchU_Zk-h"
      }
    },
    {
      "cell_type": "code",
      "source": [
        "x = torch.tensor([1.0, 2, 4, 8])\n",
        "y = torch.tensor([2, 2, 2, 2])\n",
        "x + y, x - y, x * y, x / y, x ** y  # The ** operator is exponentiation"
      ],
      "metadata": {
        "colab": {
          "base_uri": "https://localhost:8080/"
        },
        "id": "zhXYHkHlZb9g",
        "outputId": "d2c7f1b0-e4ed-4814-91ef-8a987b6955d0"
      },
      "execution_count": null,
      "outputs": [
        {
          "output_type": "execute_result",
          "data": {
            "text/plain": [
              "(tensor([ 3.,  4.,  6., 10.]),\n",
              " tensor([-1.,  0.,  2.,  6.]),\n",
              " tensor([ 2.,  4.,  8., 16.]),\n",
              " tensor([0.5000, 1.0000, 2.0000, 4.0000]),\n",
              " tensor([ 1.,  4., 16., 64.]))"
            ]
          },
          "metadata": {},
          "execution_count": 10
        }
      ]
    },
    {
      "cell_type": "code",
      "source": [
        "#exponensial\n",
        "torch.exp(x)"
      ],
      "metadata": {
        "colab": {
          "base_uri": "https://localhost:8080/"
        },
        "id": "__s_7R9_ZqYC",
        "outputId": "1f96f02f-2c76-451f-c8fd-b7a2df4db4a1"
      },
      "execution_count": null,
      "outputs": [
        {
          "output_type": "execute_result",
          "data": {
            "text/plain": [
              "tensor([2.7183e+00, 7.3891e+00, 5.4598e+01, 2.9810e+03])"
            ]
          },
          "metadata": {},
          "execution_count": 11
        }
      ]
    },
    {
      "cell_type": "code",
      "source": [
        "#menggabungkan tensor\n",
        "X = torch.arange(12, dtype=torch.float32).reshape((3,4))\n",
        "Y = torch.tensor([[2.0, 1, 4, 3], [1, 2, 3, 4], [4, 3, 2, 1]])\n",
        "torch.cat((X, Y), dim=0),torch.cat((X, Y), dim=1) \n",
        "#dim = 0 outputnya berdasarkan elemen pertama dari shape (3+3)\n",
        "#dim = 1 outputnya berdasarkan elemen kedua dari shape (4+4)"
      ],
      "metadata": {
        "colab": {
          "base_uri": "https://localhost:8080/"
        },
        "id": "raBVEsXLZtPl",
        "outputId": "8c6bb6fe-8cdf-454e-c266-c7656324611f"
      },
      "execution_count": null,
      "outputs": [
        {
          "output_type": "execute_result",
          "data": {
            "text/plain": [
              "(tensor([[ 0.,  1.,  2.,  3.],\n",
              "         [ 4.,  5.,  6.,  7.],\n",
              "         [ 8.,  9., 10., 11.],\n",
              "         [ 2.,  1.,  4.,  3.],\n",
              "         [ 1.,  2.,  3.,  4.],\n",
              "         [ 4.,  3.,  2.,  1.]]),\n",
              " tensor([[ 0.,  1.,  2.,  3.,  2.,  1.,  4.,  3.],\n",
              "         [ 4.,  5.,  6.,  7.,  1.,  2.,  3.,  4.],\n",
              "         [ 8.,  9., 10., 11.,  4.,  3.,  2.,  1.]]))"
            ]
          },
          "metadata": {},
          "execution_count": 12
        }
      ]
    },
    {
      "cell_type": "code",
      "source": [
        "#binary tensor\n",
        "#jika X dan Y berada di posisi yang sama, maka bernilai 1 (true) untuk X==Y, dan kebalikannya 0 (False)\n",
        "X == Y"
      ],
      "metadata": {
        "colab": {
          "base_uri": "https://localhost:8080/"
        },
        "id": "qF5_exS3Zvkr",
        "outputId": "55262de4-c75c-4b07-fedf-ca530536b4c4"
      },
      "execution_count": null,
      "outputs": [
        {
          "output_type": "execute_result",
          "data": {
            "text/plain": [
              "tensor([[False,  True, False,  True],\n",
              "        [False, False, False, False],\n",
              "        [False, False, False, False]])"
            ]
          },
          "metadata": {},
          "execution_count": 13
        }
      ]
    },
    {
      "cell_type": "code",
      "source": [
        "#menjumlahnkan seluruh nilai elemen\n",
        "X.sum()"
      ],
      "metadata": {
        "colab": {
          "base_uri": "https://localhost:8080/"
        },
        "id": "l2-Dx79UZy15",
        "outputId": "6a43734e-94eb-481b-9a10-99d6a8ab17b3"
      },
      "execution_count": null,
      "outputs": [
        {
          "output_type": "execute_result",
          "data": {
            "text/plain": [
              "tensor(66.)"
            ]
          },
          "metadata": {},
          "execution_count": 14
        }
      ]
    },
    {
      "cell_type": "markdown",
      "source": [
        "##2.1.3 Broadcasting Mechanism"
      ],
      "metadata": {
        "id": "UtY9ahjwZ2RO"
      }
    },
    {
      "cell_type": "code",
      "source": [
        "a = torch.arange(3).reshape((3, 1))\n",
        "b = torch.arange(2).reshape((1, 2))\n",
        "a, b"
      ],
      "metadata": {
        "colab": {
          "base_uri": "https://localhost:8080/"
        },
        "id": "z0mNNbVLZ036",
        "outputId": "4f1a2442-1b6b-40ae-97d5-aca8204738ed"
      },
      "execution_count": null,
      "outputs": [
        {
          "output_type": "execute_result",
          "data": {
            "text/plain": [
              "(tensor([[0],\n",
              "         [1],\n",
              "         [2]]), tensor([[0, 1]]))"
            ]
          },
          "metadata": {},
          "execution_count": 16
        }
      ]
    },
    {
      "cell_type": "markdown",
      "source": [
        "Pada bagian sebelumnya, dilakukan operasi elemen dari dua tensor berukuran sama. Dengan kondisi tertentu, kita dapat melakukan operasi elemen meskipun tensor memiliki **ukuran yang berbeda**, yaitu dengan *broadcasting mechanism*.\n",
        "\n",
        "Langkah:\n",
        "\n",
        "1.   Memperluas salah satu atau kedua tensor dengan menyali elemen, sehingga setelahnya tensor memiliki bentuk yang sama.\n",
        "2.   Melakukan operasi elemen dari array yang dihasilkan.\n",
        "\n"
      ],
      "metadata": {
        "id": "uDjZJphWpqiR"
      }
    },
    {
      "cell_type": "code",
      "source": [
        "#a berukuran 3x1 dan b berukuran 1x2. dilakukan broadcast menjadi matriks berukuran 3x2\n",
        "#matriks a mereplikasi (menyalin) kolom, matriks b mereplikasi baris\n",
        "a + b"
      ],
      "metadata": {
        "colab": {
          "base_uri": "https://localhost:8080/"
        },
        "id": "n7C-IpnqZ7Y_",
        "outputId": "e0b9098d-d535-45a4-fe3a-da7111b5192e"
      },
      "execution_count": null,
      "outputs": [
        {
          "output_type": "execute_result",
          "data": {
            "text/plain": [
              "tensor([[0, 1],\n",
              "        [1, 2],\n",
              "        [2, 3]])"
            ]
          },
          "metadata": {},
          "execution_count": 17
        }
      ]
    },
    {
      "cell_type": "markdown",
      "source": [
        "##2.1.4 Indexing and Slicing"
      ],
      "metadata": {
        "id": "KR5Myup-Z_ZF"
      }
    },
    {
      "cell_type": "markdown",
      "source": [
        "* Elemen pada tensor dapat diakses menggunakan index seperti pada array Python. \n",
        "* Elemen pertama ber-index 0"
      ],
      "metadata": {
        "id": "Z2qs8VW5r7vc"
      }
    },
    {
      "cell_type": "code",
      "source": [
        "#[-1] untuk elemen terakhir, [1:3] untuk elemen kedua dan ketiga\n",
        "X[-1], X[1:3]"
      ],
      "metadata": {
        "colab": {
          "base_uri": "https://localhost:8080/"
        },
        "id": "dR6d5CcUZ9_Y",
        "outputId": "6130cdba-36e0-4e80-d856-66024fbc2f10"
      },
      "execution_count": null,
      "outputs": [
        {
          "output_type": "execute_result",
          "data": {
            "text/plain": [
              "(tensor([ 8.,  9., 10., 11.]), tensor([[ 4.,  5.,  6.,  7.],\n",
              "         [ 8.,  9., 10., 11.]]))"
            ]
          },
          "metadata": {},
          "execution_count": 18
        }
      ]
    },
    {
      "cell_type": "code",
      "source": [
        "#mengganti elemen matriks\n",
        "X[1, 2] = 9\n",
        "X"
      ],
      "metadata": {
        "colab": {
          "base_uri": "https://localhost:8080/"
        },
        "id": "pqDs5Kk4aIH1",
        "outputId": "0b1fe14e-2ab0-4a85-b32d-0e93d8c569e5"
      },
      "execution_count": null,
      "outputs": [
        {
          "output_type": "execute_result",
          "data": {
            "text/plain": [
              "tensor([[ 0.,  1.,  2.,  3.],\n",
              "        [ 4.,  5.,  9.,  7.],\n",
              "        [ 8.,  9., 10., 11.]])"
            ]
          },
          "metadata": {},
          "execution_count": 18
        }
      ]
    },
    {
      "cell_type": "code",
      "source": [
        "#jika ingin memasukkan/mengganti beberapa elemen dengan nilai yang sama\n",
        "X[0:2, :] = 12\n",
        "X"
      ],
      "metadata": {
        "colab": {
          "base_uri": "https://localhost:8080/"
        },
        "id": "zNa-RnFNaKPb",
        "outputId": "3c3b7fc8-dd41-4320-97d0-782947f35d1e"
      },
      "execution_count": null,
      "outputs": [
        {
          "output_type": "execute_result",
          "data": {
            "text/plain": [
              "tensor([[12., 12., 12., 12.],\n",
              "        [12., 12., 12., 12.],\n",
              "        [ 8.,  9., 10., 11.]])"
            ]
          },
          "metadata": {},
          "execution_count": 19
        }
      ]
    },
    {
      "cell_type": "markdown",
      "source": [
        "##2.1.5 Saving Money"
      ],
      "metadata": {
        "id": "71s8pzWDaPJw"
      }
    },
    {
      "cell_type": "code",
      "source": [
        "before = id(Y)\n",
        "Y = Y + X\n",
        "id(Y) == before"
      ],
      "metadata": {
        "colab": {
          "base_uri": "https://localhost:8080/"
        },
        "id": "3DrsMRG6aMvp",
        "outputId": "50728ecc-a9dc-4f0f-9f64-575c2e52a81b"
      },
      "execution_count": null,
      "outputs": [
        {
          "output_type": "execute_result",
          "data": {
            "text/plain": [
              "False"
            ]
          },
          "metadata": {},
          "execution_count": 20
        }
      ]
    },
    {
      "cell_type": "code",
      "source": [
        "Z = torch.zeros_like(Y)\n",
        "print('id(Z):', id(Z))\n",
        "Z[:] = X + Y\n",
        "print('id(Z):', id(Z))"
      ],
      "metadata": {
        "colab": {
          "base_uri": "https://localhost:8080/"
        },
        "id": "XYj2b2lOaSMx",
        "outputId": "f59b56ff-025a-4de7-d34b-779b0bc4f48a"
      },
      "execution_count": null,
      "outputs": [
        {
          "output_type": "stream",
          "name": "stdout",
          "text": [
            "id(Z): 140710950904752\n",
            "id(Z): 140710950904752\n"
          ]
        }
      ]
    },
    {
      "cell_type": "code",
      "source": [
        "before = id(X)\n",
        "X += Y\n",
        "id(X) == before"
      ],
      "metadata": {
        "colab": {
          "base_uri": "https://localhost:8080/"
        },
        "id": "ZdUbuMeqaUd1",
        "outputId": "d1e8ed1c-d039-4c7e-e096-d38bf6236ecd"
      },
      "execution_count": null,
      "outputs": [
        {
          "output_type": "execute_result",
          "data": {
            "text/plain": [
              "True"
            ]
          },
          "metadata": {},
          "execution_count": 22
        }
      ]
    },
    {
      "cell_type": "markdown",
      "source": [
        "##2.1.6 Conversion to Other Python Objects"
      ],
      "metadata": {
        "id": "RX_E2BthaXlF"
      }
    },
    {
      "cell_type": "code",
      "source": [
        "#cek tipe array\n",
        "A = X.numpy()\n",
        "B = torch.from_numpy(A)\n",
        "type(A), type(B)"
      ],
      "metadata": {
        "colab": {
          "base_uri": "https://localhost:8080/"
        },
        "id": "WZHK7VsCaWRg",
        "outputId": "31188375-f8ca-4d69-bd40-00b1d146b855"
      },
      "execution_count": null,
      "outputs": [
        {
          "output_type": "execute_result",
          "data": {
            "text/plain": [
              "(numpy.ndarray, torch.Tensor)"
            ]
          },
          "metadata": {},
          "execution_count": 23
        }
      ]
    },
    {
      "cell_type": "code",
      "source": [
        "a = torch.tensor([3.5])\n",
        "a, a.item(), float(a), int(a)"
      ],
      "metadata": {
        "id": "yvZvBRZQadzf"
      },
      "execution_count": null,
      "outputs": []
    },
    {
      "cell_type": "code",
      "source": [
        ""
      ],
      "metadata": {
        "id": "t5gUh7HVagDW"
      },
      "execution_count": null,
      "outputs": []
    },
    {
      "cell_type": "markdown",
      "source": [
        "#2.2 Data Preprocessing\n",
        "\n",
        "\n",
        "---\n",
        "\n",
        "\n",
        "\n",
        "---\n",
        "\n"
      ],
      "metadata": {
        "id": "rE6QmG0KbRBv"
      }
    },
    {
      "cell_type": "markdown",
      "source": [
        "##2.2.1 Reading the Dataset"
      ],
      "metadata": {
        "id": "zteLPeP7bVvH"
      }
    },
    {
      "cell_type": "code",
      "execution_count": null,
      "metadata": {
        "id": "lp5eW3jma__3"
      },
      "outputs": [],
      "source": [
        "import os\n",
        "\n",
        "os.makedirs(os.path.join('..', 'data'), exist_ok=True)\n",
        "data_file = os.path.join('..', 'data', 'house_tiny.csv')\n",
        "with open(data_file, 'w') as f:\n",
        "    f.write('NumRooms,Alley,Price\\n')  # Column names\n",
        "    f.write('NA,Pave,127500\\n')  # Each row represents a data example\n",
        "    f.write('2,NA,106000\\n')\n",
        "    f.write('4,NA,178100\\n')\n",
        "    f.write('NA,NA,140000\\n')"
      ]
    },
    {
      "cell_type": "code",
      "source": [
        "# If pandas is not installed, just uncomment the following line:\n",
        "# !pip install pandas\n",
        "import pandas as pd\n",
        "\n",
        "data = pd.read_csv(data_file)\n",
        "print(data)"
      ],
      "metadata": {
        "colab": {
          "base_uri": "https://localhost:8080/"
        },
        "id": "1pcmHBP9cgL9",
        "outputId": "e1c33635-70d1-46e9-a448-612fa4c8ab93"
      },
      "execution_count": null,
      "outputs": [
        {
          "output_type": "stream",
          "name": "stdout",
          "text": [
            "   NumRooms Alley   Price\n",
            "0       NaN  Pave  127500\n",
            "1       2.0   NaN  106000\n",
            "2       4.0   NaN  178100\n",
            "3       NaN   NaN  140000\n"
          ]
        }
      ]
    },
    {
      "cell_type": "markdown",
      "source": [
        "#2.2.2 Handling Missing Data"
      ],
      "metadata": {
        "id": "dNP6jn0xcpn4"
      }
    },
    {
      "cell_type": "markdown",
      "source": [
        "Untuk menghandle missing data, kita dapat melakukan:\n",
        "* Imputation (mengganti *missing values* dengan memasukkan suatu nilai)\n",
        "* Deletion (mengabaikan *missing values*)\n",
        "\n",
        "$iloc$: men-split data menjadi input dan output, di mana yang pertama mengambil dua kolom pertama sedangkan yang terakhir hanya menyimpan kolom terakhir."
      ],
      "metadata": {
        "id": "-bI9_ZKivJ5Z"
      }
    },
    {
      "cell_type": "code",
      "source": [
        "inputs, outputs = data.iloc[:, 0:2], data.iloc[:, 2]\n",
        "inputs = inputs.fillna(inputs.mean())\n",
        "print(inputs)"
      ],
      "metadata": {
        "colab": {
          "base_uri": "https://localhost:8080/"
        },
        "id": "4BC3itcccnFR",
        "outputId": "ad8ff669-da23-407f-881b-f186221e11b2"
      },
      "execution_count": null,
      "outputs": [
        {
          "output_type": "stream",
          "name": "stdout",
          "text": [
            "   NumRooms Alley\n",
            "0       3.0  Pave\n",
            "1       2.0   NaN\n",
            "2       4.0   NaN\n",
            "3       3.0   NaN\n"
          ]
        },
        {
          "output_type": "stream",
          "name": "stderr",
          "text": [
            "/usr/local/lib/python3.7/dist-packages/ipykernel_launcher.py:2: FutureWarning: Dropping of nuisance columns in DataFrame reductions (with 'numeric_only=None') is deprecated; in a future version this will raise TypeError.  Select only valid columns before calling the reduction.\n",
            "  \n"
          ]
        }
      ]
    },
    {
      "cell_type": "code",
      "source": [
        "inputs = pd.get_dummies(inputs, dummy_na=True)\n",
        "print(inputs)"
      ],
      "metadata": {
        "colab": {
          "base_uri": "https://localhost:8080/"
        },
        "id": "UdaPpnuVcvRF",
        "outputId": "b4e2ffcf-1d70-444d-caa6-2cf9b0c4a254"
      },
      "execution_count": null,
      "outputs": [
        {
          "output_type": "stream",
          "name": "stdout",
          "text": [
            "   NumRooms  Alley_Pave  Alley_nan\n",
            "0       3.0           1          0\n",
            "1       2.0           0          1\n",
            "2       4.0           0          1\n",
            "3       3.0           0          1\n"
          ]
        }
      ]
    },
    {
      "cell_type": "markdown",
      "source": [
        "##2.2.3 Conversion to the Tensor Format"
      ],
      "metadata": {
        "id": "LSW9Z_Vwc0MV"
      }
    },
    {
      "cell_type": "code",
      "source": [
        "import torch\n",
        "\n",
        "X, y = torch.tensor(inputs.values), torch.tensor(outputs.values)\n",
        "X, y"
      ],
      "metadata": {
        "colab": {
          "base_uri": "https://localhost:8080/"
        },
        "id": "nHJg8Vp5cyPo",
        "outputId": "3502651f-777c-435f-dd1c-da80a970299f"
      },
      "execution_count": null,
      "outputs": [
        {
          "output_type": "execute_result",
          "data": {
            "text/plain": [
              "(tensor([[3., 1., 0.],\n",
              "         [2., 0., 1.],\n",
              "         [4., 0., 1.],\n",
              "         [3., 0., 1.]], dtype=torch.float64),\n",
              " tensor([127500, 106000, 178100, 140000]))"
            ]
          },
          "metadata": {},
          "execution_count": 5
        }
      ]
    },
    {
      "cell_type": "code",
      "source": [
        ""
      ],
      "metadata": {
        "id": "ITW6_M2kBMMF"
      },
      "execution_count": null,
      "outputs": []
    },
    {
      "cell_type": "markdown",
      "source": [
        "#2.3 Linear Algebra\n",
        "\n",
        "---\n",
        "\n",
        "\n",
        "\n",
        "---\n",
        "\n"
      ],
      "metadata": {
        "id": "g6FRNjf8daUm"
      }
    },
    {
      "cell_type": "markdown",
      "source": [
        "##2.3.1 Scalars"
      ],
      "metadata": {
        "id": "jAnyg1DhdfEF"
      }
    },
    {
      "cell_type": "code",
      "execution_count": null,
      "metadata": {
        "colab": {
          "base_uri": "https://localhost:8080/"
        },
        "id": "JgDcwOWfdYcZ",
        "outputId": "c9e03a6e-348c-40fd-edd2-c45f1899e451"
      },
      "outputs": [
        {
          "output_type": "execute_result",
          "data": {
            "text/plain": [
              "(tensor(5.), tensor(6.), tensor(1.5000), tensor(9.))"
            ]
          },
          "metadata": {},
          "execution_count": 1
        }
      ],
      "source": [
        "import torch\n",
        "\n",
        "x = torch.tensor(3.0)\n",
        "y = torch.tensor(2.0)\n",
        "\n",
        "x + y, x * y, x / y, x**y"
      ]
    },
    {
      "cell_type": "markdown",
      "source": [
        "##2.3.2 Vectors"
      ],
      "metadata": {
        "id": "35P_S354dnRC"
      }
    },
    {
      "cell_type": "code",
      "source": [
        "x = torch.arange(4)\n",
        "x"
      ],
      "metadata": {
        "colab": {
          "base_uri": "https://localhost:8080/"
        },
        "id": "GCfPvGlydkRd",
        "outputId": "c44863c3-c2ee-41f7-e6e0-e3e9652b4143"
      },
      "execution_count": null,
      "outputs": [
        {
          "output_type": "execute_result",
          "data": {
            "text/plain": [
              "tensor([0, 1, 2, 3])"
            ]
          },
          "metadata": {},
          "execution_count": 2
        }
      ]
    },
    {
      "cell_type": "code",
      "source": [
        "x[3]"
      ],
      "metadata": {
        "colab": {
          "base_uri": "https://localhost:8080/"
        },
        "id": "71rD4ZBddsPA",
        "outputId": "4f0509a5-73c3-4a21-d4c1-9ece70196de6"
      },
      "execution_count": null,
      "outputs": [
        {
          "output_type": "execute_result",
          "data": {
            "text/plain": [
              "tensor(3)"
            ]
          },
          "metadata": {},
          "execution_count": 3
        }
      ]
    },
    {
      "cell_type": "markdown",
      "source": [
        "###2.3.2.1 Length, Dimensionality, and Shape"
      ],
      "metadata": {
        "id": "us8NnWARdwwB"
      }
    },
    {
      "cell_type": "code",
      "source": [
        "len(x)"
      ],
      "metadata": {
        "colab": {
          "base_uri": "https://localhost:8080/"
        },
        "id": "08rOPL0UduhI",
        "outputId": "2f72ae62-c70e-423e-8f41-500c4814c0cf"
      },
      "execution_count": null,
      "outputs": [
        {
          "output_type": "execute_result",
          "data": {
            "text/plain": [
              "4"
            ]
          },
          "metadata": {},
          "execution_count": 4
        }
      ]
    },
    {
      "cell_type": "code",
      "source": [
        "x.shape"
      ],
      "metadata": {
        "colab": {
          "base_uri": "https://localhost:8080/"
        },
        "id": "kujA41Wqd2BU",
        "outputId": "0b13cf2e-e5f7-4939-8a8a-1ac934a899e4"
      },
      "execution_count": null,
      "outputs": [
        {
          "output_type": "execute_result",
          "data": {
            "text/plain": [
              "torch.Size([4])"
            ]
          },
          "metadata": {},
          "execution_count": 5
        }
      ]
    },
    {
      "cell_type": "markdown",
      "source": [
        "##2.3.3 Matrices"
      ],
      "metadata": {
        "id": "xQcBQ28Gd6z7"
      }
    },
    {
      "cell_type": "code",
      "source": [
        "A = torch.arange(20).reshape(5, 4)\n",
        "A"
      ],
      "metadata": {
        "colab": {
          "base_uri": "https://localhost:8080/"
        },
        "id": "7ck8MQABd4Gb",
        "outputId": "987ddaf4-9b19-4729-f6a3-c9ce695c51d8"
      },
      "execution_count": null,
      "outputs": [
        {
          "output_type": "execute_result",
          "data": {
            "text/plain": [
              "tensor([[ 0,  1,  2,  3],\n",
              "        [ 4,  5,  6,  7],\n",
              "        [ 8,  9, 10, 11],\n",
              "        [12, 13, 14, 15],\n",
              "        [16, 17, 18, 19]])"
            ]
          },
          "metadata": {},
          "execution_count": 6
        }
      ]
    },
    {
      "cell_type": "code",
      "source": [
        "A.T"
      ],
      "metadata": {
        "colab": {
          "base_uri": "https://localhost:8080/"
        },
        "id": "cYNw7gBNeBmN",
        "outputId": "b73722a2-34e2-4f1c-bb8b-8ad93db7c449"
      },
      "execution_count": null,
      "outputs": [
        {
          "output_type": "execute_result",
          "data": {
            "text/plain": [
              "tensor([[ 0,  4,  8, 12, 16],\n",
              "        [ 1,  5,  9, 13, 17],\n",
              "        [ 2,  6, 10, 14, 18],\n",
              "        [ 3,  7, 11, 15, 19]])"
            ]
          },
          "metadata": {},
          "execution_count": 7
        }
      ]
    },
    {
      "cell_type": "code",
      "source": [
        "B = torch.tensor([[1, 2, 3], [2, 0, 4], [3, 4, 5]])\n",
        "B"
      ],
      "metadata": {
        "colab": {
          "base_uri": "https://localhost:8080/"
        },
        "id": "N8N_0xvOeEFP",
        "outputId": "e777b198-fafc-4b11-dea9-904a84ec1059"
      },
      "execution_count": null,
      "outputs": [
        {
          "output_type": "execute_result",
          "data": {
            "text/plain": [
              "tensor([[1, 2, 3],\n",
              "        [2, 0, 4],\n",
              "        [3, 4, 5]])"
            ]
          },
          "metadata": {},
          "execution_count": 8
        }
      ]
    },
    {
      "cell_type": "code",
      "source": [
        "B == B.T"
      ],
      "metadata": {
        "colab": {
          "base_uri": "https://localhost:8080/"
        },
        "id": "3yqiD4oTeGBf",
        "outputId": "cc8c5fe0-bb1d-498c-cdc9-20fef588ffc9"
      },
      "execution_count": null,
      "outputs": [
        {
          "output_type": "execute_result",
          "data": {
            "text/plain": [
              "tensor([[True, True, True],\n",
              "        [True, True, True],\n",
              "        [True, True, True]])"
            ]
          },
          "metadata": {},
          "execution_count": 9
        }
      ]
    },
    {
      "cell_type": "markdown",
      "source": [
        "##2.3.4 Tensors"
      ],
      "metadata": {
        "id": "ecqeW_RseLAS"
      }
    },
    {
      "cell_type": "code",
      "source": [
        "X = torch.arange(24).reshape(2, 3, 4)\n",
        "X"
      ],
      "metadata": {
        "colab": {
          "base_uri": "https://localhost:8080/"
        },
        "id": "_K88ZpbDeI3O",
        "outputId": "d426642a-1110-43f5-cee6-f4d5d23ec9d4"
      },
      "execution_count": null,
      "outputs": [
        {
          "output_type": "execute_result",
          "data": {
            "text/plain": [
              "tensor([[[ 0,  1,  2,  3],\n",
              "         [ 4,  5,  6,  7],\n",
              "         [ 8,  9, 10, 11]],\n",
              "\n",
              "        [[12, 13, 14, 15],\n",
              "         [16, 17, 18, 19],\n",
              "         [20, 21, 22, 23]]])"
            ]
          },
          "metadata": {},
          "execution_count": 10
        }
      ]
    },
    {
      "cell_type": "markdown",
      "source": [
        "##2.3.5 Basic Properties of Tensor Arithmetic"
      ],
      "metadata": {
        "id": "JrUsWnw4eSQr"
      }
    },
    {
      "cell_type": "code",
      "source": [
        "A = torch.arange(20, dtype=torch.float32).reshape(5, 4)\n",
        "B = A.clone()  # Assign a copy of `A` to `B` by allocating new memory\n",
        "A, A + B"
      ],
      "metadata": {
        "colab": {
          "base_uri": "https://localhost:8080/"
        },
        "id": "6-BSFjiZeO_p",
        "outputId": "9f1a5933-d627-41c6-a8ca-caa0cce4cda0"
      },
      "execution_count": null,
      "outputs": [
        {
          "output_type": "execute_result",
          "data": {
            "text/plain": [
              "(tensor([[ 0.,  1.,  2.,  3.],\n",
              "         [ 4.,  5.,  6.,  7.],\n",
              "         [ 8.,  9., 10., 11.],\n",
              "         [12., 13., 14., 15.],\n",
              "         [16., 17., 18., 19.]]), tensor([[ 0.,  2.,  4.,  6.],\n",
              "         [ 8., 10., 12., 14.],\n",
              "         [16., 18., 20., 22.],\n",
              "         [24., 26., 28., 30.],\n",
              "         [32., 34., 36., 38.]]))"
            ]
          },
          "metadata": {},
          "execution_count": 11
        }
      ]
    },
    {
      "cell_type": "code",
      "source": [
        "A * B"
      ],
      "metadata": {
        "colab": {
          "base_uri": "https://localhost:8080/"
        },
        "id": "Snf96Nc6eWMU",
        "outputId": "fe66c8ad-0f9f-4885-e57a-33e42eb786a1"
      },
      "execution_count": null,
      "outputs": [
        {
          "output_type": "execute_result",
          "data": {
            "text/plain": [
              "tensor([[  0.,   1.,   4.,   9.],\n",
              "        [ 16.,  25.,  36.,  49.],\n",
              "        [ 64.,  81., 100., 121.],\n",
              "        [144., 169., 196., 225.],\n",
              "        [256., 289., 324., 361.]])"
            ]
          },
          "metadata": {},
          "execution_count": 12
        }
      ]
    },
    {
      "cell_type": "code",
      "source": [
        "a = 2\n",
        "X = torch.arange(24).reshape(2, 3, 4)\n",
        "a + X, (a * X).shape"
      ],
      "metadata": {
        "colab": {
          "base_uri": "https://localhost:8080/"
        },
        "id": "wWYkuZb1eZHF",
        "outputId": "6c68bff2-d310-4b1f-8d5d-4922e14930a5"
      },
      "execution_count": null,
      "outputs": [
        {
          "output_type": "execute_result",
          "data": {
            "text/plain": [
              "(tensor([[[ 2,  3,  4,  5],\n",
              "          [ 6,  7,  8,  9],\n",
              "          [10, 11, 12, 13]],\n",
              " \n",
              "         [[14, 15, 16, 17],\n",
              "          [18, 19, 20, 21],\n",
              "          [22, 23, 24, 25]]]), torch.Size([2, 3, 4]))"
            ]
          },
          "metadata": {},
          "execution_count": 13
        }
      ]
    },
    {
      "cell_type": "markdown",
      "source": [
        "##2.3.6 Reduction"
      ],
      "metadata": {
        "id": "71YGv_JMedx6"
      }
    },
    {
      "cell_type": "code",
      "source": [
        "x = torch.arange(4, dtype=torch.float32)\n",
        "x, x.sum()"
      ],
      "metadata": {
        "colab": {
          "base_uri": "https://localhost:8080/"
        },
        "id": "15JZskF8ea_u",
        "outputId": "4edb9a96-70c6-43b5-cc6d-97484a65f8b3"
      },
      "execution_count": null,
      "outputs": [
        {
          "output_type": "execute_result",
          "data": {
            "text/plain": [
              "(tensor([0., 1., 2., 3.]), tensor(6.))"
            ]
          },
          "metadata": {},
          "execution_count": 14
        }
      ]
    },
    {
      "cell_type": "code",
      "source": [
        "A.shape, A.sum()"
      ],
      "metadata": {
        "colab": {
          "base_uri": "https://localhost:8080/"
        },
        "id": "j4KkvJC5ehUg",
        "outputId": "275f4a2c-f5e4-4d52-dbbc-725feef67798"
      },
      "execution_count": null,
      "outputs": [
        {
          "output_type": "execute_result",
          "data": {
            "text/plain": [
              "(torch.Size([5, 4]), tensor(190.))"
            ]
          },
          "metadata": {},
          "execution_count": 15
        }
      ]
    },
    {
      "cell_type": "code",
      "source": [
        "A_sum_axis0 = A.sum(axis=0)\n",
        "A_sum_axis0, A_sum_axis0.shape"
      ],
      "metadata": {
        "colab": {
          "base_uri": "https://localhost:8080/"
        },
        "id": "Olqc341Bei2G",
        "outputId": "4d088aa5-2b6b-4051-8252-1ee61c240d0c"
      },
      "execution_count": null,
      "outputs": [
        {
          "output_type": "execute_result",
          "data": {
            "text/plain": [
              "(tensor([40., 45., 50., 55.]), torch.Size([4]))"
            ]
          },
          "metadata": {},
          "execution_count": 16
        }
      ]
    },
    {
      "cell_type": "code",
      "source": [
        "A_sum_axis1 = A.sum(axis=1)\n",
        "A_sum_axis1, A_sum_axis1.shape"
      ],
      "metadata": {
        "colab": {
          "base_uri": "https://localhost:8080/"
        },
        "id": "GSgiyxybem29",
        "outputId": "9b6f664f-6ef5-4cb9-dc8b-442f341818ce"
      },
      "execution_count": null,
      "outputs": [
        {
          "output_type": "execute_result",
          "data": {
            "text/plain": [
              "(tensor([ 6., 22., 38., 54., 70.]), torch.Size([5]))"
            ]
          },
          "metadata": {},
          "execution_count": 17
        }
      ]
    },
    {
      "cell_type": "code",
      "source": [
        "A.sum(axis=[0, 1])  # Same as `A.sum()`"
      ],
      "metadata": {
        "colab": {
          "base_uri": "https://localhost:8080/"
        },
        "id": "08G5htatepQ-",
        "outputId": "393a278e-192f-4250-e4aa-7d9ce0289f32"
      },
      "execution_count": null,
      "outputs": [
        {
          "output_type": "execute_result",
          "data": {
            "text/plain": [
              "tensor(190.)"
            ]
          },
          "metadata": {},
          "execution_count": 18
        }
      ]
    },
    {
      "cell_type": "code",
      "source": [
        "A.mean(), A.sum() / A.numel()"
      ],
      "metadata": {
        "colab": {
          "base_uri": "https://localhost:8080/"
        },
        "id": "fhn6hup6erO9",
        "outputId": "d0482c73-5964-48f7-f642-ca4ff5fb5c67"
      },
      "execution_count": null,
      "outputs": [
        {
          "output_type": "execute_result",
          "data": {
            "text/plain": [
              "(tensor(9.5000), tensor(9.5000))"
            ]
          },
          "metadata": {},
          "execution_count": 19
        }
      ]
    },
    {
      "cell_type": "code",
      "source": [
        "A.mean(axis=0), A.sum(axis=0) / A.shape[0]"
      ],
      "metadata": {
        "colab": {
          "base_uri": "https://localhost:8080/"
        },
        "id": "cPxfiLnGetgU",
        "outputId": "3dd7a7a7-b6fd-4dde-ce70-646cdbd2c652"
      },
      "execution_count": null,
      "outputs": [
        {
          "output_type": "execute_result",
          "data": {
            "text/plain": [
              "(tensor([ 8.,  9., 10., 11.]), tensor([ 8.,  9., 10., 11.]))"
            ]
          },
          "metadata": {},
          "execution_count": 20
        }
      ]
    },
    {
      "cell_type": "markdown",
      "source": [
        "###2.3.6.1 Non-Reduction Sum"
      ],
      "metadata": {
        "id": "NirOsR_qe0Yf"
      }
    },
    {
      "cell_type": "code",
      "source": [
        "sum_A = A.sum(axis=1, keepdims=True)\n",
        "sum_A"
      ],
      "metadata": {
        "colab": {
          "base_uri": "https://localhost:8080/"
        },
        "id": "Udic8XDxeyFJ",
        "outputId": "df449813-def2-4ec0-d58a-0325670e9079"
      },
      "execution_count": null,
      "outputs": [
        {
          "output_type": "execute_result",
          "data": {
            "text/plain": [
              "tensor([[ 6.],\n",
              "        [22.],\n",
              "        [38.],\n",
              "        [54.],\n",
              "        [70.]])"
            ]
          },
          "metadata": {},
          "execution_count": 21
        }
      ]
    },
    {
      "cell_type": "code",
      "source": [
        "A / sum_A"
      ],
      "metadata": {
        "colab": {
          "base_uri": "https://localhost:8080/"
        },
        "id": "wfPFeQZae3Ve",
        "outputId": "7c699d77-5d79-4cbb-8ac7-fe3d08fe17c8"
      },
      "execution_count": null,
      "outputs": [
        {
          "output_type": "execute_result",
          "data": {
            "text/plain": [
              "tensor([[0.0000, 0.1667, 0.3333, 0.5000],\n",
              "        [0.1818, 0.2273, 0.2727, 0.3182],\n",
              "        [0.2105, 0.2368, 0.2632, 0.2895],\n",
              "        [0.2222, 0.2407, 0.2593, 0.2778],\n",
              "        [0.2286, 0.2429, 0.2571, 0.2714]])"
            ]
          },
          "metadata": {},
          "execution_count": 22
        }
      ]
    },
    {
      "cell_type": "code",
      "source": [
        "A.cumsum(axis=0)"
      ],
      "metadata": {
        "colab": {
          "base_uri": "https://localhost:8080/"
        },
        "id": "6Dty9NMYe5jv",
        "outputId": "140787b6-8335-4194-edb9-bfb4549e642f"
      },
      "execution_count": null,
      "outputs": [
        {
          "output_type": "execute_result",
          "data": {
            "text/plain": [
              "tensor([[ 0.,  1.,  2.,  3.],\n",
              "        [ 4.,  6.,  8., 10.],\n",
              "        [12., 15., 18., 21.],\n",
              "        [24., 28., 32., 36.],\n",
              "        [40., 45., 50., 55.]])"
            ]
          },
          "metadata": {},
          "execution_count": 23
        }
      ]
    },
    {
      "cell_type": "markdown",
      "source": [
        "##2.3.7 Dot Products"
      ],
      "metadata": {
        "id": "FkjLqHgCe-No"
      }
    },
    {
      "cell_type": "code",
      "source": [
        "y = torch.ones(4, dtype = torch.float32)\n",
        "x, y, torch.dot(x, y)"
      ],
      "metadata": {
        "colab": {
          "base_uri": "https://localhost:8080/"
        },
        "id": "UfKTfaNle7ps",
        "outputId": "a7d68f1c-9825-448b-c31a-69658ee4a3ea"
      },
      "execution_count": null,
      "outputs": [
        {
          "output_type": "execute_result",
          "data": {
            "text/plain": [
              "(tensor([0., 1., 2., 3.]), tensor([1., 1., 1., 1.]), tensor(6.))"
            ]
          },
          "metadata": {},
          "execution_count": 24
        }
      ]
    },
    {
      "cell_type": "code",
      "source": [
        "torch.sum(x * y)"
      ],
      "metadata": {
        "colab": {
          "base_uri": "https://localhost:8080/"
        },
        "id": "MyIiu59JfBen",
        "outputId": "4020a02d-4657-4354-aaf7-7f9b8a569f14"
      },
      "execution_count": null,
      "outputs": [
        {
          "output_type": "execute_result",
          "data": {
            "text/plain": [
              "tensor(6.)"
            ]
          },
          "metadata": {},
          "execution_count": 25
        }
      ]
    },
    {
      "cell_type": "markdown",
      "source": [
        "##2.3.8 Matrix-Vector Products"
      ],
      "metadata": {
        "id": "9SCvXvXefGkp"
      }
    },
    {
      "cell_type": "code",
      "source": [
        "A.shape, x.shape, torch.mv(A, x)"
      ],
      "metadata": {
        "colab": {
          "base_uri": "https://localhost:8080/"
        },
        "id": "IM3eFXaKfC8Q",
        "outputId": "7ce074ec-196d-4c4d-874a-fbe2f8a1c12b"
      },
      "execution_count": null,
      "outputs": [
        {
          "output_type": "execute_result",
          "data": {
            "text/plain": [
              "(torch.Size([5, 4]), torch.Size([4]), tensor([ 14.,  38.,  62.,  86., 110.]))"
            ]
          },
          "metadata": {},
          "execution_count": 26
        }
      ]
    },
    {
      "cell_type": "markdown",
      "source": [
        "##2.3.9. Matrix-Matrix Multiplication"
      ],
      "metadata": {
        "id": "qEYP3h7nfON_"
      }
    },
    {
      "cell_type": "code",
      "source": [
        "B = torch.ones(4, 3)\n",
        "torch.mm(A, B)"
      ],
      "metadata": {
        "colab": {
          "base_uri": "https://localhost:8080/"
        },
        "id": "aM-xLMpFfLNI",
        "outputId": "118aef33-dae4-4d28-f221-b957b99e4645"
      },
      "execution_count": null,
      "outputs": [
        {
          "output_type": "execute_result",
          "data": {
            "text/plain": [
              "tensor([[ 6.,  6.,  6.],\n",
              "        [22., 22., 22.],\n",
              "        [38., 38., 38.],\n",
              "        [54., 54., 54.],\n",
              "        [70., 70., 70.]])"
            ]
          },
          "metadata": {},
          "execution_count": 27
        }
      ]
    },
    {
      "cell_type": "markdown",
      "source": [
        "##2.3.10. Norms"
      ],
      "metadata": {
        "id": "hMVp-2RAfVNG"
      }
    },
    {
      "cell_type": "code",
      "source": [
        "u = torch.tensor([3.0, -4.0])\n",
        "torch.norm(u)"
      ],
      "metadata": {
        "colab": {
          "base_uri": "https://localhost:8080/"
        },
        "id": "iDDA27K1fTtP",
        "outputId": "1e61fe50-e6c6-4b40-a4d2-77523c570570"
      },
      "execution_count": null,
      "outputs": [
        {
          "output_type": "execute_result",
          "data": {
            "text/plain": [
              "tensor(5.)"
            ]
          },
          "metadata": {},
          "execution_count": 28
        }
      ]
    },
    {
      "cell_type": "code",
      "source": [
        "torch.abs(u).sum()"
      ],
      "metadata": {
        "colab": {
          "base_uri": "https://localhost:8080/"
        },
        "id": "fIrPEns_faxk",
        "outputId": "06d93c9b-4caf-4bc5-8e1f-516a66aa425d"
      },
      "execution_count": null,
      "outputs": [
        {
          "output_type": "execute_result",
          "data": {
            "text/plain": [
              "tensor(7.)"
            ]
          },
          "metadata": {},
          "execution_count": 29
        }
      ]
    },
    {
      "cell_type": "code",
      "source": [
        "torch.norm(torch.ones((4, 9)))"
      ],
      "metadata": {
        "colab": {
          "base_uri": "https://localhost:8080/"
        },
        "id": "nrt1x83Xfch4",
        "outputId": "33b017d0-215c-45be-88dc-fc80b7ed6a46"
      },
      "execution_count": null,
      "outputs": [
        {
          "output_type": "execute_result",
          "data": {
            "text/plain": [
              "tensor(6.)"
            ]
          },
          "metadata": {},
          "execution_count": 30
        }
      ]
    },
    {
      "cell_type": "markdown",
      "source": [
        "#2.4. Calculus\n",
        "\n",
        "---\n",
        "\n",
        "\n",
        "\n",
        "---\n",
        "\n"
      ],
      "metadata": {
        "id": "woyIvGorgHjH"
      }
    },
    {
      "cell_type": "markdown",
      "source": [
        "##2.4.1. Derivatives and Differentiation"
      ],
      "metadata": {
        "id": "pNezyVq9gNxS"
      }
    },
    {
      "cell_type": "code",
      "source": [
        "pip install d2l"
      ],
      "metadata": {
        "colab": {
          "base_uri": "https://localhost:8080/",
          "height": 1000
        },
        "id": "QqWVJ4MXBwCU",
        "outputId": "0f97c890-53e9-4985-fac1-0dd65f880d45"
      },
      "execution_count": null,
      "outputs": [
        {
          "output_type": "stream",
          "name": "stdout",
          "text": [
            "Collecting d2l\n",
            "  Downloading d2l-0.17.3-py3-none-any.whl (82 kB)\n",
            "\u001b[K     |████████████████████████████████| 82 kB 554 kB/s \n",
            "\u001b[?25hCollecting requests==2.25.1\n",
            "  Downloading requests-2.25.1-py2.py3-none-any.whl (61 kB)\n",
            "\u001b[K     |████████████████████████████████| 61 kB 8.1 MB/s \n",
            "\u001b[?25hCollecting pandas==1.2.2\n",
            "  Downloading pandas-1.2.2-cp37-cp37m-manylinux1_x86_64.whl (9.9 MB)\n",
            "\u001b[K     |████████████████████████████████| 9.9 MB 37.5 MB/s \n",
            "\u001b[?25hCollecting numpy==1.18.5\n",
            "  Downloading numpy-1.18.5-cp37-cp37m-manylinux1_x86_64.whl (20.1 MB)\n",
            "\u001b[K     |████████████████████████████████| 20.1 MB 1.3 MB/s \n",
            "\u001b[?25hCollecting matplotlib==3.3.3\n",
            "  Downloading matplotlib-3.3.3-cp37-cp37m-manylinux1_x86_64.whl (11.6 MB)\n",
            "\u001b[K     |████████████████████████████████| 11.6 MB 41.4 MB/s \n",
            "\u001b[?25hRequirement already satisfied: jupyter==1.0.0 in /usr/local/lib/python3.7/dist-packages (from d2l) (1.0.0)\n",
            "Requirement already satisfied: ipykernel in /usr/local/lib/python3.7/dist-packages (from jupyter==1.0.0->d2l) (4.10.1)\n",
            "Requirement already satisfied: ipywidgets in /usr/local/lib/python3.7/dist-packages (from jupyter==1.0.0->d2l) (7.6.5)\n",
            "Requirement already satisfied: qtconsole in /usr/local/lib/python3.7/dist-packages (from jupyter==1.0.0->d2l) (5.2.2)\n",
            "Requirement already satisfied: notebook in /usr/local/lib/python3.7/dist-packages (from jupyter==1.0.0->d2l) (5.3.1)\n",
            "Requirement already satisfied: nbconvert in /usr/local/lib/python3.7/dist-packages (from jupyter==1.0.0->d2l) (5.6.1)\n",
            "Requirement already satisfied: jupyter-console in /usr/local/lib/python3.7/dist-packages (from jupyter==1.0.0->d2l) (5.2.0)\n",
            "Requirement already satisfied: pillow>=6.2.0 in /usr/local/lib/python3.7/dist-packages (from matplotlib==3.3.3->d2l) (7.1.2)\n",
            "Requirement already satisfied: kiwisolver>=1.0.1 in /usr/local/lib/python3.7/dist-packages (from matplotlib==3.3.3->d2l) (1.3.2)\n",
            "Requirement already satisfied: python-dateutil>=2.1 in /usr/local/lib/python3.7/dist-packages (from matplotlib==3.3.3->d2l) (2.8.2)\n",
            "Requirement already satisfied: pyparsing!=2.0.4,!=2.1.2,!=2.1.6,>=2.0.3 in /usr/local/lib/python3.7/dist-packages (from matplotlib==3.3.3->d2l) (3.0.7)\n",
            "Requirement already satisfied: cycler>=0.10 in /usr/local/lib/python3.7/dist-packages (from matplotlib==3.3.3->d2l) (0.11.0)\n",
            "Requirement already satisfied: pytz>=2017.3 in /usr/local/lib/python3.7/dist-packages (from pandas==1.2.2->d2l) (2018.9)\n",
            "Requirement already satisfied: urllib3<1.27,>=1.21.1 in /usr/local/lib/python3.7/dist-packages (from requests==2.25.1->d2l) (1.24.3)\n",
            "Requirement already satisfied: idna<3,>=2.5 in /usr/local/lib/python3.7/dist-packages (from requests==2.25.1->d2l) (2.10)\n",
            "Requirement already satisfied: chardet<5,>=3.0.2 in /usr/local/lib/python3.7/dist-packages (from requests==2.25.1->d2l) (3.0.4)\n",
            "Requirement already satisfied: certifi>=2017.4.17 in /usr/local/lib/python3.7/dist-packages (from requests==2.25.1->d2l) (2021.10.8)\n",
            "Requirement already satisfied: six>=1.5 in /usr/local/lib/python3.7/dist-packages (from python-dateutil>=2.1->matplotlib==3.3.3->d2l) (1.15.0)\n",
            "Requirement already satisfied: ipython>=4.0.0 in /usr/local/lib/python3.7/dist-packages (from ipykernel->jupyter==1.0.0->d2l) (5.5.0)\n",
            "Requirement already satisfied: jupyter-client in /usr/local/lib/python3.7/dist-packages (from ipykernel->jupyter==1.0.0->d2l) (5.3.5)\n",
            "Requirement already satisfied: traitlets>=4.1.0 in /usr/local/lib/python3.7/dist-packages (from ipykernel->jupyter==1.0.0->d2l) (5.1.1)\n",
            "Requirement already satisfied: tornado>=4.0 in /usr/local/lib/python3.7/dist-packages (from ipykernel->jupyter==1.0.0->d2l) (5.1.1)\n",
            "Requirement already satisfied: pickleshare in /usr/local/lib/python3.7/dist-packages (from ipython>=4.0.0->ipykernel->jupyter==1.0.0->d2l) (0.7.5)\n",
            "Requirement already satisfied: setuptools>=18.5 in /usr/local/lib/python3.7/dist-packages (from ipython>=4.0.0->ipykernel->jupyter==1.0.0->d2l) (57.4.0)\n",
            "Requirement already satisfied: decorator in /usr/local/lib/python3.7/dist-packages (from ipython>=4.0.0->ipykernel->jupyter==1.0.0->d2l) (4.4.2)\n",
            "Requirement already satisfied: pexpect in /usr/local/lib/python3.7/dist-packages (from ipython>=4.0.0->ipykernel->jupyter==1.0.0->d2l) (4.8.0)\n",
            "Requirement already satisfied: simplegeneric>0.8 in /usr/local/lib/python3.7/dist-packages (from ipython>=4.0.0->ipykernel->jupyter==1.0.0->d2l) (0.8.1)\n",
            "Requirement already satisfied: prompt-toolkit<2.0.0,>=1.0.4 in /usr/local/lib/python3.7/dist-packages (from ipython>=4.0.0->ipykernel->jupyter==1.0.0->d2l) (1.0.18)\n",
            "Requirement already satisfied: pygments in /usr/local/lib/python3.7/dist-packages (from ipython>=4.0.0->ipykernel->jupyter==1.0.0->d2l) (2.6.1)\n",
            "Requirement already satisfied: wcwidth in /usr/local/lib/python3.7/dist-packages (from prompt-toolkit<2.0.0,>=1.0.4->ipython>=4.0.0->ipykernel->jupyter==1.0.0->d2l) (0.2.5)\n",
            "Requirement already satisfied: ipython-genutils~=0.2.0 in /usr/local/lib/python3.7/dist-packages (from ipywidgets->jupyter==1.0.0->d2l) (0.2.0)\n",
            "Requirement already satisfied: widgetsnbextension~=3.5.0 in /usr/local/lib/python3.7/dist-packages (from ipywidgets->jupyter==1.0.0->d2l) (3.5.2)\n",
            "Requirement already satisfied: nbformat>=4.2.0 in /usr/local/lib/python3.7/dist-packages (from ipywidgets->jupyter==1.0.0->d2l) (5.1.3)\n",
            "Requirement already satisfied: jupyterlab-widgets>=1.0.0 in /usr/local/lib/python3.7/dist-packages (from ipywidgets->jupyter==1.0.0->d2l) (1.0.2)\n",
            "Requirement already satisfied: jsonschema!=2.5.0,>=2.4 in /usr/local/lib/python3.7/dist-packages (from nbformat>=4.2.0->ipywidgets->jupyter==1.0.0->d2l) (4.3.3)\n",
            "Requirement already satisfied: jupyter-core in /usr/local/lib/python3.7/dist-packages (from nbformat>=4.2.0->ipywidgets->jupyter==1.0.0->d2l) (4.9.2)\n",
            "Requirement already satisfied: importlib-resources>=1.4.0 in /usr/local/lib/python3.7/dist-packages (from jsonschema!=2.5.0,>=2.4->nbformat>=4.2.0->ipywidgets->jupyter==1.0.0->d2l) (5.4.0)\n",
            "Requirement already satisfied: pyrsistent!=0.17.0,!=0.17.1,!=0.17.2,>=0.14.0 in /usr/local/lib/python3.7/dist-packages (from jsonschema!=2.5.0,>=2.4->nbformat>=4.2.0->ipywidgets->jupyter==1.0.0->d2l) (0.18.1)\n",
            "Requirement already satisfied: attrs>=17.4.0 in /usr/local/lib/python3.7/dist-packages (from jsonschema!=2.5.0,>=2.4->nbformat>=4.2.0->ipywidgets->jupyter==1.0.0->d2l) (21.4.0)\n",
            "Requirement already satisfied: typing-extensions in /usr/local/lib/python3.7/dist-packages (from jsonschema!=2.5.0,>=2.4->nbformat>=4.2.0->ipywidgets->jupyter==1.0.0->d2l) (3.10.0.2)\n",
            "Requirement already satisfied: importlib-metadata in /usr/local/lib/python3.7/dist-packages (from jsonschema!=2.5.0,>=2.4->nbformat>=4.2.0->ipywidgets->jupyter==1.0.0->d2l) (4.11.1)\n",
            "Requirement already satisfied: zipp>=3.1.0 in /usr/local/lib/python3.7/dist-packages (from importlib-resources>=1.4.0->jsonschema!=2.5.0,>=2.4->nbformat>=4.2.0->ipywidgets->jupyter==1.0.0->d2l) (3.7.0)\n",
            "Requirement already satisfied: Send2Trash in /usr/local/lib/python3.7/dist-packages (from notebook->jupyter==1.0.0->d2l) (1.8.0)\n",
            "Requirement already satisfied: terminado>=0.8.1 in /usr/local/lib/python3.7/dist-packages (from notebook->jupyter==1.0.0->d2l) (0.13.1)\n",
            "Requirement already satisfied: jinja2 in /usr/local/lib/python3.7/dist-packages (from notebook->jupyter==1.0.0->d2l) (2.11.3)\n",
            "Requirement already satisfied: pyzmq>=13 in /usr/local/lib/python3.7/dist-packages (from jupyter-client->ipykernel->jupyter==1.0.0->d2l) (22.3.0)\n",
            "Requirement already satisfied: ptyprocess in /usr/local/lib/python3.7/dist-packages (from terminado>=0.8.1->notebook->jupyter==1.0.0->d2l) (0.7.0)\n",
            "Requirement already satisfied: MarkupSafe>=0.23 in /usr/local/lib/python3.7/dist-packages (from jinja2->notebook->jupyter==1.0.0->d2l) (2.0.1)\n",
            "Requirement already satisfied: bleach in /usr/local/lib/python3.7/dist-packages (from nbconvert->jupyter==1.0.0->d2l) (4.1.0)\n",
            "Requirement already satisfied: testpath in /usr/local/lib/python3.7/dist-packages (from nbconvert->jupyter==1.0.0->d2l) (0.5.0)\n",
            "Requirement already satisfied: pandocfilters>=1.4.1 in /usr/local/lib/python3.7/dist-packages (from nbconvert->jupyter==1.0.0->d2l) (1.5.0)\n",
            "Requirement already satisfied: entrypoints>=0.2.2 in /usr/local/lib/python3.7/dist-packages (from nbconvert->jupyter==1.0.0->d2l) (0.4)\n",
            "Requirement already satisfied: defusedxml in /usr/local/lib/python3.7/dist-packages (from nbconvert->jupyter==1.0.0->d2l) (0.7.1)\n",
            "Requirement already satisfied: mistune<2,>=0.8.1 in /usr/local/lib/python3.7/dist-packages (from nbconvert->jupyter==1.0.0->d2l) (0.8.4)\n",
            "Requirement already satisfied: packaging in /usr/local/lib/python3.7/dist-packages (from bleach->nbconvert->jupyter==1.0.0->d2l) (21.3)\n",
            "Requirement already satisfied: webencodings in /usr/local/lib/python3.7/dist-packages (from bleach->nbconvert->jupyter==1.0.0->d2l) (0.5.1)\n",
            "Requirement already satisfied: qtpy in /usr/local/lib/python3.7/dist-packages (from qtconsole->jupyter==1.0.0->d2l) (2.0.1)\n",
            "Installing collected packages: numpy, requests, pandas, matplotlib, d2l\n",
            "  Attempting uninstall: numpy\n",
            "    Found existing installation: numpy 1.21.5\n",
            "    Uninstalling numpy-1.21.5:\n",
            "      Successfully uninstalled numpy-1.21.5\n",
            "  Attempting uninstall: requests\n",
            "    Found existing installation: requests 2.23.0\n",
            "    Uninstalling requests-2.23.0:\n",
            "      Successfully uninstalled requests-2.23.0\n",
            "  Attempting uninstall: pandas\n",
            "    Found existing installation: pandas 1.3.5\n",
            "    Uninstalling pandas-1.3.5:\n",
            "      Successfully uninstalled pandas-1.3.5\n",
            "  Attempting uninstall: matplotlib\n",
            "    Found existing installation: matplotlib 3.2.2\n",
            "    Uninstalling matplotlib-3.2.2:\n",
            "      Successfully uninstalled matplotlib-3.2.2\n",
            "\u001b[31mERROR: pip's dependency resolver does not currently take into account all the packages that are installed. This behaviour is the source of the following dependency conflicts.\n",
            "tensorflow 2.8.0 requires tf-estimator-nightly==2.8.0.dev2021122109, which is not installed.\n",
            "tensorflow 2.8.0 requires numpy>=1.20, but you have numpy 1.18.5 which is incompatible.\n",
            "tables 3.7.0 requires numpy>=1.19.0, but you have numpy 1.18.5 which is incompatible.\n",
            "google-colab 1.0.0 requires requests~=2.23.0, but you have requests 2.25.1 which is incompatible.\n",
            "datascience 0.10.6 requires folium==0.2.1, but you have folium 0.8.3 which is incompatible.\n",
            "albumentations 0.1.12 requires imgaug<0.2.7,>=0.2.5, but you have imgaug 0.2.9 which is incompatible.\u001b[0m\n",
            "Successfully installed d2l-0.17.3 matplotlib-3.3.3 numpy-1.18.5 pandas-1.2.2 requests-2.25.1\n"
          ]
        },
        {
          "output_type": "display_data",
          "data": {
            "application/vnd.colab-display-data+json": {
              "pip_warning": {
                "packages": [
                  "matplotlib",
                  "mpl_toolkits",
                  "numpy",
                  "pandas"
                ]
              }
            }
          },
          "metadata": {}
        }
      ]
    },
    {
      "cell_type": "code",
      "source": [
        "!pip install matplotlib==3.0.2"
      ],
      "metadata": {
        "colab": {
          "base_uri": "https://localhost:8080/",
          "height": 470
        },
        "id": "gOJRjbc-B8Sb",
        "outputId": "4f312871-f857-4284-8359-2953a5dc7e0d"
      },
      "execution_count": null,
      "outputs": [
        {
          "output_type": "stream",
          "name": "stdout",
          "text": [
            "Collecting matplotlib==3.0.2\n",
            "  Downloading matplotlib-3.0.2-cp37-cp37m-manylinux1_x86_64.whl (12.9 MB)\n",
            "\u001b[K     |████████████████████████████████| 12.9 MB 4.8 MB/s \n",
            "\u001b[?25hRequirement already satisfied: pyparsing!=2.0.4,!=2.1.2,!=2.1.6,>=2.0.1 in /usr/local/lib/python3.7/dist-packages (from matplotlib==3.0.2) (3.0.7)\n",
            "Requirement already satisfied: numpy>=1.10.0 in /usr/local/lib/python3.7/dist-packages (from matplotlib==3.0.2) (1.18.5)\n",
            "Requirement already satisfied: python-dateutil>=2.1 in /usr/local/lib/python3.7/dist-packages (from matplotlib==3.0.2) (2.8.2)\n",
            "Requirement already satisfied: cycler>=0.10 in /usr/local/lib/python3.7/dist-packages (from matplotlib==3.0.2) (0.11.0)\n",
            "Requirement already satisfied: kiwisolver>=1.0.1 in /usr/local/lib/python3.7/dist-packages (from matplotlib==3.0.2) (1.3.2)\n",
            "Requirement already satisfied: six>=1.5 in /usr/local/lib/python3.7/dist-packages (from python-dateutil>=2.1->matplotlib==3.0.2) (1.15.0)\n",
            "Installing collected packages: matplotlib\n",
            "  Attempting uninstall: matplotlib\n",
            "    Found existing installation: matplotlib 3.3.3\n",
            "    Uninstalling matplotlib-3.3.3:\n",
            "      Successfully uninstalled matplotlib-3.3.3\n",
            "\u001b[31mERROR: pip's dependency resolver does not currently take into account all the packages that are installed. This behaviour is the source of the following dependency conflicts.\n",
            "plotnine 0.6.0 requires matplotlib>=3.1.1, but you have matplotlib 3.0.2 which is incompatible.\n",
            "mizani 0.6.0 requires matplotlib>=3.1.1, but you have matplotlib 3.0.2 which is incompatible.\n",
            "d2l 0.17.3 requires matplotlib==3.3.3, but you have matplotlib 3.0.2 which is incompatible.\n",
            "albumentations 0.1.12 requires imgaug<0.2.7,>=0.2.5, but you have imgaug 0.2.9 which is incompatible.\u001b[0m\n",
            "Successfully installed matplotlib-3.0.2\n"
          ]
        },
        {
          "output_type": "display_data",
          "data": {
            "application/vnd.colab-display-data+json": {
              "pip_warning": {
                "packages": [
                  "matplotlib",
                  "mpl_toolkits"
                ]
              }
            }
          },
          "metadata": {}
        }
      ]
    },
    {
      "cell_type": "code",
      "execution_count": null,
      "metadata": {
        "id": "DXLAJbW2f8V5"
      },
      "outputs": [],
      "source": [
        "%matplotlib inline\n",
        "import numpy as np\n",
        "from IPython import display\n",
        "from d2l import torch as d2l\n",
        "\n",
        "\n",
        "def f(x):\n",
        "    return 3 * x ** 2 - 4 * x"
      ]
    },
    {
      "cell_type": "code",
      "source": [
        "def numerical_lim(f, x, h):\n",
        "    return (f(x + h) - f(x)) / h\n",
        "\n",
        "h = 0.1\n",
        "for i in range(5):\n",
        "    print(f'h={h:.5f}, numerical limit={numerical_lim(f, 1, h):.5f}')\n",
        "    h *= 0.1"
      ],
      "metadata": {
        "colab": {
          "base_uri": "https://localhost:8080/"
        },
        "id": "57J291A_hEiV",
        "outputId": "daa3c4e9-ad45-42dd-daba-6860ca29dbba"
      },
      "execution_count": null,
      "outputs": [
        {
          "output_type": "stream",
          "name": "stdout",
          "text": [
            "h=0.10000, numerical limit=2.30000\n",
            "h=0.01000, numerical limit=2.03000\n",
            "h=0.00100, numerical limit=2.00300\n",
            "h=0.00010, numerical limit=2.00030\n",
            "h=0.00001, numerical limit=2.00003\n"
          ]
        }
      ]
    },
    {
      "cell_type": "code",
      "source": [
        "def use_svg_display():  #save\n",
        "    \"\"\"Use the svg format to display a plot in Jupyter.\"\"\"\n",
        "    display.set_matplotlib_formats('svg')"
      ],
      "metadata": {
        "id": "ijA6jGZEhJ-z"
      },
      "execution_count": null,
      "outputs": []
    },
    {
      "cell_type": "code",
      "source": [
        "def set_figsize(figsize=(3.5, 2.5)):  #save\n",
        "    \"\"\"Set the figure size for matplotlib.\"\"\"\n",
        "    use_svg_display()\n",
        "    d2l.plt.rcParams['figure.figsize'] = figsize"
      ],
      "metadata": {
        "id": "kVjCwrejhNTZ"
      },
      "execution_count": null,
      "outputs": []
    },
    {
      "cell_type": "code",
      "source": [
        "#save\n",
        "def set_axes(axes, xlabel, ylabel, xlim, ylim, xscale, yscale, legend):\n",
        "    \"\"\"Set the axes for matplotlib.\"\"\"\n",
        "    axes.set_xlabel(xlabel)\n",
        "    axes.set_ylabel(ylabel)\n",
        "    axes.set_xscale(xscale)\n",
        "    axes.set_yscale(yscale)\n",
        "    axes.set_xlim(xlim)\n",
        "    axes.set_ylim(ylim)\n",
        "    if legend:\n",
        "        axes.legend(legend)\n",
        "    axes.grid()"
      ],
      "metadata": {
        "id": "0-vlYJw0hiMT"
      },
      "execution_count": null,
      "outputs": []
    },
    {
      "cell_type": "code",
      "source": [
        "#save\n",
        "def plot(X, Y=None, xlabel=None, ylabel=None, legend=None, xlim=None,\n",
        "         ylim=None, xscale='linear', yscale='linear',\n",
        "         fmts=('-', 'm--', 'g-.', 'r:'), figsize=(3.5, 2.5), axes=None):\n",
        "    \"\"\"Plot data points.\"\"\"\n",
        "    if legend is None:\n",
        "        legend = []\n",
        "\n",
        "    set_figsize(figsize)\n",
        "    axes = axes if axes else d2l.plt.gca()\n",
        "\n",
        "    # Return True if `X` (tensor or list) has 1 axis\n",
        "    def has_one_axis(X):\n",
        "        return (hasattr(X, \"ndim\") and X.ndim == 1 or isinstance(X, list)\n",
        "                and not hasattr(X[0], \"__len__\"))\n",
        "\n",
        "    if has_one_axis(X):\n",
        "        X = [X]\n",
        "    if Y is None:\n",
        "        X, Y = [[]] * len(X), X\n",
        "    elif has_one_axis(Y):\n",
        "        Y = [Y]\n",
        "    if len(X) != len(Y):\n",
        "        X = X * len(Y)\n",
        "    axes.cla()\n",
        "    for x, y, fmt in zip(X, Y, fmts):\n",
        "        if len(x):\n",
        "            axes.plot(x, y, fmt)\n",
        "        else:\n",
        "            axes.plot(y, fmt)\n",
        "    set_axes(axes, xlabel, ylabel, xlim, ylim, xscale, yscale, legend)"
      ],
      "metadata": {
        "id": "RmNXRRfaiEB2"
      },
      "execution_count": null,
      "outputs": []
    },
    {
      "cell_type": "code",
      "source": [
        "x = np.arange(0, 3, 0.1)\n",
        "plot(x, [f(x), 2 * x - 3], 'x', 'f(x)', legend=['f(x)', 'Tangent line (x=1)'])"
      ],
      "metadata": {
        "colab": {
          "base_uri": "https://localhost:8080/",
          "height": 262
        },
        "id": "85NXsXT2iIoH",
        "outputId": "ecff20c2-6b6f-4478-c8b9-177669bc55a5"
      },
      "execution_count": null,
      "outputs": [
        {
          "output_type": "display_data",
          "data": {
            "text/plain": [
              "<Figure size 252x180 with 1 Axes>"
            ],
            "image/svg+xml": "<?xml version=\"1.0\" encoding=\"utf-8\" standalone=\"no\"?>\n<!DOCTYPE svg PUBLIC \"-//W3C//DTD SVG 1.1//EN\"\n  \"http://www.w3.org/Graphics/SVG/1.1/DTD/svg11.dtd\">\n<!-- Created with matplotlib (https://matplotlib.org/) -->\n<svg height=\"180.65625pt\" version=\"1.1\" viewBox=\"0 0 243.529359 180.65625\" width=\"243.529359pt\" xmlns=\"http://www.w3.org/2000/svg\" xmlns:xlink=\"http://www.w3.org/1999/xlink\">\n <defs>\n  <style type=\"text/css\">\n*{stroke-linecap:butt;stroke-linejoin:round;}\n  </style>\n </defs>\n <g id=\"figure_1\">\n  <g id=\"patch_1\">\n   <path d=\"M 0 180.65625 \nL 243.529359 180.65625 \nL 243.529359 0 \nL 0 0 \nz\n\" style=\"fill:none;\"/>\n  </g>\n  <g id=\"axes_1\">\n   <g id=\"patch_2\">\n    <path d=\"M 40.603125 143.1 \nL 235.903125 143.1 \nL 235.903125 7.2 \nL 40.603125 7.2 \nz\n\" style=\"fill:#ffffff;\"/>\n   </g>\n   <g id=\"matplotlib.axis_1\">\n    <g id=\"xtick_1\">\n     <g id=\"line2d_1\">\n      <path clip-path=\"url(#p88b1b7c739)\" d=\"M 49.480398 143.1 \nL 49.480398 7.2 \n\" style=\"fill:none;stroke:#b0b0b0;stroke-linecap:square;stroke-width:0.8;\"/>\n     </g>\n     <g id=\"line2d_2\">\n      <defs>\n       <path d=\"M 0 0 \nL 0 3.5 \n\" id=\"m76e87814fd\" style=\"stroke:#000000;stroke-width:0.8;\"/>\n      </defs>\n      <g>\n       <use style=\"stroke:#000000;stroke-width:0.8;\" x=\"49.480398\" xlink:href=\"#m76e87814fd\" y=\"143.1\"/>\n      </g>\n     </g>\n     <g id=\"text_1\">\n      <!-- 0 -->\n      <defs>\n       <path d=\"M 31.78125 66.40625 \nQ 24.171875 66.40625 20.328125 58.90625 \nQ 16.5 51.421875 16.5 36.375 \nQ 16.5 21.390625 20.328125 13.890625 \nQ 24.171875 6.390625 31.78125 6.390625 \nQ 39.453125 6.390625 43.28125 13.890625 \nQ 47.125 21.390625 47.125 36.375 \nQ 47.125 51.421875 43.28125 58.90625 \nQ 39.453125 66.40625 31.78125 66.40625 \nz\nM 31.78125 74.21875 \nQ 44.046875 74.21875 50.515625 64.515625 \nQ 56.984375 54.828125 56.984375 36.375 \nQ 56.984375 17.96875 50.515625 8.265625 \nQ 44.046875 -1.421875 31.78125 -1.421875 \nQ 19.53125 -1.421875 13.0625 8.265625 \nQ 6.59375 17.96875 6.59375 36.375 \nQ 6.59375 54.828125 13.0625 64.515625 \nQ 19.53125 74.21875 31.78125 74.21875 \nz\n\" id=\"DejaVuSans-48\"/>\n      </defs>\n      <g transform=\"translate(46.299148 157.698438)scale(0.1 -0.1)\">\n       <use xlink:href=\"#DejaVuSans-48\"/>\n      </g>\n     </g>\n    </g>\n    <g id=\"xtick_2\">\n     <g id=\"line2d_3\">\n      <path clip-path=\"url(#p88b1b7c739)\" d=\"M 110.702968 143.1 \nL 110.702968 7.2 \n\" style=\"fill:none;stroke:#b0b0b0;stroke-linecap:square;stroke-width:0.8;\"/>\n     </g>\n     <g id=\"line2d_4\">\n      <g>\n       <use style=\"stroke:#000000;stroke-width:0.8;\" x=\"110.702968\" xlink:href=\"#m76e87814fd\" y=\"143.1\"/>\n      </g>\n     </g>\n     <g id=\"text_2\">\n      <!-- 1 -->\n      <defs>\n       <path d=\"M 12.40625 8.296875 \nL 28.515625 8.296875 \nL 28.515625 63.921875 \nL 10.984375 60.40625 \nL 10.984375 69.390625 \nL 28.421875 72.90625 \nL 38.28125 72.90625 \nL 38.28125 8.296875 \nL 54.390625 8.296875 \nL 54.390625 0 \nL 12.40625 0 \nz\n\" id=\"DejaVuSans-49\"/>\n      </defs>\n      <g transform=\"translate(107.521718 157.698438)scale(0.1 -0.1)\">\n       <use xlink:href=\"#DejaVuSans-49\"/>\n      </g>\n     </g>\n    </g>\n    <g id=\"xtick_3\">\n     <g id=\"line2d_5\">\n      <path clip-path=\"url(#p88b1b7c739)\" d=\"M 171.925539 143.1 \nL 171.925539 7.2 \n\" style=\"fill:none;stroke:#b0b0b0;stroke-linecap:square;stroke-width:0.8;\"/>\n     </g>\n     <g id=\"line2d_6\">\n      <g>\n       <use style=\"stroke:#000000;stroke-width:0.8;\" x=\"171.925539\" xlink:href=\"#m76e87814fd\" y=\"143.1\"/>\n      </g>\n     </g>\n     <g id=\"text_3\">\n      <!-- 2 -->\n      <defs>\n       <path d=\"M 19.1875 8.296875 \nL 53.609375 8.296875 \nL 53.609375 0 \nL 7.328125 0 \nL 7.328125 8.296875 \nQ 12.9375 14.109375 22.625 23.890625 \nQ 32.328125 33.6875 34.8125 36.53125 \nQ 39.546875 41.84375 41.421875 45.53125 \nQ 43.3125 49.21875 43.3125 52.78125 \nQ 43.3125 58.59375 39.234375 62.25 \nQ 35.15625 65.921875 28.609375 65.921875 \nQ 23.96875 65.921875 18.8125 64.3125 \nQ 13.671875 62.703125 7.8125 59.421875 \nL 7.8125 69.390625 \nQ 13.765625 71.78125 18.9375 73 \nQ 24.125 74.21875 28.421875 74.21875 \nQ 39.75 74.21875 46.484375 68.546875 \nQ 53.21875 62.890625 53.21875 53.421875 \nQ 53.21875 48.921875 51.53125 44.890625 \nQ 49.859375 40.875 45.40625 35.40625 \nQ 44.1875 33.984375 37.640625 27.21875 \nQ 31.109375 20.453125 19.1875 8.296875 \nz\n\" id=\"DejaVuSans-50\"/>\n      </defs>\n      <g transform=\"translate(168.744289 157.698438)scale(0.1 -0.1)\">\n       <use xlink:href=\"#DejaVuSans-50\"/>\n      </g>\n     </g>\n    </g>\n    <g id=\"xtick_4\">\n     <g id=\"line2d_7\">\n      <path clip-path=\"url(#p88b1b7c739)\" d=\"M 233.148109 143.1 \nL 233.148109 7.2 \n\" style=\"fill:none;stroke:#b0b0b0;stroke-linecap:square;stroke-width:0.8;\"/>\n     </g>\n     <g id=\"line2d_8\">\n      <g>\n       <use style=\"stroke:#000000;stroke-width:0.8;\" x=\"233.148109\" xlink:href=\"#m76e87814fd\" y=\"143.1\"/>\n      </g>\n     </g>\n     <g id=\"text_4\">\n      <!-- 3 -->\n      <defs>\n       <path d=\"M 40.578125 39.3125 \nQ 47.65625 37.796875 51.625 33 \nQ 55.609375 28.21875 55.609375 21.1875 \nQ 55.609375 10.40625 48.1875 4.484375 \nQ 40.765625 -1.421875 27.09375 -1.421875 \nQ 22.515625 -1.421875 17.65625 -0.515625 \nQ 12.796875 0.390625 7.625 2.203125 \nL 7.625 11.71875 \nQ 11.71875 9.328125 16.59375 8.109375 \nQ 21.484375 6.890625 26.8125 6.890625 \nQ 36.078125 6.890625 40.9375 10.546875 \nQ 45.796875 14.203125 45.796875 21.1875 \nQ 45.796875 27.640625 41.28125 31.265625 \nQ 36.765625 34.90625 28.71875 34.90625 \nL 20.21875 34.90625 \nL 20.21875 43.015625 \nL 29.109375 43.015625 \nQ 36.375 43.015625 40.234375 45.921875 \nQ 44.09375 48.828125 44.09375 54.296875 \nQ 44.09375 59.90625 40.109375 62.90625 \nQ 36.140625 65.921875 28.71875 65.921875 \nQ 24.65625 65.921875 20.015625 65.03125 \nQ 15.375 64.15625 9.8125 62.3125 \nL 9.8125 71.09375 \nQ 15.4375 72.65625 20.34375 73.4375 \nQ 25.25 74.21875 29.59375 74.21875 \nQ 40.828125 74.21875 47.359375 69.109375 \nQ 53.90625 64.015625 53.90625 55.328125 \nQ 53.90625 49.265625 50.4375 45.09375 \nQ 46.96875 40.921875 40.578125 39.3125 \nz\n\" id=\"DejaVuSans-51\"/>\n      </defs>\n      <g transform=\"translate(229.966859 157.698438)scale(0.1 -0.1)\">\n       <use xlink:href=\"#DejaVuSans-51\"/>\n      </g>\n     </g>\n    </g>\n    <g id=\"text_5\">\n     <!-- x -->\n     <defs>\n      <path d=\"M 54.890625 54.6875 \nL 35.109375 28.078125 \nL 55.90625 0 \nL 45.3125 0 \nL 29.390625 21.484375 \nL 13.484375 0 \nL 2.875 0 \nL 24.125 28.609375 \nL 4.6875 54.6875 \nL 15.28125 54.6875 \nL 29.78125 35.203125 \nL 44.28125 54.6875 \nz\n\" id=\"DejaVuSans-120\"/>\n     </defs>\n     <g transform=\"translate(135.29375 171.376563)scale(0.1 -0.1)\">\n      <use xlink:href=\"#DejaVuSans-120\"/>\n     </g>\n    </g>\n   </g>\n   <g id=\"matplotlib.axis_2\">\n    <g id=\"ytick_1\">\n     <g id=\"line2d_9\">\n      <path clip-path=\"url(#p88b1b7c739)\" d=\"M 40.603125 114.635514 \nL 235.903125 114.635514 \n\" style=\"fill:none;stroke:#b0b0b0;stroke-linecap:square;stroke-width:0.8;\"/>\n     </g>\n     <g id=\"line2d_10\">\n      <defs>\n       <path d=\"M 0 0 \nL -3.5 0 \n\" id=\"me82e25e27c\" style=\"stroke:#000000;stroke-width:0.8;\"/>\n      </defs>\n      <g>\n       <use style=\"stroke:#000000;stroke-width:0.8;\" x=\"40.603125\" xlink:href=\"#me82e25e27c\" y=\"114.635514\"/>\n      </g>\n     </g>\n     <g id=\"text_6\">\n      <!-- 0 -->\n      <g transform=\"translate(27.240625 118.434732)scale(0.1 -0.1)\">\n       <use xlink:href=\"#DejaVuSans-48\"/>\n      </g>\n     </g>\n    </g>\n    <g id=\"ytick_2\">\n     <g id=\"line2d_11\">\n      <path clip-path=\"url(#p88b1b7c739)\" d=\"M 40.603125 77.490157 \nL 235.903125 77.490157 \n\" style=\"fill:none;stroke:#b0b0b0;stroke-linecap:square;stroke-width:0.8;\"/>\n     </g>\n     <g id=\"line2d_12\">\n      <g>\n       <use style=\"stroke:#000000;stroke-width:0.8;\" x=\"40.603125\" xlink:href=\"#me82e25e27c\" y=\"77.490157\"/>\n      </g>\n     </g>\n     <g id=\"text_7\">\n      <!-- 5 -->\n      <defs>\n       <path d=\"M 10.796875 72.90625 \nL 49.515625 72.90625 \nL 49.515625 64.59375 \nL 19.828125 64.59375 \nL 19.828125 46.734375 \nQ 21.96875 47.46875 24.109375 47.828125 \nQ 26.265625 48.1875 28.421875 48.1875 \nQ 40.625 48.1875 47.75 41.5 \nQ 54.890625 34.8125 54.890625 23.390625 \nQ 54.890625 11.625 47.5625 5.09375 \nQ 40.234375 -1.421875 26.90625 -1.421875 \nQ 22.3125 -1.421875 17.546875 -0.640625 \nQ 12.796875 0.140625 7.71875 1.703125 \nL 7.71875 11.625 \nQ 12.109375 9.234375 16.796875 8.0625 \nQ 21.484375 6.890625 26.703125 6.890625 \nQ 35.15625 6.890625 40.078125 11.328125 \nQ 45.015625 15.765625 45.015625 23.390625 \nQ 45.015625 31 40.078125 35.4375 \nQ 35.15625 39.890625 26.703125 39.890625 \nQ 22.75 39.890625 18.8125 39.015625 \nQ 14.890625 38.140625 10.796875 36.28125 \nz\n\" id=\"DejaVuSans-53\"/>\n      </defs>\n      <g transform=\"translate(27.240625 81.289376)scale(0.1 -0.1)\">\n       <use xlink:href=\"#DejaVuSans-53\"/>\n      </g>\n     </g>\n    </g>\n    <g id=\"ytick_3\">\n     <g id=\"line2d_13\">\n      <path clip-path=\"url(#p88b1b7c739)\" d=\"M 40.603125 40.344801 \nL 235.903125 40.344801 \n\" style=\"fill:none;stroke:#b0b0b0;stroke-linecap:square;stroke-width:0.8;\"/>\n     </g>\n     <g id=\"line2d_14\">\n      <g>\n       <use style=\"stroke:#000000;stroke-width:0.8;\" x=\"40.603125\" xlink:href=\"#me82e25e27c\" y=\"40.344801\"/>\n      </g>\n     </g>\n     <g id=\"text_8\">\n      <!-- 10 -->\n      <g transform=\"translate(20.878125 44.14402)scale(0.1 -0.1)\">\n       <use xlink:href=\"#DejaVuSans-49\"/>\n       <use x=\"63.623047\" xlink:href=\"#DejaVuSans-48\"/>\n      </g>\n     </g>\n    </g>\n    <g id=\"text_9\">\n     <!-- f(x) -->\n     <defs>\n      <path d=\"M 37.109375 75.984375 \nL 37.109375 68.5 \nL 28.515625 68.5 \nQ 23.6875 68.5 21.796875 66.546875 \nQ 19.921875 64.59375 19.921875 59.515625 \nL 19.921875 54.6875 \nL 34.71875 54.6875 \nL 34.71875 47.703125 \nL 19.921875 47.703125 \nL 19.921875 0 \nL 10.890625 0 \nL 10.890625 47.703125 \nL 2.296875 47.703125 \nL 2.296875 54.6875 \nL 10.890625 54.6875 \nL 10.890625 58.5 \nQ 10.890625 67.625 15.140625 71.796875 \nQ 19.390625 75.984375 28.609375 75.984375 \nz\n\" id=\"DejaVuSans-102\"/>\n      <path d=\"M 31 75.875 \nQ 24.46875 64.65625 21.28125 53.65625 \nQ 18.109375 42.671875 18.109375 31.390625 \nQ 18.109375 20.125 21.3125 9.0625 \nQ 24.515625 -2 31 -13.1875 \nL 23.1875 -13.1875 \nQ 15.875 -1.703125 12.234375 9.375 \nQ 8.59375 20.453125 8.59375 31.390625 \nQ 8.59375 42.28125 12.203125 53.3125 \nQ 15.828125 64.359375 23.1875 75.875 \nz\n\" id=\"DejaVuSans-40\"/>\n      <path d=\"M 8.015625 75.875 \nL 15.828125 75.875 \nQ 23.140625 64.359375 26.78125 53.3125 \nQ 30.421875 42.28125 30.421875 31.390625 \nQ 30.421875 20.453125 26.78125 9.375 \nQ 23.140625 -1.703125 15.828125 -13.1875 \nL 8.015625 -13.1875 \nQ 14.5 -2 17.703125 9.0625 \nQ 20.90625 20.125 20.90625 31.390625 \nQ 20.90625 42.671875 17.703125 53.65625 \nQ 14.5 64.65625 8.015625 75.875 \nz\n\" id=\"DejaVuSans-41\"/>\n     </defs>\n     <g transform=\"translate(14.798437 83.771094)rotate(-90)scale(0.1 -0.1)\">\n      <use xlink:href=\"#DejaVuSans-102\"/>\n      <use x=\"35.205078\" xlink:href=\"#DejaVuSans-40\"/>\n      <use x=\"74.21875\" xlink:href=\"#DejaVuSans-120\"/>\n      <use x=\"133.398438\" xlink:href=\"#DejaVuSans-41\"/>\n     </g>\n    </g>\n   </g>\n   <g id=\"line2d_15\">\n    <path clip-path=\"url(#p88b1b7c739)\" d=\"M 49.480398 114.635514 \nL 55.602655 117.38427 \nL 61.724912 119.687282 \nL 67.847169 121.54455 \nL 73.969426 122.956073 \nL 80.091683 123.921853 \nL 86.21394 124.441888 \nL 92.336197 124.516178 \nL 98.458454 124.144725 \nL 104.580711 123.327527 \nL 110.702968 122.064585 \nL 116.825225 120.355898 \nL 122.947482 118.201468 \nL 129.069739 115.601293 \nL 135.191996 112.555374 \nL 141.314254 109.06371 \nL 147.436511 105.126302 \nL 153.558768 100.74315 \nL 159.681025 95.914254 \nL 165.803282 90.639614 \nL 171.925539 84.919229 \nL 178.047796 78.7531 \nL 184.170053 72.141226 \nL 190.29231 65.083608 \nL 196.414567 57.580247 \nL 202.536824 49.63114 \nL 208.659081 41.23629 \nL 214.781338 32.395695 \nL 220.903595 23.109356 \nL 227.025852 13.377273 \n\" style=\"fill:none;stroke:#1f77b4;stroke-linecap:square;stroke-width:1.5;\"/>\n   </g>\n   <g id=\"line2d_16\">\n    <path clip-path=\"url(#p88b1b7c739)\" d=\"M 49.480398 136.922727 \nL 55.602655 135.436913 \nL 61.724912 133.951099 \nL 67.847169 132.465285 \nL 73.969426 130.97947 \nL 80.091683 129.493656 \nL 86.21394 128.007842 \nL 92.336197 126.522028 \nL 98.458454 125.036213 \nL 104.580711 123.550399 \nL 110.702968 122.064585 \nL 116.825225 120.578771 \nL 122.947482 119.092956 \nL 129.069739 117.607142 \nL 135.191996 116.121328 \nL 141.314254 114.635514 \nL 147.436511 113.149699 \nL 153.558768 111.663885 \nL 159.681025 110.178071 \nL 165.803282 108.692257 \nL 171.925539 107.206442 \nL 178.047796 105.720628 \nL 184.170053 104.234814 \nL 190.29231 102.749 \nL 196.414567 101.263185 \nL 202.536824 99.777371 \nL 208.659081 98.291557 \nL 214.781338 96.805743 \nL 220.903595 95.319928 \nL 227.025852 93.834114 \n\" style=\"fill:none;stroke:#bf00bf;stroke-dasharray:5.55,2.4;stroke-dashoffset:0;stroke-width:1.5;\"/>\n   </g>\n   <g id=\"patch_3\">\n    <path d=\"M 40.603125 143.1 \nL 40.603125 7.2 \n\" style=\"fill:none;stroke:#000000;stroke-linecap:square;stroke-linejoin:miter;stroke-width:0.8;\"/>\n   </g>\n   <g id=\"patch_4\">\n    <path d=\"M 235.903125 143.1 \nL 235.903125 7.2 \n\" style=\"fill:none;stroke:#000000;stroke-linecap:square;stroke-linejoin:miter;stroke-width:0.8;\"/>\n   </g>\n   <g id=\"patch_5\">\n    <path d=\"M 40.603125 143.1 \nL 235.903125 143.1 \n\" style=\"fill:none;stroke:#000000;stroke-linecap:square;stroke-linejoin:miter;stroke-width:0.8;\"/>\n   </g>\n   <g id=\"patch_6\">\n    <path d=\"M 40.603125 7.2 \nL 235.903125 7.2 \n\" style=\"fill:none;stroke:#000000;stroke-linecap:square;stroke-linejoin:miter;stroke-width:0.8;\"/>\n   </g>\n   <g id=\"legend_1\">\n    <g id=\"patch_7\">\n     <path d=\"M 47.603125 44.55625 \nL 172.153125 44.55625 \nQ 174.153125 44.55625 174.153125 42.55625 \nL 174.153125 14.2 \nQ 174.153125 12.2 172.153125 12.2 \nL 47.603125 12.2 \nQ 45.603125 12.2 45.603125 14.2 \nL 45.603125 42.55625 \nQ 45.603125 44.55625 47.603125 44.55625 \nz\n\" style=\"fill:#ffffff;opacity:0.8;stroke:#cccccc;stroke-linejoin:miter;\"/>\n    </g>\n    <g id=\"line2d_17\">\n     <path d=\"M 49.603125 20.298437 \nL 69.603125 20.298437 \n\" style=\"fill:none;stroke:#1f77b4;stroke-linecap:square;stroke-width:1.5;\"/>\n    </g>\n    <g id=\"line2d_18\"/>\n    <g id=\"text_10\">\n     <!-- f(x) -->\n     <g transform=\"translate(77.603125 23.798437)scale(0.1 -0.1)\">\n      <use xlink:href=\"#DejaVuSans-102\"/>\n      <use x=\"35.205078\" xlink:href=\"#DejaVuSans-40\"/>\n      <use x=\"74.21875\" xlink:href=\"#DejaVuSans-120\"/>\n      <use x=\"133.398438\" xlink:href=\"#DejaVuSans-41\"/>\n     </g>\n    </g>\n    <g id=\"line2d_19\">\n     <path d=\"M 49.603125 34.976562 \nL 69.603125 34.976562 \n\" style=\"fill:none;stroke:#bf00bf;stroke-dasharray:5.55,2.4;stroke-dashoffset:0;stroke-width:1.5;\"/>\n    </g>\n    <g id=\"line2d_20\"/>\n    <g id=\"text_11\">\n     <!-- Tangent line (x=1) -->\n     <defs>\n      <path d=\"M -0.296875 72.90625 \nL 61.375 72.90625 \nL 61.375 64.59375 \nL 35.5 64.59375 \nL 35.5 0 \nL 25.59375 0 \nL 25.59375 64.59375 \nL -0.296875 64.59375 \nz\n\" id=\"DejaVuSans-84\"/>\n      <path d=\"M 34.28125 27.484375 \nQ 23.390625 27.484375 19.1875 25 \nQ 14.984375 22.515625 14.984375 16.5 \nQ 14.984375 11.71875 18.140625 8.90625 \nQ 21.296875 6.109375 26.703125 6.109375 \nQ 34.1875 6.109375 38.703125 11.40625 \nQ 43.21875 16.703125 43.21875 25.484375 \nL 43.21875 27.484375 \nz\nM 52.203125 31.203125 \nL 52.203125 0 \nL 43.21875 0 \nL 43.21875 8.296875 \nQ 40.140625 3.328125 35.546875 0.953125 \nQ 30.953125 -1.421875 24.3125 -1.421875 \nQ 15.921875 -1.421875 10.953125 3.296875 \nQ 6 8.015625 6 15.921875 \nQ 6 25.140625 12.171875 29.828125 \nQ 18.359375 34.515625 30.609375 34.515625 \nL 43.21875 34.515625 \nL 43.21875 35.40625 \nQ 43.21875 41.609375 39.140625 45 \nQ 35.0625 48.390625 27.6875 48.390625 \nQ 23 48.390625 18.546875 47.265625 \nQ 14.109375 46.140625 10.015625 43.890625 \nL 10.015625 52.203125 \nQ 14.9375 54.109375 19.578125 55.046875 \nQ 24.21875 56 28.609375 56 \nQ 40.484375 56 46.34375 49.84375 \nQ 52.203125 43.703125 52.203125 31.203125 \nz\n\" id=\"DejaVuSans-97\"/>\n      <path d=\"M 54.890625 33.015625 \nL 54.890625 0 \nL 45.90625 0 \nL 45.90625 32.71875 \nQ 45.90625 40.484375 42.875 44.328125 \nQ 39.84375 48.1875 33.796875 48.1875 \nQ 26.515625 48.1875 22.3125 43.546875 \nQ 18.109375 38.921875 18.109375 30.90625 \nL 18.109375 0 \nL 9.078125 0 \nL 9.078125 54.6875 \nL 18.109375 54.6875 \nL 18.109375 46.1875 \nQ 21.34375 51.125 25.703125 53.5625 \nQ 30.078125 56 35.796875 56 \nQ 45.21875 56 50.046875 50.171875 \nQ 54.890625 44.34375 54.890625 33.015625 \nz\n\" id=\"DejaVuSans-110\"/>\n      <path d=\"M 45.40625 27.984375 \nQ 45.40625 37.75 41.375 43.109375 \nQ 37.359375 48.484375 30.078125 48.484375 \nQ 22.859375 48.484375 18.828125 43.109375 \nQ 14.796875 37.75 14.796875 27.984375 \nQ 14.796875 18.265625 18.828125 12.890625 \nQ 22.859375 7.515625 30.078125 7.515625 \nQ 37.359375 7.515625 41.375 12.890625 \nQ 45.40625 18.265625 45.40625 27.984375 \nz\nM 54.390625 6.78125 \nQ 54.390625 -7.171875 48.1875 -13.984375 \nQ 42 -20.796875 29.203125 -20.796875 \nQ 24.46875 -20.796875 20.265625 -20.09375 \nQ 16.0625 -19.390625 12.109375 -17.921875 \nL 12.109375 -9.1875 \nQ 16.0625 -11.328125 19.921875 -12.34375 \nQ 23.78125 -13.375 27.78125 -13.375 \nQ 36.625 -13.375 41.015625 -8.765625 \nQ 45.40625 -4.15625 45.40625 5.171875 \nL 45.40625 9.625 \nQ 42.625 4.78125 38.28125 2.390625 \nQ 33.9375 0 27.875 0 \nQ 17.828125 0 11.671875 7.65625 \nQ 5.515625 15.328125 5.515625 27.984375 \nQ 5.515625 40.671875 11.671875 48.328125 \nQ 17.828125 56 27.875 56 \nQ 33.9375 56 38.28125 53.609375 \nQ 42.625 51.21875 45.40625 46.390625 \nL 45.40625 54.6875 \nL 54.390625 54.6875 \nz\n\" id=\"DejaVuSans-103\"/>\n      <path d=\"M 56.203125 29.59375 \nL 56.203125 25.203125 \nL 14.890625 25.203125 \nQ 15.484375 15.921875 20.484375 11.0625 \nQ 25.484375 6.203125 34.421875 6.203125 \nQ 39.59375 6.203125 44.453125 7.46875 \nQ 49.3125 8.734375 54.109375 11.28125 \nL 54.109375 2.78125 \nQ 49.265625 0.734375 44.1875 -0.34375 \nQ 39.109375 -1.421875 33.890625 -1.421875 \nQ 20.796875 -1.421875 13.15625 6.1875 \nQ 5.515625 13.8125 5.515625 26.8125 \nQ 5.515625 40.234375 12.765625 48.109375 \nQ 20.015625 56 32.328125 56 \nQ 43.359375 56 49.78125 48.890625 \nQ 56.203125 41.796875 56.203125 29.59375 \nz\nM 47.21875 32.234375 \nQ 47.125 39.59375 43.09375 43.984375 \nQ 39.0625 48.390625 32.421875 48.390625 \nQ 24.90625 48.390625 20.390625 44.140625 \nQ 15.875 39.890625 15.1875 32.171875 \nz\n\" id=\"DejaVuSans-101\"/>\n      <path d=\"M 18.3125 70.21875 \nL 18.3125 54.6875 \nL 36.8125 54.6875 \nL 36.8125 47.703125 \nL 18.3125 47.703125 \nL 18.3125 18.015625 \nQ 18.3125 11.328125 20.140625 9.421875 \nQ 21.96875 7.515625 27.59375 7.515625 \nL 36.8125 7.515625 \nL 36.8125 0 \nL 27.59375 0 \nQ 17.1875 0 13.234375 3.875 \nQ 9.28125 7.765625 9.28125 18.015625 \nL 9.28125 47.703125 \nL 2.6875 47.703125 \nL 2.6875 54.6875 \nL 9.28125 54.6875 \nL 9.28125 70.21875 \nz\n\" id=\"DejaVuSans-116\"/>\n      <path id=\"DejaVuSans-32\"/>\n      <path d=\"M 9.421875 75.984375 \nL 18.40625 75.984375 \nL 18.40625 0 \nL 9.421875 0 \nz\n\" id=\"DejaVuSans-108\"/>\n      <path d=\"M 9.421875 54.6875 \nL 18.40625 54.6875 \nL 18.40625 0 \nL 9.421875 0 \nz\nM 9.421875 75.984375 \nL 18.40625 75.984375 \nL 18.40625 64.59375 \nL 9.421875 64.59375 \nz\n\" id=\"DejaVuSans-105\"/>\n      <path d=\"M 10.59375 45.40625 \nL 73.1875 45.40625 \nL 73.1875 37.203125 \nL 10.59375 37.203125 \nz\nM 10.59375 25.484375 \nL 73.1875 25.484375 \nL 73.1875 17.1875 \nL 10.59375 17.1875 \nz\n\" id=\"DejaVuSans-61\"/>\n     </defs>\n     <g transform=\"translate(77.603125 38.476562)scale(0.1 -0.1)\">\n      <use xlink:href=\"#DejaVuSans-84\"/>\n      <use x=\"44.583984\" xlink:href=\"#DejaVuSans-97\"/>\n      <use x=\"105.863281\" xlink:href=\"#DejaVuSans-110\"/>\n      <use x=\"169.242188\" xlink:href=\"#DejaVuSans-103\"/>\n      <use x=\"232.71875\" xlink:href=\"#DejaVuSans-101\"/>\n      <use x=\"294.242188\" xlink:href=\"#DejaVuSans-110\"/>\n      <use x=\"357.621094\" xlink:href=\"#DejaVuSans-116\"/>\n      <use x=\"396.830078\" xlink:href=\"#DejaVuSans-32\"/>\n      <use x=\"428.617188\" xlink:href=\"#DejaVuSans-108\"/>\n      <use x=\"456.400391\" xlink:href=\"#DejaVuSans-105\"/>\n      <use x=\"484.183594\" xlink:href=\"#DejaVuSans-110\"/>\n      <use x=\"547.5625\" xlink:href=\"#DejaVuSans-101\"/>\n      <use x=\"609.085938\" xlink:href=\"#DejaVuSans-32\"/>\n      <use x=\"640.873047\" xlink:href=\"#DejaVuSans-40\"/>\n      <use x=\"679.886719\" xlink:href=\"#DejaVuSans-120\"/>\n      <use x=\"739.066406\" xlink:href=\"#DejaVuSans-61\"/>\n      <use x=\"822.855469\" xlink:href=\"#DejaVuSans-49\"/>\n      <use x=\"886.478516\" xlink:href=\"#DejaVuSans-41\"/>\n     </g>\n    </g>\n   </g>\n  </g>\n </g>\n <defs>\n  <clipPath id=\"p88b1b7c739\">\n   <rect height=\"135.9\" width=\"195.3\" x=\"40.603125\" y=\"7.2\"/>\n  </clipPath>\n </defs>\n</svg>\n"
          },
          "metadata": {
            "needs_background": "light"
          }
        }
      ]
    },
    {
      "cell_type": "markdown",
      "source": [
        "#2.5. Automatic Differentiation\n",
        "\n",
        "---\n",
        "\n",
        "\n",
        "\n",
        "---\n",
        "\n"
      ],
      "metadata": {
        "id": "1XGHJaHxlaUA"
      }
    },
    {
      "cell_type": "markdown",
      "source": [
        "##2.5.1. A Simple Example"
      ],
      "metadata": {
        "id": "9OtIu9qrlft_"
      }
    },
    {
      "cell_type": "code",
      "execution_count": null,
      "metadata": {
        "colab": {
          "base_uri": "https://localhost:8080/"
        },
        "id": "APKBUI81lW3t",
        "outputId": "cade86c6-ce9d-4806-d8eb-2b9d5ce0e68a"
      },
      "outputs": [
        {
          "output_type": "execute_result",
          "data": {
            "text/plain": [
              "tensor([0., 1., 2., 3.])"
            ]
          },
          "metadata": {},
          "execution_count": 1
        }
      ],
      "source": [
        "import torch\n",
        "\n",
        "x = torch.arange(4.0)\n",
        "x"
      ]
    },
    {
      "cell_type": "code",
      "source": [
        "x.requires_grad_(True)  # Same as `x = torch.arange(4.0, requires_grad=True)`\n",
        "x.grad  # The default value is None"
      ],
      "metadata": {
        "id": "2W7nECzblkyq"
      },
      "execution_count": null,
      "outputs": []
    },
    {
      "cell_type": "code",
      "source": [
        "y = 2 * torch.dot(x, x)\n",
        "y"
      ],
      "metadata": {
        "colab": {
          "base_uri": "https://localhost:8080/"
        },
        "id": "s-1f1jb-lqiv",
        "outputId": "3e9b8563-fbb5-44e9-ed7d-6a526eb0e193"
      },
      "execution_count": null,
      "outputs": [
        {
          "output_type": "execute_result",
          "data": {
            "text/plain": [
              "tensor(28., grad_fn=<MulBackward0>)"
            ]
          },
          "metadata": {},
          "execution_count": 3
        }
      ]
    },
    {
      "cell_type": "code",
      "source": [
        "y.backward()\n",
        "x.grad"
      ],
      "metadata": {
        "colab": {
          "base_uri": "https://localhost:8080/"
        },
        "id": "H9eNFo9jltdM",
        "outputId": "4608c46c-a1b7-4605-adb8-b92d6d19da0e"
      },
      "execution_count": null,
      "outputs": [
        {
          "output_type": "execute_result",
          "data": {
            "text/plain": [
              "tensor([ 0.,  4.,  8., 12.])"
            ]
          },
          "metadata": {},
          "execution_count": 4
        }
      ]
    },
    {
      "cell_type": "code",
      "source": [
        "x.grad == 4 * x"
      ],
      "metadata": {
        "colab": {
          "base_uri": "https://localhost:8080/"
        },
        "id": "2QB-gK_7lvwP",
        "outputId": "e0f171c9-129d-4c90-94c8-372e3caf635e"
      },
      "execution_count": null,
      "outputs": [
        {
          "output_type": "execute_result",
          "data": {
            "text/plain": [
              "tensor([True, True, True, True])"
            ]
          },
          "metadata": {},
          "execution_count": 5
        }
      ]
    },
    {
      "cell_type": "code",
      "source": [
        "# PyTorch accumulates the gradient in default, we need to clear the previous\n",
        "# values\n",
        "x.grad.zero_()\n",
        "y = x.sum()\n",
        "y.backward()\n",
        "x.grad"
      ],
      "metadata": {
        "colab": {
          "base_uri": "https://localhost:8080/"
        },
        "id": "07hOGPGNlxcm",
        "outputId": "fc6f17ee-1997-46cc-99bd-1c4a4eb53fb6"
      },
      "execution_count": null,
      "outputs": [
        {
          "output_type": "execute_result",
          "data": {
            "text/plain": [
              "tensor([1., 1., 1., 1.])"
            ]
          },
          "metadata": {},
          "execution_count": 6
        }
      ]
    },
    {
      "cell_type": "markdown",
      "source": [
        "##2.5.2. Backward for Non-Scalar Variables"
      ],
      "metadata": {
        "id": "AkNCenYul2ZS"
      }
    },
    {
      "cell_type": "code",
      "source": [
        "# Invoking `backward` on a non-scalar requires passing in a `gradient` argument\n",
        "# which specifies the gradient of the differentiated function w.r.t `self`.\n",
        "# In our case, we simply want to sum the partial derivatives, so passing\n",
        "# in a gradient of ones is appropriate\n",
        "x.grad.zero_()\n",
        "y = x * x\n",
        "# y.backward(torch.ones(len(x))) equivalent to the below\n",
        "y.sum().backward()\n",
        "x.grad"
      ],
      "metadata": {
        "colab": {
          "base_uri": "https://localhost:8080/"
        },
        "id": "rLjH9Lvblzoz",
        "outputId": "a5e7b1d8-ddd7-434f-d4f2-07c683c947fb"
      },
      "execution_count": null,
      "outputs": [
        {
          "output_type": "execute_result",
          "data": {
            "text/plain": [
              "tensor([0., 2., 4., 6.])"
            ]
          },
          "metadata": {},
          "execution_count": 7
        }
      ]
    },
    {
      "cell_type": "markdown",
      "source": [
        "##2.5.3. Detaching Computation"
      ],
      "metadata": {
        "id": "Wj6p1Ju9l758"
      }
    },
    {
      "cell_type": "code",
      "source": [
        "x.grad.zero_()\n",
        "y = x * x\n",
        "u = y.detach()\n",
        "z = u * x\n",
        "\n",
        "z.sum().backward()\n",
        "x.grad == u"
      ],
      "metadata": {
        "colab": {
          "base_uri": "https://localhost:8080/"
        },
        "id": "2ic9KMC7l5iq",
        "outputId": "32d1f009-dadc-45d0-e467-4fd0b4e70746"
      },
      "execution_count": null,
      "outputs": [
        {
          "output_type": "execute_result",
          "data": {
            "text/plain": [
              "tensor([True, True, True, True])"
            ]
          },
          "metadata": {},
          "execution_count": 8
        }
      ]
    },
    {
      "cell_type": "code",
      "source": [
        "x.grad.zero_()\n",
        "y.sum().backward()\n",
        "x.grad == 2 * x"
      ],
      "metadata": {
        "colab": {
          "base_uri": "https://localhost:8080/"
        },
        "id": "9Neo4ymZl-9v",
        "outputId": "9d0cdc5d-3f69-4b68-e66a-6be37851f18b"
      },
      "execution_count": null,
      "outputs": [
        {
          "output_type": "execute_result",
          "data": {
            "text/plain": [
              "tensor([True, True, True, True])"
            ]
          },
          "metadata": {},
          "execution_count": 9
        }
      ]
    },
    {
      "cell_type": "markdown",
      "source": [
        "##2.5.4. Computing the Gradient of Python Control Flow"
      ],
      "metadata": {
        "id": "tYClhff9mFDh"
      }
    },
    {
      "cell_type": "code",
      "source": [
        "def f(a):\n",
        "    b = a * 2\n",
        "    while b.norm() < 1000:\n",
        "        b = b * 2\n",
        "    if b.sum() > 0:\n",
        "        c = b\n",
        "    else:\n",
        "        c = 100 * b\n",
        "    return c"
      ],
      "metadata": {
        "id": "VeN_dEMGmBGH"
      },
      "execution_count": null,
      "outputs": []
    },
    {
      "cell_type": "code",
      "source": [
        "a = torch.randn(size=(), requires_grad=True)\n",
        "d = f(a)\n",
        "d.backward()"
      ],
      "metadata": {
        "id": "meZ4RoXUmH4k"
      },
      "execution_count": null,
      "outputs": []
    },
    {
      "cell_type": "code",
      "source": [
        "a.grad == d / a"
      ],
      "metadata": {
        "colab": {
          "base_uri": "https://localhost:8080/"
        },
        "id": "PocYEcrfmJq0",
        "outputId": "a254b965-e0e2-47ed-a615-b8d7a08e8a36"
      },
      "execution_count": null,
      "outputs": [
        {
          "output_type": "execute_result",
          "data": {
            "text/plain": [
              "tensor(True)"
            ]
          },
          "metadata": {},
          "execution_count": 12
        }
      ]
    },
    {
      "cell_type": "markdown",
      "source": [
        "#2.6. Probability"
      ],
      "metadata": {
        "id": "z5fID1YQmyyh"
      }
    },
    {
      "cell_type": "markdown",
      "source": [
        "##2.6.1. Basic Probability Theory"
      ],
      "metadata": {
        "id": "dFnIJtTHm3Hw"
      }
    },
    {
      "cell_type": "code",
      "execution_count": null,
      "metadata": {
        "id": "2_HF-3o6mfJy"
      },
      "outputs": [],
      "source": [
        "%matplotlib inline\n",
        "import torch\n",
        "from torch.distributions import multinomial\n",
        "from d2l import torch as d2l"
      ]
    },
    {
      "cell_type": "code",
      "source": [
        "fair_probs = torch.ones([6]) / 6\n",
        "multinomial.Multinomial(1, fair_probs).sample()"
      ],
      "metadata": {
        "colab": {
          "base_uri": "https://localhost:8080/"
        },
        "id": "qKkzqCL0m6Pd",
        "outputId": "f9d6d1d3-310a-4a5d-c3c3-2232a8cb0326"
      },
      "execution_count": null,
      "outputs": [
        {
          "output_type": "execute_result",
          "data": {
            "text/plain": [
              "tensor([0., 1., 0., 0., 0., 0.])"
            ]
          },
          "metadata": {},
          "execution_count": 35
        }
      ]
    },
    {
      "cell_type": "code",
      "source": [
        "multinomial.Multinomial(10, fair_probs).sample()"
      ],
      "metadata": {
        "colab": {
          "base_uri": "https://localhost:8080/"
        },
        "id": "SlHClNrdpeuj",
        "outputId": "bdc633f8-f93f-4fa5-ce79-40bf0f788a4d"
      },
      "execution_count": null,
      "outputs": [
        {
          "output_type": "execute_result",
          "data": {
            "text/plain": [
              "tensor([2., 1., 1., 0., 2., 4.])"
            ]
          },
          "metadata": {},
          "execution_count": 36
        }
      ]
    },
    {
      "cell_type": "code",
      "source": [
        "# Store the results as 32-bit floats for division\n",
        "counts = multinomial.Multinomial(1000, fair_probs).sample()\n",
        "counts / 1000  # Relative frequency as the estimate"
      ],
      "metadata": {
        "colab": {
          "base_uri": "https://localhost:8080/"
        },
        "id": "u2pXPLJcpkro",
        "outputId": "36b3d16d-3637-4782-a75f-ab4caecb607f"
      },
      "execution_count": null,
      "outputs": [
        {
          "output_type": "execute_result",
          "data": {
            "text/plain": [
              "tensor([0.1600, 0.1570, 0.1700, 0.1790, 0.1780, 0.1560])"
            ]
          },
          "metadata": {},
          "execution_count": 37
        }
      ]
    },
    {
      "cell_type": "code",
      "source": [
        "counts = multinomial.Multinomial(10, fair_probs).sample((500,))\n",
        "cum_counts = counts.cumsum(dim=0)\n",
        "estimates = cum_counts / cum_counts.sum(dim=1, keepdims=True)\n",
        "\n",
        "d2l.set_figsize((6, 4.5))\n",
        "for i in range(6):\n",
        "    d2l.plt.plot(estimates[:, i].numpy(),\n",
        "                 label=(\"P(die=\" + str(i + 1) + \")\"))\n",
        "d2l.plt.axhline(y=0.167, color='black', linestyle='dashed')\n",
        "d2l.plt.gca().set_xlabel('Groups of experiments')\n",
        "d2l.plt.gca().set_ylabel('Estimated probability')\n",
        "d2l.plt.legend();"
      ],
      "metadata": {
        "colab": {
          "base_uri": "https://localhost:8080/",
          "height": 407
        },
        "id": "LnPxJ_S2pmzv",
        "outputId": "c1311971-3c6f-4baa-9935-c16b2b516ff0"
      },
      "execution_count": null,
      "outputs": [
        {
          "output_type": "display_data",
          "data": {
            "text/plain": [
              "<Figure size 432x324 with 1 Axes>"
            ],
            "image/svg+xml": "<?xml version=\"1.0\" encoding=\"utf-8\" standalone=\"no\"?>\n<!DOCTYPE svg PUBLIC \"-//W3C//DTD SVG 1.1//EN\"\n  \"http://www.w3.org/Graphics/SVG/1.1/DTD/svg11.dtd\">\n<!-- Created with matplotlib (https://matplotlib.org/) -->\n<svg height=\"289.37625pt\" version=\"1.1\" viewBox=\"0 0 392.14375 289.37625\" width=\"392.14375pt\" xmlns=\"http://www.w3.org/2000/svg\" xmlns:xlink=\"http://www.w3.org/1999/xlink\">\n <defs>\n  <style type=\"text/css\">\n*{stroke-linecap:butt;stroke-linejoin:round;}\n  </style>\n </defs>\n <g id=\"figure_1\">\n  <g id=\"patch_1\">\n   <path d=\"M 0 289.37625 \nL 392.14375 289.37625 \nL 392.14375 0 \nL 0 0 \nz\n\" style=\"fill:none;\"/>\n  </g>\n  <g id=\"axes_1\">\n   <g id=\"patch_2\">\n    <path d=\"M 50.14375 251.82 \nL 384.94375 251.82 \nL 384.94375 7.2 \nL 50.14375 7.2 \nz\n\" style=\"fill:#ffffff;\"/>\n   </g>\n   <g id=\"matplotlib.axis_1\">\n    <g id=\"xtick_1\">\n     <g id=\"line2d_1\">\n      <defs>\n       <path d=\"M 0 0 \nL 0 3.5 \n\" id=\"m43324a246b\" style=\"stroke:#000000;stroke-width:0.8;\"/>\n      </defs>\n      <g>\n       <use style=\"stroke:#000000;stroke-width:0.8;\" x=\"65.361932\" xlink:href=\"#m43324a246b\" y=\"251.82\"/>\n      </g>\n     </g>\n     <g id=\"text_1\">\n      <!-- 0 -->\n      <defs>\n       <path d=\"M 31.78125 66.40625 \nQ 24.171875 66.40625 20.328125 58.90625 \nQ 16.5 51.421875 16.5 36.375 \nQ 16.5 21.390625 20.328125 13.890625 \nQ 24.171875 6.390625 31.78125 6.390625 \nQ 39.453125 6.390625 43.28125 13.890625 \nQ 47.125 21.390625 47.125 36.375 \nQ 47.125 51.421875 43.28125 58.90625 \nQ 39.453125 66.40625 31.78125 66.40625 \nz\nM 31.78125 74.21875 \nQ 44.046875 74.21875 50.515625 64.515625 \nQ 56.984375 54.828125 56.984375 36.375 \nQ 56.984375 17.96875 50.515625 8.265625 \nQ 44.046875 -1.421875 31.78125 -1.421875 \nQ 19.53125 -1.421875 13.0625 8.265625 \nQ 6.59375 17.96875 6.59375 36.375 \nQ 6.59375 54.828125 13.0625 64.515625 \nQ 19.53125 74.21875 31.78125 74.21875 \nz\n\" id=\"DejaVuSans-48\"/>\n      </defs>\n      <g transform=\"translate(62.180682 266.418437)scale(0.1 -0.1)\">\n       <use xlink:href=\"#DejaVuSans-48\"/>\n      </g>\n     </g>\n    </g>\n    <g id=\"xtick_2\">\n     <g id=\"line2d_2\">\n      <g>\n       <use style=\"stroke:#000000;stroke-width:0.8;\" x=\"126.356649\" xlink:href=\"#m43324a246b\" y=\"251.82\"/>\n      </g>\n     </g>\n     <g id=\"text_2\">\n      <!-- 100 -->\n      <defs>\n       <path d=\"M 12.40625 8.296875 \nL 28.515625 8.296875 \nL 28.515625 63.921875 \nL 10.984375 60.40625 \nL 10.984375 69.390625 \nL 28.421875 72.90625 \nL 38.28125 72.90625 \nL 38.28125 8.296875 \nL 54.390625 8.296875 \nL 54.390625 0 \nL 12.40625 0 \nz\n\" id=\"DejaVuSans-49\"/>\n      </defs>\n      <g transform=\"translate(116.812899 266.418437)scale(0.1 -0.1)\">\n       <use xlink:href=\"#DejaVuSans-49\"/>\n       <use x=\"63.623047\" xlink:href=\"#DejaVuSans-48\"/>\n       <use x=\"127.246094\" xlink:href=\"#DejaVuSans-48\"/>\n      </g>\n     </g>\n    </g>\n    <g id=\"xtick_3\">\n     <g id=\"line2d_3\">\n      <g>\n       <use style=\"stroke:#000000;stroke-width:0.8;\" x=\"187.351365\" xlink:href=\"#m43324a246b\" y=\"251.82\"/>\n      </g>\n     </g>\n     <g id=\"text_3\">\n      <!-- 200 -->\n      <defs>\n       <path d=\"M 19.1875 8.296875 \nL 53.609375 8.296875 \nL 53.609375 0 \nL 7.328125 0 \nL 7.328125 8.296875 \nQ 12.9375 14.109375 22.625 23.890625 \nQ 32.328125 33.6875 34.8125 36.53125 \nQ 39.546875 41.84375 41.421875 45.53125 \nQ 43.3125 49.21875 43.3125 52.78125 \nQ 43.3125 58.59375 39.234375 62.25 \nQ 35.15625 65.921875 28.609375 65.921875 \nQ 23.96875 65.921875 18.8125 64.3125 \nQ 13.671875 62.703125 7.8125 59.421875 \nL 7.8125 69.390625 \nQ 13.765625 71.78125 18.9375 73 \nQ 24.125 74.21875 28.421875 74.21875 \nQ 39.75 74.21875 46.484375 68.546875 \nQ 53.21875 62.890625 53.21875 53.421875 \nQ 53.21875 48.921875 51.53125 44.890625 \nQ 49.859375 40.875 45.40625 35.40625 \nQ 44.1875 33.984375 37.640625 27.21875 \nQ 31.109375 20.453125 19.1875 8.296875 \nz\n\" id=\"DejaVuSans-50\"/>\n      </defs>\n      <g transform=\"translate(177.807615 266.418437)scale(0.1 -0.1)\">\n       <use xlink:href=\"#DejaVuSans-50\"/>\n       <use x=\"63.623047\" xlink:href=\"#DejaVuSans-48\"/>\n       <use x=\"127.246094\" xlink:href=\"#DejaVuSans-48\"/>\n      </g>\n     </g>\n    </g>\n    <g id=\"xtick_4\">\n     <g id=\"line2d_4\">\n      <g>\n       <use style=\"stroke:#000000;stroke-width:0.8;\" x=\"248.346082\" xlink:href=\"#m43324a246b\" y=\"251.82\"/>\n      </g>\n     </g>\n     <g id=\"text_4\">\n      <!-- 300 -->\n      <defs>\n       <path d=\"M 40.578125 39.3125 \nQ 47.65625 37.796875 51.625 33 \nQ 55.609375 28.21875 55.609375 21.1875 \nQ 55.609375 10.40625 48.1875 4.484375 \nQ 40.765625 -1.421875 27.09375 -1.421875 \nQ 22.515625 -1.421875 17.65625 -0.515625 \nQ 12.796875 0.390625 7.625 2.203125 \nL 7.625 11.71875 \nQ 11.71875 9.328125 16.59375 8.109375 \nQ 21.484375 6.890625 26.8125 6.890625 \nQ 36.078125 6.890625 40.9375 10.546875 \nQ 45.796875 14.203125 45.796875 21.1875 \nQ 45.796875 27.640625 41.28125 31.265625 \nQ 36.765625 34.90625 28.71875 34.90625 \nL 20.21875 34.90625 \nL 20.21875 43.015625 \nL 29.109375 43.015625 \nQ 36.375 43.015625 40.234375 45.921875 \nQ 44.09375 48.828125 44.09375 54.296875 \nQ 44.09375 59.90625 40.109375 62.90625 \nQ 36.140625 65.921875 28.71875 65.921875 \nQ 24.65625 65.921875 20.015625 65.03125 \nQ 15.375 64.15625 9.8125 62.3125 \nL 9.8125 71.09375 \nQ 15.4375 72.65625 20.34375 73.4375 \nQ 25.25 74.21875 29.59375 74.21875 \nQ 40.828125 74.21875 47.359375 69.109375 \nQ 53.90625 64.015625 53.90625 55.328125 \nQ 53.90625 49.265625 50.4375 45.09375 \nQ 46.96875 40.921875 40.578125 39.3125 \nz\n\" id=\"DejaVuSans-51\"/>\n      </defs>\n      <g transform=\"translate(238.802332 266.418437)scale(0.1 -0.1)\">\n       <use xlink:href=\"#DejaVuSans-51\"/>\n       <use x=\"63.623047\" xlink:href=\"#DejaVuSans-48\"/>\n       <use x=\"127.246094\" xlink:href=\"#DejaVuSans-48\"/>\n      </g>\n     </g>\n    </g>\n    <g id=\"xtick_5\">\n     <g id=\"line2d_5\">\n      <g>\n       <use style=\"stroke:#000000;stroke-width:0.8;\" x=\"309.340799\" xlink:href=\"#m43324a246b\" y=\"251.82\"/>\n      </g>\n     </g>\n     <g id=\"text_5\">\n      <!-- 400 -->\n      <defs>\n       <path d=\"M 37.796875 64.3125 \nL 12.890625 25.390625 \nL 37.796875 25.390625 \nz\nM 35.203125 72.90625 \nL 47.609375 72.90625 \nL 47.609375 25.390625 \nL 58.015625 25.390625 \nL 58.015625 17.1875 \nL 47.609375 17.1875 \nL 47.609375 0 \nL 37.796875 0 \nL 37.796875 17.1875 \nL 4.890625 17.1875 \nL 4.890625 26.703125 \nz\n\" id=\"DejaVuSans-52\"/>\n      </defs>\n      <g transform=\"translate(299.797049 266.418437)scale(0.1 -0.1)\">\n       <use xlink:href=\"#DejaVuSans-52\"/>\n       <use x=\"63.623047\" xlink:href=\"#DejaVuSans-48\"/>\n       <use x=\"127.246094\" xlink:href=\"#DejaVuSans-48\"/>\n      </g>\n     </g>\n    </g>\n    <g id=\"xtick_6\">\n     <g id=\"line2d_6\">\n      <g>\n       <use style=\"stroke:#000000;stroke-width:0.8;\" x=\"370.335515\" xlink:href=\"#m43324a246b\" y=\"251.82\"/>\n      </g>\n     </g>\n     <g id=\"text_6\">\n      <!-- 500 -->\n      <defs>\n       <path d=\"M 10.796875 72.90625 \nL 49.515625 72.90625 \nL 49.515625 64.59375 \nL 19.828125 64.59375 \nL 19.828125 46.734375 \nQ 21.96875 47.46875 24.109375 47.828125 \nQ 26.265625 48.1875 28.421875 48.1875 \nQ 40.625 48.1875 47.75 41.5 \nQ 54.890625 34.8125 54.890625 23.390625 \nQ 54.890625 11.625 47.5625 5.09375 \nQ 40.234375 -1.421875 26.90625 -1.421875 \nQ 22.3125 -1.421875 17.546875 -0.640625 \nQ 12.796875 0.140625 7.71875 1.703125 \nL 7.71875 11.625 \nQ 12.109375 9.234375 16.796875 8.0625 \nQ 21.484375 6.890625 26.703125 6.890625 \nQ 35.15625 6.890625 40.078125 11.328125 \nQ 45.015625 15.765625 45.015625 23.390625 \nQ 45.015625 31 40.078125 35.4375 \nQ 35.15625 39.890625 26.703125 39.890625 \nQ 22.75 39.890625 18.8125 39.015625 \nQ 14.890625 38.140625 10.796875 36.28125 \nz\n\" id=\"DejaVuSans-53\"/>\n      </defs>\n      <g transform=\"translate(360.791765 266.418437)scale(0.1 -0.1)\">\n       <use xlink:href=\"#DejaVuSans-53\"/>\n       <use x=\"63.623047\" xlink:href=\"#DejaVuSans-48\"/>\n       <use x=\"127.246094\" xlink:href=\"#DejaVuSans-48\"/>\n      </g>\n     </g>\n    </g>\n    <g id=\"text_7\">\n     <!-- Groups of experiments -->\n     <defs>\n      <path d=\"M 59.515625 10.40625 \nL 59.515625 29.984375 \nL 43.40625 29.984375 \nL 43.40625 38.09375 \nL 69.28125 38.09375 \nL 69.28125 6.78125 \nQ 63.578125 2.734375 56.6875 0.65625 \nQ 49.8125 -1.421875 42 -1.421875 \nQ 24.90625 -1.421875 15.25 8.5625 \nQ 5.609375 18.5625 5.609375 36.375 \nQ 5.609375 54.25 15.25 64.234375 \nQ 24.90625 74.21875 42 74.21875 \nQ 49.125 74.21875 55.546875 72.453125 \nQ 61.96875 70.703125 67.390625 67.28125 \nL 67.390625 56.78125 \nQ 61.921875 61.421875 55.765625 63.765625 \nQ 49.609375 66.109375 42.828125 66.109375 \nQ 29.4375 66.109375 22.71875 58.640625 \nQ 16.015625 51.171875 16.015625 36.375 \nQ 16.015625 21.625 22.71875 14.15625 \nQ 29.4375 6.6875 42.828125 6.6875 \nQ 48.046875 6.6875 52.140625 7.59375 \nQ 56.25 8.5 59.515625 10.40625 \nz\n\" id=\"DejaVuSans-71\"/>\n      <path d=\"M 41.109375 46.296875 \nQ 39.59375 47.171875 37.8125 47.578125 \nQ 36.03125 48 33.890625 48 \nQ 26.265625 48 22.1875 43.046875 \nQ 18.109375 38.09375 18.109375 28.8125 \nL 18.109375 0 \nL 9.078125 0 \nL 9.078125 54.6875 \nL 18.109375 54.6875 \nL 18.109375 46.1875 \nQ 20.953125 51.171875 25.484375 53.578125 \nQ 30.03125 56 36.53125 56 \nQ 37.453125 56 38.578125 55.875 \nQ 39.703125 55.765625 41.0625 55.515625 \nz\n\" id=\"DejaVuSans-114\"/>\n      <path d=\"M 30.609375 48.390625 \nQ 23.390625 48.390625 19.1875 42.75 \nQ 14.984375 37.109375 14.984375 27.296875 \nQ 14.984375 17.484375 19.15625 11.84375 \nQ 23.34375 6.203125 30.609375 6.203125 \nQ 37.796875 6.203125 41.984375 11.859375 \nQ 46.1875 17.53125 46.1875 27.296875 \nQ 46.1875 37.015625 41.984375 42.703125 \nQ 37.796875 48.390625 30.609375 48.390625 \nz\nM 30.609375 56 \nQ 42.328125 56 49.015625 48.375 \nQ 55.71875 40.765625 55.71875 27.296875 \nQ 55.71875 13.875 49.015625 6.21875 \nQ 42.328125 -1.421875 30.609375 -1.421875 \nQ 18.84375 -1.421875 12.171875 6.21875 \nQ 5.515625 13.875 5.515625 27.296875 \nQ 5.515625 40.765625 12.171875 48.375 \nQ 18.84375 56 30.609375 56 \nz\n\" id=\"DejaVuSans-111\"/>\n      <path d=\"M 8.5 21.578125 \nL 8.5 54.6875 \nL 17.484375 54.6875 \nL 17.484375 21.921875 \nQ 17.484375 14.15625 20.5 10.265625 \nQ 23.53125 6.390625 29.59375 6.390625 \nQ 36.859375 6.390625 41.078125 11.03125 \nQ 45.3125 15.671875 45.3125 23.6875 \nL 45.3125 54.6875 \nL 54.296875 54.6875 \nL 54.296875 0 \nL 45.3125 0 \nL 45.3125 8.40625 \nQ 42.046875 3.421875 37.71875 1 \nQ 33.40625 -1.421875 27.6875 -1.421875 \nQ 18.265625 -1.421875 13.375 4.4375 \nQ 8.5 10.296875 8.5 21.578125 \nz\nM 31.109375 56 \nz\n\" id=\"DejaVuSans-117\"/>\n      <path d=\"M 18.109375 8.203125 \nL 18.109375 -20.796875 \nL 9.078125 -20.796875 \nL 9.078125 54.6875 \nL 18.109375 54.6875 \nL 18.109375 46.390625 \nQ 20.953125 51.265625 25.265625 53.625 \nQ 29.59375 56 35.59375 56 \nQ 45.5625 56 51.78125 48.09375 \nQ 58.015625 40.1875 58.015625 27.296875 \nQ 58.015625 14.40625 51.78125 6.484375 \nQ 45.5625 -1.421875 35.59375 -1.421875 \nQ 29.59375 -1.421875 25.265625 0.953125 \nQ 20.953125 3.328125 18.109375 8.203125 \nz\nM 48.6875 27.296875 \nQ 48.6875 37.203125 44.609375 42.84375 \nQ 40.53125 48.484375 33.40625 48.484375 \nQ 26.265625 48.484375 22.1875 42.84375 \nQ 18.109375 37.203125 18.109375 27.296875 \nQ 18.109375 17.390625 22.1875 11.75 \nQ 26.265625 6.109375 33.40625 6.109375 \nQ 40.53125 6.109375 44.609375 11.75 \nQ 48.6875 17.390625 48.6875 27.296875 \nz\n\" id=\"DejaVuSans-112\"/>\n      <path d=\"M 44.28125 53.078125 \nL 44.28125 44.578125 \nQ 40.484375 46.53125 36.375 47.5 \nQ 32.28125 48.484375 27.875 48.484375 \nQ 21.1875 48.484375 17.84375 46.4375 \nQ 14.5 44.390625 14.5 40.28125 \nQ 14.5 37.15625 16.890625 35.375 \nQ 19.28125 33.59375 26.515625 31.984375 \nL 29.59375 31.296875 \nQ 39.15625 29.25 43.1875 25.515625 \nQ 47.21875 21.78125 47.21875 15.09375 \nQ 47.21875 7.46875 41.1875 3.015625 \nQ 35.15625 -1.421875 24.609375 -1.421875 \nQ 20.21875 -1.421875 15.453125 -0.5625 \nQ 10.6875 0.296875 5.421875 2 \nL 5.421875 11.28125 \nQ 10.40625 8.6875 15.234375 7.390625 \nQ 20.0625 6.109375 24.8125 6.109375 \nQ 31.15625 6.109375 34.5625 8.28125 \nQ 37.984375 10.453125 37.984375 14.40625 \nQ 37.984375 18.0625 35.515625 20.015625 \nQ 33.0625 21.96875 24.703125 23.78125 \nL 21.578125 24.515625 \nQ 13.234375 26.265625 9.515625 29.90625 \nQ 5.8125 33.546875 5.8125 39.890625 \nQ 5.8125 47.609375 11.28125 51.796875 \nQ 16.75 56 26.8125 56 \nQ 31.78125 56 36.171875 55.265625 \nQ 40.578125 54.546875 44.28125 53.078125 \nz\n\" id=\"DejaVuSans-115\"/>\n      <path id=\"DejaVuSans-32\"/>\n      <path d=\"M 37.109375 75.984375 \nL 37.109375 68.5 \nL 28.515625 68.5 \nQ 23.6875 68.5 21.796875 66.546875 \nQ 19.921875 64.59375 19.921875 59.515625 \nL 19.921875 54.6875 \nL 34.71875 54.6875 \nL 34.71875 47.703125 \nL 19.921875 47.703125 \nL 19.921875 0 \nL 10.890625 0 \nL 10.890625 47.703125 \nL 2.296875 47.703125 \nL 2.296875 54.6875 \nL 10.890625 54.6875 \nL 10.890625 58.5 \nQ 10.890625 67.625 15.140625 71.796875 \nQ 19.390625 75.984375 28.609375 75.984375 \nz\n\" id=\"DejaVuSans-102\"/>\n      <path d=\"M 56.203125 29.59375 \nL 56.203125 25.203125 \nL 14.890625 25.203125 \nQ 15.484375 15.921875 20.484375 11.0625 \nQ 25.484375 6.203125 34.421875 6.203125 \nQ 39.59375 6.203125 44.453125 7.46875 \nQ 49.3125 8.734375 54.109375 11.28125 \nL 54.109375 2.78125 \nQ 49.265625 0.734375 44.1875 -0.34375 \nQ 39.109375 -1.421875 33.890625 -1.421875 \nQ 20.796875 -1.421875 13.15625 6.1875 \nQ 5.515625 13.8125 5.515625 26.8125 \nQ 5.515625 40.234375 12.765625 48.109375 \nQ 20.015625 56 32.328125 56 \nQ 43.359375 56 49.78125 48.890625 \nQ 56.203125 41.796875 56.203125 29.59375 \nz\nM 47.21875 32.234375 \nQ 47.125 39.59375 43.09375 43.984375 \nQ 39.0625 48.390625 32.421875 48.390625 \nQ 24.90625 48.390625 20.390625 44.140625 \nQ 15.875 39.890625 15.1875 32.171875 \nz\n\" id=\"DejaVuSans-101\"/>\n      <path d=\"M 54.890625 54.6875 \nL 35.109375 28.078125 \nL 55.90625 0 \nL 45.3125 0 \nL 29.390625 21.484375 \nL 13.484375 0 \nL 2.875 0 \nL 24.125 28.609375 \nL 4.6875 54.6875 \nL 15.28125 54.6875 \nL 29.78125 35.203125 \nL 44.28125 54.6875 \nz\n\" id=\"DejaVuSans-120\"/>\n      <path d=\"M 9.421875 54.6875 \nL 18.40625 54.6875 \nL 18.40625 0 \nL 9.421875 0 \nz\nM 9.421875 75.984375 \nL 18.40625 75.984375 \nL 18.40625 64.59375 \nL 9.421875 64.59375 \nz\n\" id=\"DejaVuSans-105\"/>\n      <path d=\"M 52 44.1875 \nQ 55.375 50.25 60.0625 53.125 \nQ 64.75 56 71.09375 56 \nQ 79.640625 56 84.28125 50.015625 \nQ 88.921875 44.046875 88.921875 33.015625 \nL 88.921875 0 \nL 79.890625 0 \nL 79.890625 32.71875 \nQ 79.890625 40.578125 77.09375 44.375 \nQ 74.3125 48.1875 68.609375 48.1875 \nQ 61.625 48.1875 57.5625 43.546875 \nQ 53.515625 38.921875 53.515625 30.90625 \nL 53.515625 0 \nL 44.484375 0 \nL 44.484375 32.71875 \nQ 44.484375 40.625 41.703125 44.40625 \nQ 38.921875 48.1875 33.109375 48.1875 \nQ 26.21875 48.1875 22.15625 43.53125 \nQ 18.109375 38.875 18.109375 30.90625 \nL 18.109375 0 \nL 9.078125 0 \nL 9.078125 54.6875 \nL 18.109375 54.6875 \nL 18.109375 46.1875 \nQ 21.1875 51.21875 25.484375 53.609375 \nQ 29.78125 56 35.6875 56 \nQ 41.65625 56 45.828125 52.96875 \nQ 50 49.953125 52 44.1875 \nz\n\" id=\"DejaVuSans-109\"/>\n      <path d=\"M 54.890625 33.015625 \nL 54.890625 0 \nL 45.90625 0 \nL 45.90625 32.71875 \nQ 45.90625 40.484375 42.875 44.328125 \nQ 39.84375 48.1875 33.796875 48.1875 \nQ 26.515625 48.1875 22.3125 43.546875 \nQ 18.109375 38.921875 18.109375 30.90625 \nL 18.109375 0 \nL 9.078125 0 \nL 9.078125 54.6875 \nL 18.109375 54.6875 \nL 18.109375 46.1875 \nQ 21.34375 51.125 25.703125 53.5625 \nQ 30.078125 56 35.796875 56 \nQ 45.21875 56 50.046875 50.171875 \nQ 54.890625 44.34375 54.890625 33.015625 \nz\n\" id=\"DejaVuSans-110\"/>\n      <path d=\"M 18.3125 70.21875 \nL 18.3125 54.6875 \nL 36.8125 54.6875 \nL 36.8125 47.703125 \nL 18.3125 47.703125 \nL 18.3125 18.015625 \nQ 18.3125 11.328125 20.140625 9.421875 \nQ 21.96875 7.515625 27.59375 7.515625 \nL 36.8125 7.515625 \nL 36.8125 0 \nL 27.59375 0 \nQ 17.1875 0 13.234375 3.875 \nQ 9.28125 7.765625 9.28125 18.015625 \nL 9.28125 47.703125 \nL 2.6875 47.703125 \nL 2.6875 54.6875 \nL 9.28125 54.6875 \nL 9.28125 70.21875 \nz\n\" id=\"DejaVuSans-116\"/>\n     </defs>\n     <g transform=\"translate(160.397656 280.096562)scale(0.1 -0.1)\">\n      <use xlink:href=\"#DejaVuSans-71\"/>\n      <use x=\"77.490234\" xlink:href=\"#DejaVuSans-114\"/>\n      <use x=\"116.353516\" xlink:href=\"#DejaVuSans-111\"/>\n      <use x=\"177.535156\" xlink:href=\"#DejaVuSans-117\"/>\n      <use x=\"240.914062\" xlink:href=\"#DejaVuSans-112\"/>\n      <use x=\"304.390625\" xlink:href=\"#DejaVuSans-115\"/>\n      <use x=\"356.490234\" xlink:href=\"#DejaVuSans-32\"/>\n      <use x=\"388.277344\" xlink:href=\"#DejaVuSans-111\"/>\n      <use x=\"449.458984\" xlink:href=\"#DejaVuSans-102\"/>\n      <use x=\"484.664062\" xlink:href=\"#DejaVuSans-32\"/>\n      <use x=\"516.451172\" xlink:href=\"#DejaVuSans-101\"/>\n      <use x=\"576.224609\" xlink:href=\"#DejaVuSans-120\"/>\n      <use x=\"635.404297\" xlink:href=\"#DejaVuSans-112\"/>\n      <use x=\"698.880859\" xlink:href=\"#DejaVuSans-101\"/>\n      <use x=\"760.404297\" xlink:href=\"#DejaVuSans-114\"/>\n      <use x=\"801.517578\" xlink:href=\"#DejaVuSans-105\"/>\n      <use x=\"829.300781\" xlink:href=\"#DejaVuSans-109\"/>\n      <use x=\"926.712891\" xlink:href=\"#DejaVuSans-101\"/>\n      <use x=\"988.236328\" xlink:href=\"#DejaVuSans-110\"/>\n      <use x=\"1051.615234\" xlink:href=\"#DejaVuSans-116\"/>\n      <use x=\"1090.824219\" xlink:href=\"#DejaVuSans-115\"/>\n     </g>\n    </g>\n   </g>\n   <g id=\"matplotlib.axis_2\">\n    <g id=\"ytick_1\">\n     <g id=\"line2d_7\">\n      <defs>\n       <path d=\"M 0 0 \nL -3.5 0 \n\" id=\"mec8a96c878\" style=\"stroke:#000000;stroke-width:0.8;\"/>\n      </defs>\n      <g>\n       <use style=\"stroke:#000000;stroke-width:0.8;\" x=\"50.14375\" xlink:href=\"#mec8a96c878\" y=\"240.700909\"/>\n      </g>\n     </g>\n     <g id=\"text_8\">\n      <!-- 0.00 -->\n      <defs>\n       <path d=\"M 10.6875 12.40625 \nL 21 12.40625 \nL 21 0 \nL 10.6875 0 \nz\n\" id=\"DejaVuSans-46\"/>\n      </defs>\n      <g transform=\"translate(20.878125 244.500128)scale(0.1 -0.1)\">\n       <use xlink:href=\"#DejaVuSans-48\"/>\n       <use x=\"63.623047\" xlink:href=\"#DejaVuSans-46\"/>\n       <use x=\"95.410156\" xlink:href=\"#DejaVuSans-48\"/>\n       <use x=\"159.033203\" xlink:href=\"#DejaVuSans-48\"/>\n      </g>\n     </g>\n    </g>\n    <g id=\"ytick_2\">\n     <g id=\"line2d_8\">\n      <g>\n       <use style=\"stroke:#000000;stroke-width:0.8;\" x=\"50.14375\" xlink:href=\"#mec8a96c878\" y=\"203.637274\"/>\n      </g>\n     </g>\n     <g id=\"text_9\">\n      <!-- 0.05 -->\n      <g transform=\"translate(20.878125 207.436493)scale(0.1 -0.1)\">\n       <use xlink:href=\"#DejaVuSans-48\"/>\n       <use x=\"63.623047\" xlink:href=\"#DejaVuSans-46\"/>\n       <use x=\"95.410156\" xlink:href=\"#DejaVuSans-48\"/>\n       <use x=\"159.033203\" xlink:href=\"#DejaVuSans-53\"/>\n      </g>\n     </g>\n    </g>\n    <g id=\"ytick_3\">\n     <g id=\"line2d_9\">\n      <g>\n       <use style=\"stroke:#000000;stroke-width:0.8;\" x=\"50.14375\" xlink:href=\"#mec8a96c878\" y=\"166.573639\"/>\n      </g>\n     </g>\n     <g id=\"text_10\">\n      <!-- 0.10 -->\n      <g transform=\"translate(20.878125 170.372858)scale(0.1 -0.1)\">\n       <use xlink:href=\"#DejaVuSans-48\"/>\n       <use x=\"63.623047\" xlink:href=\"#DejaVuSans-46\"/>\n       <use x=\"95.410156\" xlink:href=\"#DejaVuSans-49\"/>\n       <use x=\"159.033203\" xlink:href=\"#DejaVuSans-48\"/>\n      </g>\n     </g>\n    </g>\n    <g id=\"ytick_4\">\n     <g id=\"line2d_10\">\n      <g>\n       <use style=\"stroke:#000000;stroke-width:0.8;\" x=\"50.14375\" xlink:href=\"#mec8a96c878\" y=\"129.510004\"/>\n      </g>\n     </g>\n     <g id=\"text_11\">\n      <!-- 0.15 -->\n      <g transform=\"translate(20.878125 133.309223)scale(0.1 -0.1)\">\n       <use xlink:href=\"#DejaVuSans-48\"/>\n       <use x=\"63.623047\" xlink:href=\"#DejaVuSans-46\"/>\n       <use x=\"95.410156\" xlink:href=\"#DejaVuSans-49\"/>\n       <use x=\"159.033203\" xlink:href=\"#DejaVuSans-53\"/>\n      </g>\n     </g>\n    </g>\n    <g id=\"ytick_5\">\n     <g id=\"line2d_11\">\n      <g>\n       <use style=\"stroke:#000000;stroke-width:0.8;\" x=\"50.14375\" xlink:href=\"#mec8a96c878\" y=\"92.44637\"/>\n      </g>\n     </g>\n     <g id=\"text_12\">\n      <!-- 0.20 -->\n      <g transform=\"translate(20.878125 96.245588)scale(0.1 -0.1)\">\n       <use xlink:href=\"#DejaVuSans-48\"/>\n       <use x=\"63.623047\" xlink:href=\"#DejaVuSans-46\"/>\n       <use x=\"95.410156\" xlink:href=\"#DejaVuSans-50\"/>\n       <use x=\"159.033203\" xlink:href=\"#DejaVuSans-48\"/>\n      </g>\n     </g>\n    </g>\n    <g id=\"ytick_6\">\n     <g id=\"line2d_12\">\n      <g>\n       <use style=\"stroke:#000000;stroke-width:0.8;\" x=\"50.14375\" xlink:href=\"#mec8a96c878\" y=\"55.382735\"/>\n      </g>\n     </g>\n     <g id=\"text_13\">\n      <!-- 0.25 -->\n      <g transform=\"translate(20.878125 59.181953)scale(0.1 -0.1)\">\n       <use xlink:href=\"#DejaVuSans-48\"/>\n       <use x=\"63.623047\" xlink:href=\"#DejaVuSans-46\"/>\n       <use x=\"95.410156\" xlink:href=\"#DejaVuSans-50\"/>\n       <use x=\"159.033203\" xlink:href=\"#DejaVuSans-53\"/>\n      </g>\n     </g>\n    </g>\n    <g id=\"ytick_7\">\n     <g id=\"line2d_13\">\n      <g>\n       <use style=\"stroke:#000000;stroke-width:0.8;\" x=\"50.14375\" xlink:href=\"#mec8a96c878\" y=\"18.3191\"/>\n      </g>\n     </g>\n     <g id=\"text_14\">\n      <!-- 0.30 -->\n      <g transform=\"translate(20.878125 22.118318)scale(0.1 -0.1)\">\n       <use xlink:href=\"#DejaVuSans-48\"/>\n       <use x=\"63.623047\" xlink:href=\"#DejaVuSans-46\"/>\n       <use x=\"95.410156\" xlink:href=\"#DejaVuSans-51\"/>\n       <use x=\"159.033203\" xlink:href=\"#DejaVuSans-48\"/>\n      </g>\n     </g>\n    </g>\n    <g id=\"text_15\">\n     <!-- Estimated probability -->\n     <defs>\n      <path d=\"M 9.8125 72.90625 \nL 55.90625 72.90625 \nL 55.90625 64.59375 \nL 19.671875 64.59375 \nL 19.671875 43.015625 \nL 54.390625 43.015625 \nL 54.390625 34.71875 \nL 19.671875 34.71875 \nL 19.671875 8.296875 \nL 56.78125 8.296875 \nL 56.78125 0 \nL 9.8125 0 \nz\n\" id=\"DejaVuSans-69\"/>\n      <path d=\"M 34.28125 27.484375 \nQ 23.390625 27.484375 19.1875 25 \nQ 14.984375 22.515625 14.984375 16.5 \nQ 14.984375 11.71875 18.140625 8.90625 \nQ 21.296875 6.109375 26.703125 6.109375 \nQ 34.1875 6.109375 38.703125 11.40625 \nQ 43.21875 16.703125 43.21875 25.484375 \nL 43.21875 27.484375 \nz\nM 52.203125 31.203125 \nL 52.203125 0 \nL 43.21875 0 \nL 43.21875 8.296875 \nQ 40.140625 3.328125 35.546875 0.953125 \nQ 30.953125 -1.421875 24.3125 -1.421875 \nQ 15.921875 -1.421875 10.953125 3.296875 \nQ 6 8.015625 6 15.921875 \nQ 6 25.140625 12.171875 29.828125 \nQ 18.359375 34.515625 30.609375 34.515625 \nL 43.21875 34.515625 \nL 43.21875 35.40625 \nQ 43.21875 41.609375 39.140625 45 \nQ 35.0625 48.390625 27.6875 48.390625 \nQ 23 48.390625 18.546875 47.265625 \nQ 14.109375 46.140625 10.015625 43.890625 \nL 10.015625 52.203125 \nQ 14.9375 54.109375 19.578125 55.046875 \nQ 24.21875 56 28.609375 56 \nQ 40.484375 56 46.34375 49.84375 \nQ 52.203125 43.703125 52.203125 31.203125 \nz\n\" id=\"DejaVuSans-97\"/>\n      <path d=\"M 45.40625 46.390625 \nL 45.40625 75.984375 \nL 54.390625 75.984375 \nL 54.390625 0 \nL 45.40625 0 \nL 45.40625 8.203125 \nQ 42.578125 3.328125 38.25 0.953125 \nQ 33.9375 -1.421875 27.875 -1.421875 \nQ 17.96875 -1.421875 11.734375 6.484375 \nQ 5.515625 14.40625 5.515625 27.296875 \nQ 5.515625 40.1875 11.734375 48.09375 \nQ 17.96875 56 27.875 56 \nQ 33.9375 56 38.25 53.625 \nQ 42.578125 51.265625 45.40625 46.390625 \nz\nM 14.796875 27.296875 \nQ 14.796875 17.390625 18.875 11.75 \nQ 22.953125 6.109375 30.078125 6.109375 \nQ 37.203125 6.109375 41.296875 11.75 \nQ 45.40625 17.390625 45.40625 27.296875 \nQ 45.40625 37.203125 41.296875 42.84375 \nQ 37.203125 48.484375 30.078125 48.484375 \nQ 22.953125 48.484375 18.875 42.84375 \nQ 14.796875 37.203125 14.796875 27.296875 \nz\n\" id=\"DejaVuSans-100\"/>\n      <path d=\"M 48.6875 27.296875 \nQ 48.6875 37.203125 44.609375 42.84375 \nQ 40.53125 48.484375 33.40625 48.484375 \nQ 26.265625 48.484375 22.1875 42.84375 \nQ 18.109375 37.203125 18.109375 27.296875 \nQ 18.109375 17.390625 22.1875 11.75 \nQ 26.265625 6.109375 33.40625 6.109375 \nQ 40.53125 6.109375 44.609375 11.75 \nQ 48.6875 17.390625 48.6875 27.296875 \nz\nM 18.109375 46.390625 \nQ 20.953125 51.265625 25.265625 53.625 \nQ 29.59375 56 35.59375 56 \nQ 45.5625 56 51.78125 48.09375 \nQ 58.015625 40.1875 58.015625 27.296875 \nQ 58.015625 14.40625 51.78125 6.484375 \nQ 45.5625 -1.421875 35.59375 -1.421875 \nQ 29.59375 -1.421875 25.265625 0.953125 \nQ 20.953125 3.328125 18.109375 8.203125 \nL 18.109375 0 \nL 9.078125 0 \nL 9.078125 75.984375 \nL 18.109375 75.984375 \nz\n\" id=\"DejaVuSans-98\"/>\n      <path d=\"M 9.421875 75.984375 \nL 18.40625 75.984375 \nL 18.40625 0 \nL 9.421875 0 \nz\n\" id=\"DejaVuSans-108\"/>\n      <path d=\"M 32.171875 -5.078125 \nQ 28.375 -14.84375 24.75 -17.8125 \nQ 21.140625 -20.796875 15.09375 -20.796875 \nL 7.90625 -20.796875 \nL 7.90625 -13.28125 \nL 13.1875 -13.28125 \nQ 16.890625 -13.28125 18.9375 -11.515625 \nQ 21 -9.765625 23.484375 -3.21875 \nL 25.09375 0.875 \nL 2.984375 54.6875 \nL 12.5 54.6875 \nL 29.59375 11.921875 \nL 46.6875 54.6875 \nL 56.203125 54.6875 \nz\n\" id=\"DejaVuSans-121\"/>\n     </defs>\n     <g transform=\"translate(14.798438 183.033437)rotate(-90)scale(0.1 -0.1)\">\n      <use xlink:href=\"#DejaVuSans-69\"/>\n      <use x=\"63.183594\" xlink:href=\"#DejaVuSans-115\"/>\n      <use x=\"115.283203\" xlink:href=\"#DejaVuSans-116\"/>\n      <use x=\"154.492188\" xlink:href=\"#DejaVuSans-105\"/>\n      <use x=\"182.275391\" xlink:href=\"#DejaVuSans-109\"/>\n      <use x=\"279.6875\" xlink:href=\"#DejaVuSans-97\"/>\n      <use x=\"340.966797\" xlink:href=\"#DejaVuSans-116\"/>\n      <use x=\"380.175781\" xlink:href=\"#DejaVuSans-101\"/>\n      <use x=\"441.699219\" xlink:href=\"#DejaVuSans-100\"/>\n      <use x=\"505.175781\" xlink:href=\"#DejaVuSans-32\"/>\n      <use x=\"536.962891\" xlink:href=\"#DejaVuSans-112\"/>\n      <use x=\"600.439453\" xlink:href=\"#DejaVuSans-114\"/>\n      <use x=\"639.302734\" xlink:href=\"#DejaVuSans-111\"/>\n      <use x=\"700.484375\" xlink:href=\"#DejaVuSans-98\"/>\n      <use x=\"763.960938\" xlink:href=\"#DejaVuSans-97\"/>\n      <use x=\"825.240234\" xlink:href=\"#DejaVuSans-98\"/>\n      <use x=\"888.716797\" xlink:href=\"#DejaVuSans-105\"/>\n      <use x=\"916.5\" xlink:href=\"#DejaVuSans-108\"/>\n      <use x=\"944.283203\" xlink:href=\"#DejaVuSans-105\"/>\n      <use x=\"972.066406\" xlink:href=\"#DejaVuSans-116\"/>\n      <use x=\"1011.275391\" xlink:href=\"#DejaVuSans-121\"/>\n     </g>\n    </g>\n   </g>\n   <g id=\"line2d_14\">\n    <path clip-path=\"url(#p05a6a5f0fe)\" d=\"M 65.361932 92.446367 \nL 65.971879 55.382735 \nL 66.581826 43.028179 \nL 67.191773 36.850913 \nL 67.80172 62.795466 \nL 68.411668 67.737279 \nL 69.021615 81.856758 \nL 69.631562 101.712278 \nL 70.241509 100.68273 \nL 70.851456 107.271818 \nL 72.071351 104.800912 \nL 72.681298 103.850562 \nL 73.901192 112.213643 \nL 74.511139 97.079328 \nL 75.121086 96.806795 \nL 75.731034 100.68273 \nL 76.340981 96.347808 \nL 76.950928 99.859098 \nL 77.560875 99.506107 \nL 78.170822 102.554633 \nL 78.780769 102.115142 \nL 79.390717 104.800912 \nL 80.000664 98.37655 \nL 80.610611 100.999513 \nL 81.220558 100.68273 \nL 81.830505 97.741172 \nL 83.0504 97.388192 \nL 83.660347 92.446367 \nL 84.880241 96.938936 \nL 85.490188 96.806795 \nL 86.100135 98.800135 \nL 86.710083 98.623645 \nL 87.32003 96.453251 \nL 87.929977 96.347808 \nL 89.149871 99.859098 \nL 89.759819 99.6783 \nL 90.369766 101.271042 \nL 90.979713 99.341933 \nL 91.58966 95.815785 \nL 92.199607 95.740917 \nL 92.809554 97.28076 \nL 94.029449 97.079328 \nL 94.639396 93.95917 \nL 95.249343 92.446367 \nL 95.85929 92.446367 \nL 97.079185 95.243623 \nL 97.689132 93.819098 \nL 98.299079 93.794135 \nL 98.909026 95.093775 \nL 99.518973 93.746847 \nL 100.12892 89.890253 \nL 100.738868 88.67719 \nL 101.958762 93.661574 \nL 102.568709 93.641967 \nL 104.398551 97.00805 \nL 105.008498 95.815785 \nL 105.618445 97.97826 \nL 106.228392 98.987008 \nL 106.838339 97.817907 \nL 107.448286 99.859098 \nL 109.278128 102.600793 \nL 109.888075 101.461847 \nL 110.498022 102.330005 \nL 111.107969 101.224594 \nL 111.717917 103.035977 \nL 112.327864 101.949863 \nL 112.937811 101.829563 \nL 114.157705 103.428192 \nL 114.767652 102.390271 \nL 115.987547 102.153515 \nL 117.817388 104.374896 \nL 119.037283 104.106836 \nL 119.64723 103.153637 \nL 120.257177 99.777635 \nL 121.477071 102.808245 \nL 122.087018 101.909424 \nL 122.696966 101.809813 \nL 123.306913 103.256595 \nL 123.91686 103.909348 \nL 124.526807 103.792384 \nL 125.136754 104.426535 \nL 126.356649 104.189304 \nL 126.966596 104.800912 \nL 127.576543 103.961285 \nL 128.18649 104.563327 \nL 128.796437 104.447931 \nL 129.406384 103.635389 \nL 130.016332 101.452492 \nL 130.626279 100.68273 \nL 131.846173 101.880749 \nL 132.45612 101.795752 \nL 133.066067 102.374133 \nL 133.676015 101.630274 \nL 135.505856 101.392767 \nL 136.115803 102.583429 \nL 136.72575 101.869328 \nL 137.335698 101.79014 \nL 137.945645 101.094552 \nL 138.555592 101.635698 \nL 139.165539 100.952778 \nL 140.385433 102.011178 \nL 140.995381 101.934664 \nL 142.215275 102.952592 \nL 142.825222 104.028753 \nL 143.435169 103.364336 \nL 144.655064 105.461076 \nL 145.265011 105.924051 \nL 146.484905 105.722895 \nL 147.094852 106.173642 \nL 147.704799 106.072706 \nL 148.314747 105.432169 \nL 148.924694 105.33807 \nL 149.534641 104.712037 \nL 150.144588 103.565458 \nL 150.754535 104.012328 \nL 151.364482 103.408851 \nL 153.804271 105.1394 \nL 155.024165 104.967869 \nL 155.634113 105.381325 \nL 156.24406 104.306732 \nL 156.854007 103.737276 \nL 157.463954 102.687636 \nL 158.073901 103.589682 \nL 159.903743 104.800912 \nL 160.51369 104.722221 \nL 161.123637 104.175364 \nL 162.343531 104.028753 \nL 162.953479 104.417235 \nL 163.563426 103.885765 \nL 164.173373 104.270347 \nL 164.78332 104.198251 \nL 165.393267 105.025539 \nL 166.003214 104.949765 \nL 166.613162 105.762649 \nL 167.223109 105.683385 \nL 167.833056 106.482307 \nL 168.443003 105.963694 \nL 169.05295 105.88465 \nL 169.662897 106.237487 \nL 170.272845 107.014738 \nL 170.882792 107.357026 \nL 171.492739 106.424659 \nL 172.102686 106.345228 \nL 172.712633 107.104308 \nL 173.932528 106.940532 \nL 174.542475 107.271818 \nL 175.762369 106.294318 \nL 176.372316 107.028788 \nL 176.982263 106.143797 \nL 178.202158 106.793578 \nL 178.812105 106.320452 \nL 179.422052 106.246655 \nL 180.031999 106.958062 \nL 180.641946 107.271818 \nL 181.251894 107.9704 \nL 181.861841 107.889556 \nL 182.471788 108.577689 \nL 183.691682 108.412244 \nL 184.301629 108.70899 \nL 184.911577 108.626434 \nL 185.521524 109.29348 \nL 186.131471 109.208814 \nL 186.741418 108.754367 \nL 187.961312 109.326839 \nL 188.57126 108.878522 \nL 189.181207 109.161339 \nL 189.791154 109.803002 \nL 190.401101 109.718744 \nL 191.011048 109.99341 \nL 192.230943 109.825491 \nL 192.84089 110.448708 \nL 193.450837 110.36339 \nL 194.060784 110.628534 \nL 194.670731 110.543171 \nL 195.890626 111.753937 \nL 196.500573 112.007737 \nL 197.11052 111.917592 \nL 197.720467 111.488241 \nL 200.160256 111.145136 \nL 200.770203 110.728885 \nL 201.38015 111.309111 \nL 201.990097 111.554737 \nL 202.600044 111.142187 \nL 203.209992 111.386377 \nL 203.819939 111.303312 \nL 204.429886 110.897267 \nL 205.039833 111.139337 \nL 205.64978 111.700211 \nL 206.869675 112.171227 \nL 207.479622 111.770142 \nL 208.089569 112.003352 \nL 209.309463 111.838316 \nL 209.91941 112.37975 \nL 211.139305 112.831369 \nL 211.749252 112.74678 \nL 212.359199 112.96921 \nL 212.969146 113.494859 \nL 213.579093 113.408591 \nL 216.018882 115.461689 \nL 216.628829 115.369258 \nL 217.238776 115.870583 \nL 217.848724 116.072589 \nL 218.458671 116.567144 \nL 219.678565 116.377222 \nL 220.288512 115.992684 \nL 220.898459 115.900705 \nL 223.338248 116.680287 \nL 223.948195 116.587435 \nL 224.558142 116.212363 \nL 225.778037 116.032316 \nL 226.387984 115.38386 \nL 226.997931 115.576312 \nL 227.607878 116.044942 \nL 228.217825 115.956884 \nL 228.827773 115.318347 \nL 229.43772 114.959093 \nL 230.047667 115.149556 \nL 230.657614 115.066083 \nL 231.267561 114.7117 \nL 231.877508 114.900981 \nL 232.487456 114.549779 \nL 233.097403 114.738265 \nL 233.70735 114.390178 \nL 234.317297 114.311244 \nL 235.537191 113.625586 \nL 236.757086 114.001111 \nL 237.367033 113.924939 \nL 238.586927 114.814603 \nL 239.806822 114.658724 \nL 240.416769 114.066822 \nL 241.026716 114.248504 \nL 241.636663 114.173326 \nL 242.856557 115.03996 \nL 243.466505 115.215842 \nL 244.076452 115.138389 \nL 244.686399 114.558914 \nL 245.906293 114.410005 \nL 246.51624 114.087555 \nL 247.126188 114.263096 \nL 247.736135 114.684549 \nL 248.956029 114.046366 \nL 250.785871 113.83391 \nL 251.395818 114.006258 \nL 252.005765 113.936029 \nL 252.615712 114.10693 \nL 253.225659 114.036833 \nL 254.445554 114.374692 \nL 255.055501 114.304407 \nL 256.275395 114.637339 \nL 256.885342 114.331569 \nL 257.495289 114.731472 \nL 258.105237 114.427325 \nL 259.935078 114.916202 \nL 260.545025 114.846194 \nL 261.154972 115.006844 \nL 262.984814 114.798597 \nL 263.594761 114.502647 \nL 264.204708 114.661883 \nL 264.814655 114.59415 \nL 265.424603 114.752139 \nL 266.03455 114.459921 \nL 266.644497 114.841311 \nL 267.864391 114.261605 \nL 268.474338 114.418223 \nL 269.084286 114.352633 \nL 269.694233 114.508059 \nL 270.30418 114.882512 \nL 270.914127 115.035453 \nL 271.524074 114.312824 \nL 272.134021 114.684549 \nL 273.353916 114.554507 \nL 273.963863 114.922277 \nL 275.183757 115.221708 \nL 275.793704 114.941641 \nL 277.013599 115.238376 \nL 277.623546 115.597862 \nL 278.233493 115.53172 \nL 278.84344 115.677138 \nL 279.453387 115.611139 \nL 280.063335 115.335524 \nL 281.283229 115.624195 \nL 281.893176 115.97553 \nL 282.503123 115.70198 \nL 283.11307 114.808782 \nL 283.723018 115.159464 \nL 284.332965 115.096371 \nL 286.162806 115.521801 \nL 287.992648 115.332663 \nL 288.602595 114.86633 \nL 289.212542 114.603981 \nL 289.822489 114.543925 \nL 290.432436 114.884898 \nL 291.042384 114.824411 \nL 292.262278 115.101894 \nL 292.872225 114.44671 \nL 293.482172 114.19037 \nL 294.092119 114.132534 \nL 294.702067 114.271645 \nL 295.312014 114.606113 \nL 296.531908 114.48948 \nL 297.141855 114.626183 \nL 297.751802 114.568115 \nL 298.36175 114.703901 \nL 298.971697 114.645944 \nL 299.581644 114.780825 \nL 300.191591 114.530924 \nL 300.801538 114.47385 \nL 301.411485 114.799183 \nL 302.021433 114.360597 \nL 302.63138 114.304407 \nL 303.241327 114.058925 \nL 304.461221 114.326178 \nL 305.681116 114.966041 \nL 308.120904 115.483416 \nL 308.730851 115.796455 \nL 309.340799 115.553369 \nL 309.950746 115.495898 \nL 310.560693 115.254757 \nL 311.17064 115.381784 \nL 313.610429 114.430197 \nL 314.830323 114.684549 \nL 315.44027 114.089367 \nL 316.050217 114.036833 \nL 317.270112 112.858222 \nL 317.880059 112.630424 \nL 318.490006 112.581899 \nL 319.7099 112.130887 \nL 321.539742 112.518839 \nL 322.149689 112.471275 \nL 322.759636 112.599175 \nL 323.369583 112.9013 \nL 323.979531 113.027587 \nL 324.589478 112.631263 \nL 325.809372 112.883329 \nL 326.419319 113.181268 \nL 327.029266 112.960661 \nL 327.639214 113.257042 \nL 328.249161 113.037274 \nL 328.859108 113.332109 \nL 329.469055 113.454784 \nL 330.079002 113.406492 \nL 330.688949 113.698455 \nL 331.298897 113.819451 \nL 332.518791 113.722082 \nL 333.128738 113.336782 \nL 334.348632 112.906834 \nL 334.95858 113.195307 \nL 335.568527 112.981626 \nL 336.178474 112.935476 \nL 336.788421 113.221949 \nL 337.398368 113.175469 \nL 338.008315 112.963742 \nL 340.448104 113.43816 \nL 341.058051 113.391823 \nL 341.667998 113.672244 \nL 342.277946 113.462671 \nL 342.887893 113.416588 \nL 343.49784 113.695108 \nL 344.717734 113.602522 \nL 345.327681 113.717675 \nL 346.547576 113.625586 \nL 347.76747 113.214781 \nL 348.377417 113.488949 \nL 348.987365 113.284723 \nL 349.597312 113.398826 \nL 350.207259 113.670841 \nL 350.817206 113.625586 \nL 351.427153 113.738242 \nL 352.0371 114.007805 \nL 352.647048 113.490971 \nL 353.256995 113.446489 \nL 353.866942 113.245797 \nL 354.476889 113.202001 \nL 355.696783 113.425789 \nL 356.916678 113.028681 \nL 357.526625 112.985801 \nL 358.136572 113.25132 \nL 358.746519 113.054362 \nL 359.356466 113.011703 \nL 359.966414 113.12236 \nL 360.576361 112.926893 \nL 361.186308 113.037274 \nL 361.796255 113.299425 \nL 362.406202 113.256689 \nL 363.016149 113.365722 \nL 363.626097 113.32303 \nL 364.236044 113.582452 \nL 364.845991 113.38883 \nL 366.675832 114.160414 \nL 367.28578 114.116639 \nL 367.895727 114.371334 \nL 368.505674 114.476159 \nL 369.115621 114.432008 \nL 369.725568 114.536292 \nL 369.725568 114.536292 \n\" style=\"fill:none;stroke:#1f77b4;stroke-linecap:square;stroke-width:1.5;\"/>\n   </g>\n   <g id=\"line2d_15\">\n    <path clip-path=\"url(#p05a6a5f0fe)\" d=\"M 65.361932 166.573638 \nL 65.971879 129.51 \nL 66.581826 117.155456 \nL 67.191773 129.51 \nL 67.80172 122.09728 \nL 68.411668 129.51 \nL 69.021615 124.215195 \nL 69.631562 120.2441 \nL 70.241509 125.391819 \nL 70.851456 122.09728 \nL 71.461403 112.662898 \nL 72.071351 110.978189 \nL 72.681298 98.148465 \nL 73.291245 97.741172 \nL 74.511139 115.611139 \nL 75.121086 118.608932 \nL 76.340981 115.854976 \nL 76.950928 122.09728 \nL 77.560875 124.215195 \nL 78.780769 121.45269 \nL 79.390717 117.155456 \nL 80.000664 119.132183 \nL 80.610611 123.807903 \nL 81.220558 119.900917 \nL 81.830505 121.567799 \nL 82.440452 125.67584 \nL 83.0504 127.039093 \nL 83.660347 125.9232 \nL 84.270294 127.193525 \nL 85.490188 125.149573 \nL 87.32003 128.508287 \nL 87.929977 125.608571 \nL 88.539924 120.956854 \nL 89.149871 120.2441 \nL 89.759819 123.182068 \nL 90.369766 122.45026 \nL 90.979713 120.028607 \nL 91.58966 119.401746 \nL 92.809554 121.45269 \nL 93.419502 120.835538 \nL 94.029449 123.332733 \nL 95.85929 125.876311 \nL 96.469237 128.084481 \nL 98.299079 130.183884 \nL 98.909026 129.51 \nL 99.518973 131.460726 \nL 100.12892 130.788057 \nL 100.738868 131.394594 \nL 101.348815 130.745464 \nL 102.568709 131.901211 \nL 103.178656 131.274935 \nL 104.398551 132.361049 \nL 105.618445 131.169569 \nL 106.228392 132.780326 \nL 106.838339 133.270087 \nL 107.448286 130.568963 \nL 108.058234 130.032026 \nL 108.668181 130.539548 \nL 109.888075 129.51 \nL 110.498022 130.992548 \nL 111.107969 130.485368 \nL 111.717917 131.91673 \nL 112.327864 130.46035 \nL 112.937811 129.97916 \nL 113.547758 130.43659 \nL 114.157705 131.797888 \nL 115.3776 130.849649 \nL 117.207441 132.095838 \nL 117.817388 131.640099 \nL 118.427335 132.879429 \nL 119.037283 133.258014 \nL 119.64723 131.980918 \nL 120.257177 131.546463 \nL 120.867124 130.315738 \nL 122.087018 129.51 \nL 122.696966 129.90015 \nL 123.306913 129.51 \nL 123.91686 129.892108 \nL 124.526807 129.51 \nL 125.136754 128.386861 \nL 125.746701 128.027463 \nL 126.966596 125.876311 \nL 127.576543 126.991121 \nL 128.18649 127.371716 \nL 129.406384 129.51 \nL 131.236226 130.530104 \nL 132.45612 132.51516 \nL 133.676015 133.117964 \nL 134.285962 134.061675 \nL 134.895909 133.699803 \nL 135.505856 132.705148 \nL 136.115803 132.361049 \nL 136.72575 133.279189 \nL 137.335698 133.558968 \nL 137.945645 133.216371 \nL 139.165539 134.978412 \nL 139.775486 134.632622 \nL 140.385433 133.096811 \nL 140.995381 132.178583 \nL 141.605328 131.863247 \nL 142.215275 132.136564 \nL 142.825222 132.984718 \nL 143.435169 133.245101 \nL 144.045116 132.931267 \nL 144.655064 132.056361 \nL 145.265011 131.75629 \nL 145.874958 132.018065 \nL 147.094852 133.628181 \nL 147.704799 133.325382 \nL 148.314747 133.56807 \nL 148.924694 134.344393 \nL 149.534641 134.042963 \nL 150.144588 132.686889 \nL 150.754535 132.927224 \nL 151.364482 132.642143 \nL 151.97443 132.879429 \nL 152.584377 131.569096 \nL 153.194324 131.29928 \nL 153.804271 131.540885 \nL 155.634113 130.753749 \nL 156.24406 130.992548 \nL 156.854007 130.737279 \nL 157.463954 131.460726 \nL 158.073901 131.205722 \nL 158.683848 129.991355 \nL 159.293796 130.22736 \nL 159.903743 129.98518 \nL 160.51369 129.273929 \nL 161.123637 129.04084 \nL 161.733584 128.344478 \nL 162.343531 129.046705 \nL 162.953479 129.279794 \nL 163.563426 129.052427 \nL 164.173373 129.282622 \nL 164.78332 129.058005 \nL 165.393267 129.734628 \nL 166.003214 129.95655 \nL 166.613162 129.731944 \nL 167.223109 129.951236 \nL 168.443003 128.637921 \nL 169.05295 127.559285 \nL 169.662897 128.217086 \nL 170.882792 127.805928 \nL 171.492739 128.451048 \nL 172.712633 128.881802 \nL 173.32258 128.677112 \nL 173.932528 128.888827 \nL 174.542475 128.686368 \nL 175.152422 128.895687 \nL 175.762369 128.695415 \nL 176.372316 128.092268 \nL 176.982263 128.704273 \nL 178.202158 127.517333 \nL 178.812105 128.1226 \nL 179.422052 128.327125 \nL 180.031999 128.13728 \nL 181.861841 128.737842 \nL 182.471788 128.165723 \nL 183.081735 128.745806 \nL 183.691682 128.55965 \nL 184.301629 127.997208 \nL 184.911577 128.569304 \nL 185.521524 128.386861 \nL 186.131471 127.461265 \nL 186.741418 127.65682 \nL 187.351365 127.112857 \nL 188.57126 126.771309 \nL 189.181207 126.239685 \nL 189.791154 126.074837 \nL 190.401101 126.271431 \nL 191.011048 125.749924 \nL 191.620995 125.946197 \nL 192.230943 126.495263 \nL 192.84089 126.686113 \nL 193.450837 126.523839 \nL 194.060784 127.062411 \nL 194.670731 127.247904 \nL 195.890626 126.924173 \nL 196.500573 127.450915 \nL 197.11052 127.289602 \nL 198.330414 127.648359 \nL 198.940361 128.162233 \nL 199.550309 128.336039 \nL 200.160256 128.842192 \nL 201.990097 129.345274 \nL 203.209992 130.326386 \nL 205.039833 130.799169 \nL 205.64978 130.312247 \nL 206.259727 130.788057 \nL 206.869675 130.623507 \nL 207.479622 130.777133 \nL 208.089569 131.244901 \nL 211.139305 130.43659 \nL 211.749252 129.663791 \nL 212.969146 129.357479 \nL 213.579093 129.813804 \nL 214.189041 129.661284 \nL 214.798988 130.11266 \nL 216.018882 129.8089 \nL 216.628829 130.254257 \nL 217.238776 129.806514 \nL 219.068618 129.36351 \nL 219.678565 129.801842 \nL 220.288512 129.655352 \nL 220.898459 128.93089 \nL 221.508407 129.077357 \nL 222.728301 128.794496 \nL 223.948195 129.083985 \nL 224.558142 128.378289 \nL 225.16809 127.959818 \nL 226.387984 128.25124 \nL 227.607878 129.093561 \nL 228.217825 129.233413 \nL 228.827773 129.647786 \nL 230.047667 129.373242 \nL 230.657614 129.51 \nL 231.877508 129.239466 \nL 232.487456 129.644781 \nL 233.097403 129.241432 \nL 233.70735 129.376202 \nL 234.317297 129.243365 \nL 235.537191 129.51 \nL 236.147139 128.850509 \nL 237.367033 129.1171 \nL 238.586927 128.859765 \nL 239.196874 128.991631 \nL 239.806822 128.60601 \nL 241.026716 128.868768 \nL 242.24661 128.618436 \nL 242.856557 128.240702 \nL 243.466505 128.118535 \nL 244.076452 128.24934 \nL 244.686399 128.630531 \nL 245.296346 128.508287 \nL 245.906293 128.13728 \nL 247.736135 128.521642 \nL 248.346082 128.155517 \nL 248.956029 128.282732 \nL 249.565976 127.91981 \nL 251.395818 127.572032 \nL 252.005765 127.940532 \nL 252.615712 127.584625 \nL 253.835606 127.83616 \nL 254.445554 127.484019 \nL 256.275395 127.149264 \nL 256.885342 127.509745 \nL 257.495289 127.63337 \nL 258.105237 127.28853 \nL 258.715184 127.645167 \nL 259.325131 127.302448 \nL 260.545025 127.547135 \nL 261.154972 127.898547 \nL 261.76492 127.559285 \nL 262.374867 127.908488 \nL 262.984814 127.799377 \nL 264.204708 128.489907 \nL 264.814655 128.60601 \nL 265.424603 128.946729 \nL 266.644497 128.726177 \nL 267.254444 128.840181 \nL 267.864391 129.176096 \nL 269.084286 128.514263 \nL 269.694233 128.40692 \nL 271.524074 128.744679 \nL 272.134021 128.637921 \nL 272.743969 128.966545 \nL 273.963863 128.32137 \nL 274.57381 128.432568 \nL 276.403652 128.121452 \nL 277.013599 127.379912 \nL 277.623546 127.704615 \nL 278.233493 127.81567 \nL 278.84344 127.503714 \nL 279.453387 127.614702 \nL 280.063335 127.935064 \nL 281.893176 128.260673 \nL 282.503123 127.745065 \nL 283.11307 128.060589 \nL 283.723018 128.167866 \nL 284.332965 128.480463 \nL 284.942912 128.585984 \nL 285.552859 128.895687 \nL 286.772753 128.288122 \nL 287.382701 128.189925 \nL 287.992648 128.294805 \nL 288.602595 128.601083 \nL 289.212542 128.30141 \nL 289.822489 128.20424 \nL 290.432436 128.307938 \nL 291.042384 128.011479 \nL 291.652331 127.318067 \nL 292.262278 127.423311 \nL 292.872225 127.329786 \nL 293.482172 127.434445 \nL 294.092119 127.341384 \nL 294.702067 127.445447 \nL 295.312014 127.156753 \nL 295.921961 127.260761 \nL 296.531908 127.169147 \nL 297.751802 127.763556 \nL 298.971697 127.57961 \nL 299.581644 127.10327 \nL 300.191591 127.205532 \nL 301.411485 127.026358 \nL 302.021433 127.128023 \nL 302.63138 127.039093 \nL 303.241327 127.140207 \nL 304.461221 126.586413 \nL 305.071168 126.687902 \nL 305.681116 126.601215 \nL 306.291063 126.702152 \nL 307.510957 125.785017 \nL 308.120904 125.515675 \nL 308.730851 125.618324 \nL 309.340799 125.350739 \nL 310.560693 125.555319 \nL 311.17064 125.289888 \nL 311.780587 125.391819 \nL 313.000482 125.958447 \nL 313.610429 126.058003 \nL 314.220376 125.794582 \nL 314.830323 125.894039 \nL 315.44027 126.173377 \nL 316.660165 126.369021 \nL 317.270112 126.645177 \nL 317.880059 126.741397 \nL 318.490006 127.015334 \nL 319.099953 126.576914 \nL 319.7099 126.317923 \nL 320.319848 126.413999 \nL 320.929795 126.156631 \nL 321.539742 126.428701 \nL 322.149689 126.172515 \nL 322.759636 125.742303 \nL 323.369583 125.488945 \nL 323.979531 125.760031 \nL 324.589478 125.855843 \nL 325.199425 125.777605 \nL 325.809372 125.526533 \nL 326.419319 125.622212 \nL 327.639214 125.468267 \nL 328.249161 125.220233 \nL 328.859108 124.63096 \nL 329.469055 124.7276 \nL 330.079002 124.653394 \nL 330.688949 124.409502 \nL 331.298897 124.675618 \nL 332.518791 124.191082 \nL 333.128738 124.287402 \nL 333.738685 124.551375 \nL 334.348632 124.646446 \nL 334.95858 124.406432 \nL 335.568527 124.501404 \nL 336.178474 124.262792 \nL 336.788421 124.52386 \nL 337.398368 124.452106 \nL 338.618263 124.969912 \nL 339.22821 124.732913 \nL 339.838157 124.825687 \nL 340.448104 124.590057 \nL 341.058051 124.846365 \nL 343.49784 124.562774 \nL 344.107787 124.816353 \nL 344.717734 124.907327 \nL 345.327681 124.836766 \nL 346.547576 125.017442 \nL 347.76747 124.87705 \nL 348.377417 124.96672 \nL 348.987365 124.896933 \nL 349.597312 124.986183 \nL 350.207259 124.758252 \nL 351.427153 123.989894 \nL 352.0371 123.922912 \nL 353.866942 124.192861 \nL 354.476889 124.438133 \nL 355.696783 124.614811 \nL 356.916678 125.099513 \nL 357.526625 124.722618 \nL 358.136572 124.809626 \nL 358.746519 124.742479 \nL 359.356466 124.829089 \nL 359.966414 125.068496 \nL 360.576361 125.154068 \nL 361.186308 125.391819 \nL 361.796255 125.476385 \nL 362.406202 125.104903 \nL 363.016149 125.189702 \nL 363.626097 125.122875 \nL 364.236044 125.207298 \nL 364.845991 125.140714 \nL 365.455938 125.224762 \nL 366.065885 125.458513 \nL 367.28578 125.6243 \nL 367.895727 125.408398 \nL 368.505674 125.639908 \nL 369.115621 125.721934 \nL 369.725568 125.507137 \nL 369.725568 125.507137 \n\" style=\"fill:none;stroke:#ff7f0e;stroke-linecap:square;stroke-width:1.5;\"/>\n   </g>\n   <g id=\"line2d_16\">\n    <path clip-path=\"url(#p05a6a5f0fe)\" d=\"M 65.361932 92.446367 \nL 66.581826 92.446367 \nL 67.191773 129.51 \nL 67.80172 136.922731 \nL 68.411668 92.446367 \nL 69.021615 81.856758 \nL 69.631562 83.180456 \nL 70.241509 100.68273 \nL 71.461403 112.662898 \nL 72.071351 110.978189 \nL 73.291245 118.920391 \nL 74.511139 124.87705 \nL 75.121086 122.969359 \nL 75.731034 113.037274 \nL 76.340981 119.756416 \nL 76.950928 110.978189 \nL 77.560875 106.565846 \nL 78.170822 99.185215 \nL 78.780769 105.33807 \nL 79.390717 101.712278 \nL 80.000664 101.341647 \nL 80.610611 98.148465 \nL 81.220558 97.93728 \nL 81.830505 95.093775 \nL 82.440452 97.558596 \nL 83.0504 97.388192 \nL 83.660347 99.619978 \nL 84.270294 97.079328 \nL 86.100135 103.035977 \nL 86.710083 100.68273 \nL 87.929977 100.249237 \nL 88.539924 101.949863 \nL 89.759819 101.486281 \nL 90.369766 99.506107 \nL 90.979713 102.78971 \nL 91.58966 104.239342 \nL 92.199607 103.97728 \nL 92.809554 98.892224 \nL 93.419502 100.332246 \nL 94.029449 100.167962 \nL 94.639396 98.497579 \nL 95.249343 99.859098 \nL 95.85929 102.620698 \nL 96.469237 100.999513 \nL 97.079185 103.635389 \nL 97.689132 104.800912 \nL 98.299079 104.576284 \nL 98.909026 105.683385 \nL 99.518973 108.052106 \nL 100.12892 109.061098 \nL 100.738868 111.292288 \nL 101.348815 112.213643 \nL 101.958762 114.319993 \nL 102.568709 115.162789 \nL 103.178656 112.448963 \nL 103.788603 110.978189 \nL 104.398551 110.693085 \nL 105.008498 111.539759 \nL 105.618445 110.148405 \nL 106.228392 112.068291 \nL 107.448286 111.507671 \nL 108.058234 110.195151 \nL 108.668181 109.948641 \nL 109.888075 111.479051 \nL 110.498022 111.225273 \nL 111.107969 111.953546 \nL 111.717917 109.774824 \nL 112.937811 109.336128 \nL 113.547758 108.198419 \nL 114.157705 106.173642 \nL 114.767652 106.910222 \nL 115.3776 106.735963 \nL 115.987547 105.683385 \nL 116.597494 105.527649 \nL 117.207441 104.513599 \nL 117.817388 105.226938 \nL 118.427335 106.766405 \nL 119.037283 106.605512 \nL 119.64723 107.271818 \nL 120.257177 108.738074 \nL 120.867124 108.560998 \nL 121.477071 107.590656 \nL 122.087018 109.006719 \nL 123.306913 108.661714 \nL 123.91686 107.730341 \nL 125.136754 108.919093 \nL 126.356649 111.528636 \nL 126.966596 110.614815 \nL 128.796437 110.095716 \nL 129.406384 110.628534 \nL 130.016332 110.458605 \nL 130.626279 110.978189 \nL 131.236226 112.168299 \nL 131.846173 111.989015 \nL 132.45612 111.145136 \nL 133.066067 112.301888 \nL 133.676015 112.782171 \nL 134.285962 113.904261 \nL 134.895909 114.362254 \nL 135.505856 113.534303 \nL 136.115803 114.62119 \nL 136.72575 115.061466 \nL 137.335698 114.871422 \nL 137.945645 115.302276 \nL 138.555592 113.888145 \nL 139.165539 113.104786 \nL 140.995381 112.608984 \nL 142.215275 113.458827 \nL 143.435169 113.133053 \nL 144.045116 111.8335 \nL 145.265011 111.539759 \nL 145.874958 112.510897 \nL 146.484905 112.914345 \nL 147.094852 112.213643 \nL 147.704799 112.068291 \nL 148.314747 112.466139 \nL 148.924694 111.246768 \nL 149.534641 110.57822 \nL 150.144588 111.507671 \nL 150.754535 110.321029 \nL 151.97443 109.03429 \nL 152.584377 109.948641 \nL 153.194324 109.316709 \nL 153.804271 109.201159 \nL 155.024165 110.978189 \nL 155.634113 110.853813 \nL 156.24406 110.236915 \nL 156.854007 110.1191 \nL 157.463954 110.490505 \nL 158.073901 111.341553 \nL 158.683848 111.700211 \nL 159.293796 111.097749 \nL 160.51369 112.748746 \nL 161.733584 112.493367 \nL 162.343531 111.904779 \nL 162.953479 110.863081 \nL 164.173373 110.637105 \nL 165.393267 111.315131 \nL 166.003214 112.094557 \nL 166.613162 111.976908 \nL 167.223109 112.301888 \nL 167.833056 112.184404 \nL 169.05295 112.820533 \nL 169.662897 112.702078 \nL 170.272845 111.728024 \nL 170.882792 111.617212 \nL 171.492739 111.931256 \nL 172.102686 111.820544 \nL 172.712633 112.129882 \nL 173.32258 112.019302 \nL 173.932528 112.738187 \nL 174.542475 112.213643 \nL 175.152422 112.513978 \nL 175.762369 113.218293 \nL 176.372316 113.509859 \nL 176.982263 114.201107 \nL 177.592211 114.484211 \nL 178.202158 113.967189 \nL 180.031999 113.625586 \nL 180.641946 114.294411 \nL 181.861841 113.294664 \nL 182.471788 113.186647 \nL 183.081735 112.697637 \nL 184.301629 113.247388 \nL 184.911577 113.894364 \nL 186.131471 114.423801 \nL 187.351365 114.205116 \nL 188.57126 114.721067 \nL 189.791154 114.503751 \nL 190.401101 114.756524 \nL 191.620995 114.542003 \nL 192.230943 114.081602 \nL 192.84089 114.331569 \nL 193.450837 113.876525 \nL 194.060784 113.076134 \nL 194.670731 113.675303 \nL 195.280678 112.883329 \nL 195.890626 113.133053 \nL 196.500573 112.694092 \nL 197.11052 112.942391 \nL 197.720467 112.848369 \nL 198.330414 113.432174 \nL 199.550309 113.242252 \nL 200.160256 112.814668 \nL 200.770203 112.723341 \nL 201.38015 111.970966 \nL 201.990097 111.88419 \nL 203.209992 111.059829 \nL 203.819939 110.978189 \nL 204.429886 111.544663 \nL 205.039833 111.139337 \nL 205.64978 111.700211 \nL 206.259727 111.617212 \nL 206.869675 111.853085 \nL 208.089569 111.687917 \nL 209.309463 112.15109 \nL 209.91941 111.445372 \nL 210.529358 111.986198 \nL 212.969146 112.884754 \nL 213.579093 112.497189 \nL 214.189041 112.41535 \nL 214.798988 111.731514 \nL 216.018882 110.978189 \nL 216.628829 111.499165 \nL 217.238776 111.719463 \nL 217.848724 111.052019 \nL 218.458671 110.684028 \nL 219.068618 110.611943 \nL 219.678565 111.124105 \nL 220.898459 111.557311 \nL 221.508407 111.482939 \nL 222.118354 111.696477 \nL 223.948195 110.623176 \nL 225.16809 110.484949 \nL 226.387984 110.908258 \nL 226.997931 110.838846 \nL 227.607878 110.214702 \nL 228.217825 109.871806 \nL 228.827773 110.082594 \nL 229.43772 110.566368 \nL 230.657614 110.978189 \nL 231.267561 110.638773 \nL 231.877508 110.031308 \nL 232.487456 109.967364 \nL 233.097403 109.366725 \nL 233.70735 109.305642 \nL 234.317297 108.978354 \nL 235.537191 109.389744 \nL 236.757086 109.269577 \nL 238.586927 110.653066 \nL 239.196874 110.07104 \nL 239.806822 110.26791 \nL 241.026716 110.144572 \nL 241.636663 110.594767 \nL 242.24661 110.277674 \nL 242.856557 110.470468 \nL 243.466505 110.15596 \nL 244.076452 110.347848 \nL 244.686399 110.789725 \nL 245.296346 110.978189 \nL 245.906293 110.915791 \nL 246.51624 111.351306 \nL 247.126188 111.040167 \nL 248.346082 111.901697 \nL 249.565976 112.262576 \nL 250.175923 111.953546 \nL 250.785871 111.889591 \nL 251.395818 111.583799 \nL 252.005765 111.762918 \nL 253.835606 111.575989 \nL 254.445554 111.752833 \nL 255.055501 112.166123 \nL 255.665448 112.103118 \nL 256.275395 112.276593 \nL 256.885342 111.742991 \nL 257.495289 111.68193 \nL 258.105237 111.387404 \nL 258.715184 110.628534 \nL 259.325131 110.339155 \nL 259.935078 110.283241 \nL 261.154972 110.632875 \nL 262.374867 110.520616 \nL 262.984814 110.693085 \nL 263.594761 110.637105 \nL 264.204708 111.034854 \nL 264.814655 111.204187 \nL 265.424603 111.597794 \nL 266.03455 111.539759 \nL 266.644497 111.258123 \nL 267.254444 111.424739 \nL 267.864391 111.145136 \nL 269.084286 111.033507 \nL 270.30418 110.48327 \nL 271.524074 110.376855 \nL 272.134021 110.542144 \nL 272.743969 109.836935 \nL 273.353916 109.78608 \nL 273.963863 109.3033 \nL 274.57381 109.038808 \nL 275.183757 109.205577 \nL 275.793704 109.58562 \nL 277.013599 109.91314 \nL 277.623546 109.863091 \nL 278.233493 109.601537 \nL 278.84344 109.763855 \nL 280.063335 109.245751 \nL 280.673282 109.61709 \nL 281.283229 109.56872 \nL 281.893176 109.104188 \nL 283.11307 109.839365 \nL 283.723018 109.997397 \nL 284.332965 109.948641 \nL 284.942912 110.310834 \nL 285.552859 110.466259 \nL 286.162806 110.0082 \nL 286.772753 109.756311 \nL 287.992648 109.661715 \nL 288.602595 110.018771 \nL 289.822489 109.521753 \nL 290.432436 109.475604 \nL 291.042384 109.829313 \nL 292.262278 110.13357 \nL 292.872225 110.482685 \nL 293.482172 110.632256 \nL 294.092119 110.978189 \nL 294.702067 110.929035 \nL 295.921961 110.049147 \nL 296.531908 110.197901 \nL 297.141855 110.15131 \nL 297.751802 110.299015 \nL 298.36175 110.252401 \nL 300.191591 110.690125 \nL 300.801538 110.451447 \nL 301.411485 110.405043 \nL 302.021433 110.549434 \nL 302.63138 110.503009 \nL 303.241327 110.646417 \nL 303.851274 110.978189 \nL 304.461221 111.119653 \nL 305.071168 111.072255 \nL 305.681116 110.837443 \nL 306.90101 111.118228 \nL 307.510957 111.443815 \nL 308.120904 111.581976 \nL 308.730851 111.534137 \nL 309.340799 111.856255 \nL 310.560693 111.759924 \nL 311.17064 111.8956 \nL 311.780587 111.847584 \nL 312.390534 111.982376 \nL 313.000482 111.570113 \nL 313.610429 111.704927 \nL 314.220376 111.476599 \nL 314.830323 111.430184 \nL 315.44027 111.564347 \nL 316.050217 111.338029 \nL 317.270112 111.246768 \nL 317.880059 111.38008 \nL 318.490006 111.15638 \nL 319.099953 111.289273 \nL 319.7099 111.244195 \nL 320.319848 110.668586 \nL 320.929795 110.448708 \nL 321.539742 110.58202 \nL 322.149689 110.890364 \nL 322.759636 110.671513 \nL 323.369583 110.803356 \nL 323.979531 110.760167 \nL 325.809372 111.151377 \nL 326.419319 111.107779 \nL 327.029266 111.409164 \nL 327.639214 111.365158 \nL 330.688949 111.998282 \nL 331.298897 111.444665 \nL 331.908844 111.570533 \nL 332.518791 111.526968 \nL 333.128738 111.14666 \nL 333.738685 111.272339 \nL 334.348632 111.229747 \nL 334.95858 111.02002 \nL 336.178474 111.2697 \nL 336.788421 111.061287 \nL 337.398368 111.019644 \nL 338.008315 110.647256 \nL 339.838157 110.526194 \nL 340.448104 110.814192 \nL 341.058051 110.773643 \nL 341.667998 111.059829 \nL 342.887893 111.303312 \nL 343.49784 111.262045 \nL 344.107787 111.544663 \nL 345.327681 111.461621 \nL 345.937629 111.259582 \nL 347.76747 111.137945 \nL 348.377417 110.778923 \nL 348.987365 111.057719 \nL 349.597312 111.017866 \nL 350.207259 110.819792 \nL 351.427153 111.372481 \nL 352.0371 111.174915 \nL 352.647048 111.135239 \nL 353.866942 110.743609 \nL 355.086836 110.978189 \nL 355.696783 110.939341 \nL 356.306731 111.210803 \nL 357.526625 111.132621 \nL 358.136572 110.78555 \nL 359.356466 110.402669 \nL 359.966414 110.059254 \nL 360.576361 110.022935 \nL 361.186308 110.291824 \nL 361.796255 109.646328 \nL 362.406202 109.914885 \nL 363.016149 109.72757 \nL 363.626097 109.994868 \nL 364.236044 109.657186 \nL 365.455938 110.188799 \nL 366.065885 109.852774 \nL 367.28578 109.782589 \nL 367.895727 110.045999 \nL 368.505674 110.010663 \nL 369.725568 110.236915 \nL 369.725568 110.236915 \n\" style=\"fill:none;stroke:#2ca02c;stroke-linecap:square;stroke-width:1.5;\"/>\n   </g>\n   <g id=\"line2d_17\">\n    <path clip-path=\"url(#p05a6a5f0fe)\" d=\"M 65.361932 240.700909 \nL 65.971879 166.573638 \nL 66.581826 166.573638 \nL 67.191773 148.041822 \nL 67.80172 136.922731 \nL 68.411668 141.864544 \nL 69.021615 134.804805 \nL 69.631562 148.041822 \nL 70.241509 150.100913 \nL 70.851456 151.748187 \nL 71.461403 159.834796 \nL 72.071351 148.041822 \nL 72.681298 149.467346 \nL 73.901192 122.09728 \nL 74.511139 115.611139 \nL 75.121086 114.248504 \nL 75.731034 117.155456 \nL 76.340981 111.953546 \nL 76.950928 110.978189 \nL 77.560875 106.565846 \nL 78.780769 111.783916 \nL 79.390717 117.155456 \nL 80.000664 119.132183 \nL 80.610611 118.105805 \nL 81.220558 119.900917 \nL 81.830505 124.215195 \nL 82.440452 123.119726 \nL 83.0504 119.626373 \nL 84.270294 117.927614 \nL 84.880241 119.401746 \nL 85.490188 122.969359 \nL 87.32003 120.494531 \nL 87.929977 123.657856 \nL 89.149871 122.09728 \nL 90.979713 130.37195 \nL 91.58966 131.19472 \nL 92.199607 128.686368 \nL 93.419502 133.452939 \nL 94.029449 127.965683 \nL 95.249343 129.51 \nL 95.85929 125.876311 \nL 96.469237 125.233433 \nL 97.079185 126.013433 \nL 98.909026 124.215195 \nL 99.518973 124.958325 \nL 100.12892 124.397783 \nL 100.738868 122.599832 \nL 101.348815 119.626373 \nL 101.958762 120.395991 \nL 102.568709 119.9452 \nL 103.178656 120.685326 \nL 104.398551 119.816439 \nL 105.008498 118.278595 \nL 105.618445 120.105795 \nL 106.228392 117.51883 \nL 106.838339 118.229773 \nL 108.058234 117.503477 \nL 108.668181 118.185004 \nL 109.278128 117.832421 \nL 109.888075 119.492807 \nL 110.498022 118.143825 \nL 111.107969 118.781059 \nL 113.547758 124.87705 \nL 114.767652 125.894039 \nL 117.207441 124.338334 \nL 117.817388 124.823798 \nL 118.427335 123.613518 \nL 119.037283 124.09621 \nL 119.64723 123.744555 \nL 120.257177 125.029781 \nL 120.867124 124.675618 \nL 121.477071 122.734933 \nL 122.087018 123.989894 \nL 122.696966 123.657856 \nL 123.306913 122.560575 \nL 124.526807 121.945996 \nL 125.136754 120.899261 \nL 125.746701 120.614732 \nL 126.966596 121.515883 \nL 128.18649 119.531335 \nL 128.796437 119.979354 \nL 129.406384 119.719611 \nL 130.016332 120.850273 \nL 130.626279 121.273637 \nL 131.236226 118.288901 \nL 131.846173 118.053967 \nL 132.45612 118.491084 \nL 133.066067 116.934838 \nL 133.676015 117.374119 \nL 134.285962 118.455936 \nL 134.895909 118.874352 \nL 135.505856 118.646521 \nL 136.115803 117.789022 \nL 136.72575 117.574258 \nL 137.335698 116.740177 \nL 138.555592 116.338628 \nL 139.775486 117.155456 \nL 140.995381 119.132183 \nL 141.605328 117.155456 \nL 142.215275 117.544578 \nL 142.825222 116.769382 \nL 143.435169 117.155456 \nL 144.045116 118.105805 \nL 145.265011 117.717025 \nL 145.874958 116.969676 \nL 146.484905 116.786669 \nL 147.094852 115.508192 \nL 147.704799 115.338617 \nL 148.314747 115.712595 \nL 148.924694 115.006844 \nL 149.534641 115.377829 \nL 150.144588 116.272994 \nL 150.754535 116.62973 \nL 151.364482 117.503477 \nL 151.97443 117.328246 \nL 153.194324 118.007497 \nL 153.804271 117.3247 \nL 155.024165 116.988509 \nL 156.854007 119.446371 \nL 158.073901 119.093423 \nL 158.683848 119.883089 \nL 159.293796 120.18432 \nL 159.903743 120.006504 \nL 161.123637 121.534285 \nL 161.733584 121.817556 \nL 162.343531 121.17069 \nL 162.953479 121.913113 \nL 164.173373 122.461096 \nL 164.78332 122.278078 \nL 165.393267 121.198769 \nL 166.613162 120.854426 \nL 168.443003 121.661235 \nL 169.05295 121.490389 \nL 169.662897 120.890557 \nL 170.272845 120.72614 \nL 170.882792 120.989627 \nL 172.102686 120.665277 \nL 172.712633 120.087051 \nL 173.32258 119.931757 \nL 173.932528 119.36409 \nL 174.542475 120.038184 \nL 177.592211 121.295906 \nL 178.202158 121.1408 \nL 179.422052 121.624121 \nL 180.031999 121.469745 \nL 181.251894 120.389629 \nL 181.861841 121.016258 \nL 182.471788 120.868222 \nL 183.081735 121.103819 \nL 184.301629 120.811392 \nL 185.521524 119.776122 \nL 187.351365 120.474593 \nL 188.57126 119.468131 \nL 189.181207 120.062407 \nL 189.791154 120.2893 \nL 191.011048 120.020279 \nL 191.620995 119.531335 \nL 192.230943 118.692394 \nL 193.450837 118.443609 \nL 194.060784 118.670645 \nL 194.670731 118.199507 \nL 195.280678 118.771946 \nL 196.500573 117.155456 \nL 197.720467 117.608843 \nL 198.940361 116.7062 \nL 199.550309 116.931844 \nL 200.160256 117.489371 \nL 200.770203 117.377068 \nL 201.38015 117.596692 \nL 202.600044 117.374119 \nL 203.209992 117.59086 \nL 204.429886 117.371258 \nL 205.039833 117.907478 \nL 205.64978 117.476359 \nL 206.259727 116.72944 \nL 208.089569 117.365746 \nL 209.309463 117.155456 \nL 209.91941 117.674554 \nL 210.529358 117.569 \nL 211.139305 117.773182 \nL 211.749252 117.668092 \nL 212.969146 118.070613 \nL 213.579093 117.96559 \nL 214.189041 117.256315 \nL 214.798988 117.456786 \nL 215.408935 117.055425 \nL 216.628829 117.453163 \nL 217.238776 116.760115 \nL 217.848724 116.663243 \nL 218.458671 116.861305 \nL 219.068618 116.764798 \nL 219.678565 116.960895 \nL 220.898459 116.769382 \nL 221.508407 116.96317 \nL 222.118354 116.868143 \nL 223.338248 117.820702 \nL 223.948195 117.439477 \nL 224.558142 117.909941 \nL 225.16809 117.531268 \nL 225.778037 117.436241 \nL 226.387984 117.901391 \nL 226.997931 117.527026 \nL 227.607878 117.433093 \nL 228.217825 117.063256 \nL 228.827773 116.971753 \nL 229.43772 117.155456 \nL 230.047667 117.064284 \nL 230.657614 116.701251 \nL 231.267561 116.883927 \nL 231.877508 116.794743 \nL 233.097403 117.155456 \nL 233.70735 117.066261 \nL 234.927244 117.421152 \nL 235.537191 117.331957 \nL 236.147139 117.770984 \nL 236.757086 117.94405 \nL 237.367033 117.853949 \nL 237.97698 118.025502 \nL 238.586927 117.675648 \nL 239.806822 118.0164 \nL 241.026716 117.839446 \nL 241.636663 118.263109 \nL 242.24661 118.429128 \nL 242.856557 118.086276 \nL 243.466505 118.504758 \nL 245.906293 119.152154 \nL 246.51624 118.813787 \nL 247.126188 119.221434 \nL 247.736135 118.885099 \nL 248.346082 118.797263 \nL 251.395818 120.789145 \nL 252.005765 120.455374 \nL 252.615712 120.364433 \nL 255.055501 120.956854 \nL 255.665448 120.628937 \nL 256.275395 120.539189 \nL 256.885342 120.685326 \nL 257.495289 120.126805 \nL 259.325131 121.260736 \nL 260.545025 121.081208 \nL 261.154972 120.531855 \nL 261.76492 120.674401 \nL 262.374867 120.587283 \nL 263.594761 120.869404 \nL 264.204708 119.649039 \nL 264.814655 119.566107 \nL 265.424603 118.807734 \nL 266.644497 118.648454 \nL 267.254444 118.346262 \nL 268.474338 119.07892 \nL 269.084286 118.778143 \nL 269.694233 119.141009 \nL 270.914127 118.983054 \nL 271.524074 119.342109 \nL 272.134021 118.608932 \nL 272.743969 118.966971 \nL 273.963863 119.244564 \nL 274.57381 119.166668 \nL 275.183757 118.874352 \nL 275.793704 119.226448 \nL 277.013599 119.498562 \nL 277.623546 119.421054 \nL 278.233493 119.767561 \nL 278.84344 119.900917 \nL 279.453387 119.822923 \nL 280.063335 119.955351 \nL 280.673282 119.668248 \nL 281.893176 119.515319 \nL 282.503123 119.647129 \nL 283.11307 119.985274 \nL 284.942912 119.756416 \nL 286.772753 120.753213 \nL 287.382701 120.878749 \nL 287.992648 120.801064 \nL 288.602595 120.521825 \nL 291.652331 121.1408 \nL 292.262278 120.865141 \nL 292.872225 120.987352 \nL 293.482172 120.911246 \nL 294.702067 121.153481 \nL 295.312014 121.469745 \nL 296.531908 121.316992 \nL 297.141855 121.630329 \nL 297.751802 121.359883 \nL 298.971697 121.209295 \nL 300.191591 121.828425 \nL 300.801538 121.944041 \nL 301.411485 122.250121 \nL 302.021433 122.364059 \nL 302.63138 122.667488 \nL 303.241327 122.5902 \nL 303.851274 122.324194 \nL 304.461221 121.87094 \nL 305.071168 121.984392 \nL 305.681116 121.909612 \nL 306.291063 122.209594 \nL 306.90101 122.321345 \nL 307.510957 122.060023 \nL 308.120904 122.171585 \nL 308.730851 122.09728 \nL 309.340799 122.393043 \nL 309.950746 122.134162 \nL 311.780587 122.463339 \nL 312.390534 122.389409 \nL 313.000482 122.133698 \nL 313.610429 122.060939 \nL 314.220376 122.169774 \nL 315.44027 121.664416 \nL 316.660165 121.881898 \nL 317.270112 121.810796 \nL 317.880059 121.561414 \nL 318.490006 121.491428 \nL 319.7099 122.061812 \nL 320.319848 121.814209 \nL 320.929795 122.09728 \nL 321.539742 121.322548 \nL 322.759636 121.88699 \nL 323.369583 121.992378 \nL 323.979531 122.271694 \nL 325.809372 122.582225 \nL 326.419319 122.339184 \nL 328.249161 122.646368 \nL 328.859108 122.234237 \nL 330.079002 122.438088 \nL 330.688949 122.369306 \nL 331.298897 122.131202 \nL 331.908844 122.063425 \nL 332.518791 122.164814 \nL 333.738685 122.702403 \nL 334.95858 122.900466 \nL 335.568527 123.165776 \nL 336.178474 123.263321 \nL 336.788421 123.19423 \nL 337.398368 122.959605 \nL 338.008315 123.056963 \nL 338.618263 122.823687 \nL 339.22821 122.920912 \nL 339.838157 122.688983 \nL 340.448104 122.786076 \nL 341.058051 122.719094 \nL 341.667998 121.999315 \nL 342.277946 121.934365 \nL 342.887893 121.707131 \nL 343.49784 121.318693 \nL 345.327681 121.130395 \nL 345.937629 121.389773 \nL 346.547576 121.327121 \nL 347.76747 121.522157 \nL 348.377417 121.300213 \nL 348.987365 121.397361 \nL 349.597312 121.335372 \nL 350.207259 121.59042 \nL 350.817206 121.686342 \nL 351.427153 121.466409 \nL 352.0371 121.404795 \nL 352.647048 121.500485 \nL 353.256995 121.439059 \nL 353.866942 121.690672 \nL 354.476889 121.629103 \nL 355.086836 121.879258 \nL 356.306731 122.066263 \nL 356.916678 122.004429 \nL 357.526625 122.09728 \nL 358.136572 121.881522 \nL 358.746519 122.128032 \nL 359.966414 122.311691 \nL 360.576361 122.250121 \nL 361.186308 122.341315 \nL 361.796255 122.279934 \nL 362.406202 122.370697 \nL 363.016149 122.309504 \nL 363.626097 121.945996 \nL 364.236044 121.885918 \nL 364.845991 121.976748 \nL 365.455938 121.766491 \nL 366.065885 121.857188 \nL 366.675832 121.648024 \nL 367.28578 121.7386 \nL 367.895727 121.381356 \nL 368.505674 121.174413 \nL 369.115621 121.413941 \nL 369.725568 121.504263 \nL 369.725568 121.504263 \n\" style=\"fill:none;stroke:#d62728;stroke-linecap:square;stroke-width:1.5;\"/>\n   </g>\n   <g id=\"line2d_18\">\n    <path clip-path=\"url(#p05a6a5f0fe)\" d=\"M 65.361932 18.319091 \nL 65.971879 92.446367 \nL 66.581826 92.446367 \nL 67.191773 73.914557 \nL 67.80172 92.446367 \nL 68.411668 117.155456 \nL 69.021615 124.215195 \nL 69.631562 110.978189 \nL 70.241509 92.446367 \nL 70.851456 92.446367 \nL 71.461403 85.707531 \nL 72.681298 98.148465 \nL 73.291245 103.035977 \nL 73.901192 102.330005 \nL 74.511139 110.978189 \nL 75.121086 109.888077 \nL 75.731034 113.037274 \nL 76.950928 110.978189 \nL 77.560875 113.625586 \nL 78.170822 119.401746 \nL 78.780769 115.006844 \nL 80.000664 113.202001 \nL 80.610611 112.403708 \nL 81.220558 117.155456 \nL 81.830505 113.625586 \nL 82.440452 107.783041 \nL 83.0504 109.742736 \nL 83.660347 113.967189 \nL 84.880241 112.662898 \nL 85.490188 114.248504 \nL 86.100135 109.389744 \nL 86.710083 110.978189 \nL 88.539924 120.956854 \nL 89.149871 122.09728 \nL 89.759819 119.566107 \nL 90.979713 118.304719 \nL 91.58966 119.401746 \nL 92.199607 118.802731 \nL 92.809554 116.618308 \nL 93.419502 117.681182 \nL 94.639396 122.702403 \nL 95.249343 122.09728 \nL 95.85929 120.062407 \nL 96.469237 119.531335 \nL 97.079185 114.824411 \nL 97.689132 117.155456 \nL 98.909026 118.920391 \nL 99.518973 118.455936 \nL 100.12892 120.563612 \nL 100.738868 120.087051 \nL 101.348815 118.390909 \nL 101.958762 115.535188 \nL 102.568709 113.967189 \nL 103.788603 115.611139 \nL 104.398551 115.254757 \nL 105.008498 116.032316 \nL 105.618445 114.573914 \nL 106.228392 112.068291 \nL 108.058234 114.371334 \nL 108.668181 110.978189 \nL 109.278128 112.755208 \nL 109.888075 113.482487 \nL 110.498022 113.202001 \nL 111.717917 110.737512 \nL 112.327864 110.503009 \nL 112.937811 109.336128 \nL 114.157705 110.749397 \nL 114.767652 110.526194 \nL 116.597494 112.504335 \nL 118.427335 109.29348 \nL 119.037283 109.104188 \nL 119.64723 110.566368 \nL 120.257177 110.367245 \nL 121.477071 111.575989 \nL 122.087018 112.949659 \nL 122.696966 113.514123 \nL 123.306913 112.522506 \nL 123.91686 113.843929 \nL 124.526807 113.625586 \nL 125.746701 114.684549 \nL 126.356649 115.932241 \nL 126.966596 116.428718 \nL 127.576543 117.635242 \nL 128.18649 118.105805 \nL 128.796437 117.155456 \nL 130.016332 119.464718 \nL 130.626279 119.900917 \nL 131.236226 119.649039 \nL 132.45612 117.823275 \nL 133.676015 117.374119 \nL 134.285962 115.854976 \nL 134.895909 115.651423 \nL 135.505856 116.72944 \nL 136.115803 116.521889 \nL 136.72575 117.574258 \nL 138.555592 118.789122 \nL 139.165539 117.96559 \nL 139.775486 118.360776 \nL 140.385433 119.3474 \nL 141.605328 120.097014 \nL 142.215275 118.711934 \nL 142.825222 118.506736 \nL 143.435169 119.453981 \nL 144.045116 119.246231 \nL 145.265011 119.963315 \nL 146.484905 119.552609 \nL 147.094852 120.450005 \nL 148.314747 120.041188 \nL 150.144588 122.626762 \nL 150.754535 122.412716 \nL 151.97443 123.030343 \nL 152.584377 122.817954 \nL 153.804271 123.417355 \nL 154.414218 123.206667 \nL 155.024165 123.49968 \nL 155.634113 122.793775 \nL 156.24406 123.085638 \nL 156.854007 122.882727 \nL 157.463954 123.170172 \nL 158.073901 122.000375 \nL 158.683848 122.771164 \nL 159.903743 122.382384 \nL 160.51369 122.663854 \nL 162.343531 122.09728 \nL 162.953479 121.45269 \nL 164.173373 122.006329 \nL 164.78332 122.730073 \nL 165.393267 122.546536 \nL 166.613162 123.073808 \nL 167.223109 122.891497 \nL 168.443003 123.405404 \nL 169.662897 124.769309 \nL 170.272845 125.010948 \nL 170.882792 123.971756 \nL 172.102686 123.613518 \nL 172.712633 123.018634 \nL 173.32258 122.846883 \nL 173.932528 121.848804 \nL 175.762369 121.364147 \nL 176.372316 120.395991 \nL 176.982263 119.841226 \nL 179.422052 120.835538 \nL 180.031999 120.685326 \nL 180.641946 120.146554 \nL 181.251894 120.389629 \nL 181.861841 119.858015 \nL 182.471788 119.715988 \nL 183.081735 119.193322 \nL 184.301629 119.676798 \nL 184.911577 118.786007 \nL 185.521524 118.278595 \nL 186.131471 118.521294 \nL 186.741418 118.020278 \nL 187.351365 117.893041 \nL 188.57126 118.372661 \nL 189.181207 117.882194 \nL 190.401101 117.635242 \nL 192.230943 119.401746 \nL 192.84089 119.273382 \nL 193.450837 119.848869 \nL 195.890626 119.339049 \nL 196.500573 119.557735 \nL 197.11052 118.749589 \nL 199.550309 118.273514 \nL 200.160256 117.489371 \nL 200.770203 117.70947 \nL 201.38015 117.596692 \nL 201.990097 117.814372 \nL 204.429886 117.371258 \nL 205.64978 115.871876 \nL 207.479622 115.57154 \nL 208.089569 114.842272 \nL 209.309463 115.278814 \nL 210.529358 114.467443 \nL 211.749252 114.899854 \nL 212.359199 114.807069 \nL 212.969146 114.410005 \nL 213.579093 114.319993 \nL 214.189041 114.533266 \nL 214.798988 114.142155 \nL 216.018882 113.967189 \nL 216.628829 112.987657 \nL 217.848724 113.414644 \nL 218.458671 113.331436 \nL 219.068618 113.834871 \nL 219.678565 112.875144 \nL 220.288512 113.376425 \nL 220.898459 113.584219 \nL 221.508407 114.07884 \nL 222.118354 114.282304 \nL 222.728301 114.198003 \nL 223.948195 114.599342 \nL 225.16809 115.558296 \nL 226.387984 115.94332 \nL 226.997931 115.854976 \nL 227.607878 115.489679 \nL 228.217825 115.680286 \nL 229.43772 114.959093 \nL 230.047667 114.876028 \nL 230.657614 115.066083 \nL 231.267561 115.526285 \nL 231.877508 115.712595 \nL 232.487456 115.358433 \nL 236.757086 116.62973 \nL 237.97698 115.937411 \nL 238.586927 115.854976 \nL 239.196874 116.032316 \nL 239.806822 115.950135 \nL 240.416769 116.125919 \nL 241.026716 115.787486 \nL 242.24661 116.136523 \nL 244.686399 115.81531 \nL 245.296346 115.485924 \nL 245.906293 115.408349 \nL 246.51624 115.828797 \nL 247.126188 115.254757 \nL 247.736135 114.437454 \nL 248.346082 114.364397 \nL 249.565976 113.730433 \nL 250.175923 114.148098 \nL 250.785871 113.83391 \nL 251.395818 114.006258 \nL 252.005765 113.936029 \nL 252.615712 114.10693 \nL 253.225659 114.036833 \nL 253.835606 114.206309 \nL 254.445554 113.65964 \nL 255.055501 113.591653 \nL 255.665448 113.997753 \nL 256.275395 114.165186 \nL 256.885342 114.096238 \nL 258.105237 114.427325 \nL 258.715184 114.3582 \nL 259.325131 114.521888 \nL 261.154972 114.316215 \nL 261.76492 114.478003 \nL 262.984814 113.886256 \nL 264.204708 113.755131 \nL 264.814655 113.464162 \nL 265.424603 113.625586 \nL 266.03455 114.010666 \nL 266.644497 113.721563 \nL 267.254444 113.880756 \nL 267.864391 113.37119 \nL 268.474338 113.308538 \nL 269.084286 113.688812 \nL 269.694233 113.625586 \nL 270.914127 113.061641 \nL 271.524074 113.000834 \nL 272.134021 113.376425 \nL 272.743969 113.315044 \nL 273.353916 113.470768 \nL 273.963863 113.409474 \nL 274.57381 113.564017 \nL 275.183757 113.502812 \nL 275.793704 113.870439 \nL 276.403652 113.808693 \nL 277.013599 113.960319 \nL 277.623546 114.323472 \nL 278.233493 114.049171 \nL 278.84344 113.987624 \nL 279.453387 114.137019 \nL 280.063335 114.075571 \nL 281.893176 114.517967 \nL 282.503123 114.871422 \nL 283.11307 114.808782 \nL 283.723018 114.127044 \nL 284.332965 114.272728 \nL 284.942912 114.006932 \nL 285.552859 113.333059 \nL 286.162806 113.479726 \nL 287.382701 113.364474 \nL 287.992648 113.509859 \nL 288.602595 113.250481 \nL 289.822489 113.941265 \nL 290.432436 113.482487 \nL 291.652331 113.369389 \nL 292.262278 113.114562 \nL 292.872225 113.257506 \nL 294.702067 112.502027 \nL 295.921961 113.178539 \nL 296.531908 113.123973 \nL 297.141855 112.486021 \nL 297.751802 112.627618 \nL 298.36175 112.962008 \nL 298.971697 112.908579 \nL 300.191591 112.418487 \nL 300.801538 112.749961 \nL 301.411485 112.506589 \nL 302.021433 112.83613 \nL 303.241327 112.731835 \nL 303.851274 112.490992 \nL 304.461221 112.628601 \nL 305.071168 112.577381 \nL 305.681116 112.714074 \nL 306.291063 112.288522 \nL 306.90101 112.23854 \nL 307.510957 112.56131 \nL 308.120904 112.696676 \nL 308.730851 112.460738 \nL 309.340799 112.595673 \nL 309.950746 112.914345 \nL 311.17064 113.179986 \nL 311.780587 113.494859 \nL 312.390534 113.260433 \nL 313.000482 113.573549 \nL 313.610429 113.703459 \nL 314.220376 114.013957 \nL 316.050217 114.396673 \nL 317.270112 115.006844 \nL 317.880059 114.952477 \nL 319.099953 115.200069 \nL 320.319848 115.799117 \nL 321.539742 116.040325 \nL 322.149689 115.80876 \nL 322.759636 116.104004 \nL 323.979531 115.643846 \nL 324.589478 115.58939 \nL 325.199425 115.882391 \nL 325.809372 115.827637 \nL 326.419319 116.118717 \nL 327.639214 115.664888 \nL 328.859108 116.242419 \nL 329.469055 116.187588 \nL 330.688949 115.738652 \nL 331.908844 115.97078 \nL 332.518791 116.254901 \nL 333.128738 116.369258 \nL 334.348632 116.261009 \nL 335.568527 116.487647 \nL 336.788421 116.37984 \nL 338.618263 117.210486 \nL 339.838157 117.429392 \nL 340.448104 117.374119 \nL 341.058051 117.155456 \nL 341.667998 117.427581 \nL 342.277946 117.535598 \nL 342.887893 117.480579 \nL 343.49784 117.587999 \nL 344.107787 117.533112 \nL 344.717734 117.316957 \nL 345.937629 117.209061 \nL 346.547576 117.476359 \nL 347.157523 117.422301 \nL 347.76747 117.687986 \nL 348.377417 117.633696 \nL 348.987365 117.738719 \nL 349.597312 117.525833 \nL 353.256995 118.148 \nL 353.866942 118.093776 \nL 354.476889 117.883729 \nL 355.086836 117.363095 \nL 356.306731 117.258845 \nL 356.916678 117.361803 \nL 357.526625 117.618751 \nL 359.356466 117.92282 \nL 359.966414 117.717025 \nL 361.186308 117.61304 \nL 361.796255 117.713568 \nL 363.016149 117.610223 \nL 363.626097 117.710155 \nL 364.236044 117.658704 \nL 364.845991 117.908781 \nL 365.455938 117.556419 \nL 366.065885 117.505586 \nL 366.675832 117.305215 \nL 367.895727 117.503477 \nL 368.505674 117.453163 \nL 369.725568 117.056618 \nL 369.725568 117.056618 \n\" style=\"fill:none;stroke:#9467bd;stroke-linecap:square;stroke-width:1.5;\"/>\n   </g>\n   <g id=\"line2d_19\">\n    <path clip-path=\"url(#p05a6a5f0fe)\" d=\"M 65.361932 92.446367 \nL 65.971879 166.573638 \nL 66.581826 191.282727 \nL 67.191773 185.105455 \nL 67.80172 151.748187 \nL 68.411668 154.219094 \nL 69.021615 155.984029 \nL 69.631562 138.775911 \nL 70.241509 133.628181 \nL 70.851456 122.09728 \nL 71.461403 126.140582 \nL 72.071351 135.687278 \nL 73.291245 140.099609 \nL 73.901192 136.922731 \nL 75.121086 140.411068 \nL 75.731034 141.864544 \nL 76.340981 147.066465 \nL 76.950928 148.041822 \nL 77.560875 152.454159 \nL 78.780769 147.236095 \nL 79.390717 148.041822 \nL 80.000664 151.748187 \nL 81.220558 147.355456 \nL 81.830505 150.689224 \nL 83.660347 152.226427 \nL 84.270294 152.674777 \nL 84.880241 148.603392 \nL 85.490188 142.591282 \nL 86.710083 143.92364 \nL 87.32003 142.532364 \nL 87.929977 139.263595 \nL 89.149871 136.922731 \nL 89.759819 134.029962 \nL 90.979713 132.095838 \nL 91.58966 132.879429 \nL 92.809554 137.567321 \nL 93.419502 133.452939 \nL 94.639396 134.804805 \nL 95.249343 133.957645 \nL 95.85929 136.050641 \nL 97.079185 134.4052 \nL 97.689132 132.255462 \nL 98.299079 131.531662 \nL 98.909026 129.51 \nL 99.518973 126.258805 \nL 100.12892 128.231943 \nL 100.738868 128.881802 \nL 101.348815 130.745464 \nL 101.958762 127.687207 \nL 103.178656 128.921688 \nL 104.398551 127.799377 \nL 105.008498 129.51 \nL 105.618445 128.956814 \nL 106.228392 129.51 \nL 106.838339 128.972853 \nL 108.058234 130.032026 \nL 108.668181 131.569096 \nL 109.278128 129.002279 \nL 109.888075 127.506564 \nL 110.498022 127.039093 \nL 111.107969 128.534643 \nL 111.717917 127.10327 \nL 112.327864 128.55965 \nL 112.937811 129.04084 \nL 113.547758 126.73023 \nL 114.157705 125.391819 \nL 115.987547 126.862603 \nL 116.597494 125.585618 \nL 117.207441 126.924173 \nL 119.037283 125.761997 \nL 119.64723 126.215462 \nL 120.257177 127.473537 \nL 120.867124 127.092809 \nL 121.477071 128.3144 \nL 122.087018 125.567061 \nL 122.696966 125.218421 \nL 123.306913 126.421367 \nL 123.91686 125.306909 \nL 125.136754 126.140582 \nL 125.746701 125.062366 \nL 126.356649 123.271573 \nL 126.966596 123.696097 \nL 128.796437 122.803252 \nL 129.406384 121.118233 \nL 130.016332 120.850273 \nL 130.626279 119.900917 \nL 131.236226 121.009167 \nL 131.846173 120.749513 \nL 132.45612 121.162339 \nL 133.676015 120.654088 \nL 134.285962 119.106181 \nL 134.895909 118.874352 \nL 135.505856 119.924578 \nL 136.115803 119.056155 \nL 136.72575 117.574258 \nL 137.945645 118.390909 \nL 138.555592 118.176499 \nL 139.165539 119.180796 \nL 140.385433 117.553989 \nL 140.995381 117.353132 \nL 141.605328 118.332079 \nL 142.215275 118.128261 \nL 143.435169 116.58083 \nL 145.874958 115.854976 \nL 146.484905 115.1271 \nL 147.094852 114.959093 \nL 147.704799 115.883673 \nL 148.314747 115.712595 \nL 149.534641 116.444403 \nL 150.144588 116.272994 \nL 151.364482 116.981451 \nL 154.414218 116.146928 \nL 155.024165 115.485924 \nL 155.634113 115.331293 \nL 156.854007 116.010004 \nL 158.073901 115.70198 \nL 158.683848 114.588285 \nL 159.293796 114.445429 \nL 159.903743 113.829238 \nL 160.51369 112.748746 \nL 161.123637 113.089411 \nL 162.343531 114.684549 \nL 163.563426 115.325152 \nL 164.173373 114.275257 \nL 165.393267 113.112154 \nL 166.003214 112.094557 \nL 167.833056 110.429908 \nL 169.05295 111.08656 \nL 169.662897 110.116239 \nL 170.272845 110.442588 \nL 170.882792 111.191197 \nL 172.102686 111.820544 \nL 172.712633 111.71108 \nL 173.932528 113.152306 \nL 175.762369 112.811001 \nL 176.372316 113.104786 \nL 176.982263 112.992517 \nL 177.592211 112.480764 \nL 178.202158 113.170122 \nL 179.422052 112.161064 \nL 181.251894 111.851417 \nL 183.081735 112.697637 \nL 184.301629 112.490992 \nL 186.131471 113.306306 \nL 186.741418 113.943275 \nL 187.351365 114.205116 \nL 187.961312 114.097408 \nL 188.57126 114.721067 \nL 189.181207 114.975242 \nL 189.791154 114.503751 \nL 191.620995 114.18562 \nL 192.230943 114.436272 \nL 192.84089 113.625586 \nL 193.450837 113.876525 \nL 195.280678 113.576101 \nL 196.500573 114.066822 \nL 197.11052 114.650395 \nL 197.720467 114.888566 \nL 198.330414 114.786093 \nL 198.940361 115.021491 \nL 199.550309 114.919339 \nL 200.770203 115.382612 \nL 201.38015 115.280217 \nL 201.990097 114.849276 \nL 202.600044 115.40614 \nL 203.209992 114.978445 \nL 203.819939 115.204741 \nL 204.429886 115.105362 \nL 205.039833 115.329139 \nL 205.64978 115.871876 \nL 206.259727 116.090417 \nL 206.869675 115.670798 \nL 207.479622 115.888323 \nL 209.309463 115.591588 \nL 209.91941 115.8058 \nL 210.529358 115.708066 \nL 211.139305 114.993412 \nL 211.749252 115.515018 \nL 212.969146 114.715058 \nL 214.189041 115.138389 \nL 214.798988 115.046145 \nL 215.408935 115.554872 \nL 216.628829 115.369258 \nL 217.238776 115.57408 \nL 217.848724 116.072589 \nL 220.288512 115.70198 \nL 220.898459 116.190261 \nL 221.508407 115.232577 \nL 222.118354 114.856941 \nL 222.728301 114.770408 \nL 223.338248 114.114342 \nL 223.948195 114.599342 \nL 224.558142 114.797725 \nL 225.16809 115.27644 \nL 226.387984 114.544687 \nL 226.997931 114.461611 \nL 227.607878 114.656791 \nL 228.827773 115.593919 \nL 229.43772 115.782736 \nL 230.657614 115.611139 \nL 231.267561 115.797814 \nL 231.877508 116.253664 \nL 232.487456 116.436649 \nL 233.097403 116.886888 \nL 234.317297 117.244342 \nL 234.927244 116.889771 \nL 236.147139 116.715799 \nL 236.757086 116.104004 \nL 237.367033 116.020409 \nL 237.97698 115.415385 \nL 238.586927 115.074699 \nL 239.806822 115.433566 \nL 240.416769 115.868529 \nL 241.026716 116.043981 \nL 241.636663 115.195772 \nL 242.24661 114.862862 \nL 242.856557 115.03996 \nL 243.466505 114.962849 \nL 244.686399 114.307632 \nL 245.296346 114.484211 \nL 245.906293 114.909177 \nL 246.51624 114.585048 \nL 247.736135 114.931644 \nL 248.346082 115.349475 \nL 248.956029 115.273645 \nL 249.565976 115.442944 \nL 250.175923 115.123466 \nL 250.785871 115.292147 \nL 251.395818 114.975242 \nL 252.005765 114.901865 \nL 252.615712 115.069629 \nL 253.225659 114.996417 \nL 253.835606 114.445429 \nL 254.445554 114.851396 \nL 255.055501 114.542003 \nL 255.665448 114.471409 \nL 256.275395 114.165186 \nL 256.885342 114.566889 \nL 257.495289 114.496892 \nL 258.105237 114.895005 \nL 261.154972 114.546421 \nL 262.984814 115.026671 \nL 263.594761 114.957414 \nL 264.204708 115.341952 \nL 264.814655 115.49814 \nL 265.424603 115.202764 \nL 266.03455 115.358433 \nL 266.644497 115.737117 \nL 267.254444 115.890234 \nL 267.864391 116.265041 \nL 268.474338 116.193729 \nL 269.084286 116.565388 \nL 269.694233 116.493612 \nL 270.914127 116.789938 \nL 271.524074 117.155456 \nL 272.134021 117.082785 \nL 273.353916 117.372208 \nL 273.963863 117.731761 \nL 274.57381 117.658262 \nL 275.183757 117.800046 \nL 275.793704 117.084045 \nL 276.403652 116.799416 \nL 277.013599 116.942448 \nL 277.623546 116.022662 \nL 278.233493 116.167098 \nL 278.84344 116.099519 \nL 280.063335 116.385485 \nL 280.673282 115.89906 \nL 281.283229 115.624195 \nL 283.11307 115.429966 \nL 283.723018 115.572424 \nL 285.552859 114.766454 \nL 286.162806 114.909177 \nL 286.772753 115.254757 \nL 287.382701 115.395359 \nL 287.992648 115.332663 \nL 289.212542 116.014002 \nL 291.042384 115.823429 \nL 291.652331 116.159122 \nL 292.872225 116.428718 \nL 293.482172 116.760115 \nL 294.702067 116.631133 \nL 295.312014 116.371048 \nL 296.531908 116.635264 \nL 297.141855 116.571783 \nL 298.36175 116.058716 \nL 299.581644 116.321132 \nL 300.801538 116.197739 \nL 302.021433 115.694513 \nL 302.63138 115.634899 \nL 303.241327 115.765173 \nL 304.461221 116.400982 \nL 305.071168 115.96391 \nL 305.681116 115.904362 \nL 306.291063 115.65794 \nL 306.90101 115.786193 \nL 307.510957 115.727551 \nL 308.120904 115.483416 \nL 308.730851 115.425823 \nL 309.340799 115.183666 \nL 310.560693 115.070822 \nL 311.780587 114.593034 \nL 312.390534 114.721067 \nL 313.000482 115.030604 \nL 314.830323 114.865347 \nL 315.44027 115.171515 \nL 316.050217 115.116364 \nL 317.270112 115.36495 \nL 317.880059 115.666965 \nL 318.490006 115.611139 \nL 319.099953 115.73335 \nL 319.7099 115.677646 \nL 320.319848 115.976027 \nL 320.929795 115.920002 \nL 321.539742 116.040325 \nL 323.369583 115.873389 \nL 323.979531 115.469432 \nL 324.589478 115.58939 \nL 325.199425 115.014388 \nL 325.809372 114.961667 \nL 326.419319 114.563597 \nL 327.029266 114.684549 \nL 328.249161 114.581591 \nL 328.859108 114.872869 \nL 329.469055 114.479594 \nL 330.688949 114.718559 \nL 331.298897 115.006844 \nL 331.908844 115.124571 \nL 332.518791 115.07292 \nL 333.128738 115.358433 \nL 333.738685 114.970305 \nL 334.348632 115.087048 \nL 334.95858 115.035939 \nL 335.568527 114.651158 \nL 336.178474 114.767835 \nL 336.788421 114.551591 \nL 337.398368 114.667969 \nL 338.008315 114.618363 \nL 338.618263 114.238795 \nL 339.838157 114.142155 \nL 340.448104 113.930152 \nL 341.058051 114.046366 \nL 341.667998 113.998791 \nL 342.277946 114.114342 \nL 342.887893 114.391945 \nL 343.49784 114.506126 \nL 344.107787 114.134257 \nL 344.717734 114.410005 \nL 345.327681 114.523402 \nL 345.937629 114.475518 \nL 346.547576 114.267382 \nL 347.157523 114.540456 \nL 347.76747 114.492838 \nL 348.377417 114.764256 \nL 348.987365 114.55729 \nL 349.597312 114.668676 \nL 350.207259 114.462804 \nL 350.817206 114.415859 \nL 351.427153 114.526837 \nL 352.0371 114.479958 \nL 352.647048 114.747367 \nL 353.866942 114.966041 \nL 355.086836 114.871422 \nL 355.696783 114.669008 \nL 356.306731 114.31236 \nL 356.916678 114.266719 \nL 358.746519 114.592272 \nL 359.356466 114.546421 \nL 359.966414 114.653919 \nL 360.576361 114.913805 \nL 361.186308 114.257484 \nL 361.796255 114.517117 \nL 364.236044 114.941199 \nL 364.845991 114.59415 \nL 365.455938 114.549227 \nL 366.065885 114.354434 \nL 366.675832 114.459921 \nL 367.28578 114.266089 \nL 368.505674 114.178463 \nL 369.115621 113.986354 \nL 369.725568 114.091532 \nL 369.725568 114.091532 \n\" style=\"fill:none;stroke:#8c564b;stroke-linecap:square;stroke-width:1.5;\"/>\n   </g>\n   <g id=\"line2d_20\">\n    <path clip-path=\"url(#p05a6a5f0fe)\" d=\"M 50.14375 116.908369 \nL 384.94375 116.908369 \n\" style=\"fill:none;stroke:#000000;stroke-dasharray:5.55,2.4;stroke-dashoffset:0;stroke-width:1.5;\"/>\n   </g>\n   <g id=\"patch_3\">\n    <path d=\"M 50.14375 251.82 \nL 50.14375 7.2 \n\" style=\"fill:none;stroke:#000000;stroke-linecap:square;stroke-linejoin:miter;stroke-width:0.8;\"/>\n   </g>\n   <g id=\"patch_4\">\n    <path d=\"M 384.94375 251.82 \nL 384.94375 7.2 \n\" style=\"fill:none;stroke:#000000;stroke-linecap:square;stroke-linejoin:miter;stroke-width:0.8;\"/>\n   </g>\n   <g id=\"patch_5\">\n    <path d=\"M 50.14375 251.82 \nL 384.94375 251.82 \n\" style=\"fill:none;stroke:#000000;stroke-linecap:square;stroke-linejoin:miter;stroke-width:0.8;\"/>\n   </g>\n   <g id=\"patch_6\">\n    <path d=\"M 50.14375 7.2 \nL 384.94375 7.2 \n\" style=\"fill:none;stroke:#000000;stroke-linecap:square;stroke-linejoin:miter;stroke-width:0.8;\"/>\n   </g>\n   <g id=\"legend_1\">\n    <g id=\"patch_7\">\n     <path d=\"M 302.089063 103.26875 \nL 377.94375 103.26875 \nQ 379.94375 103.26875 379.94375 101.26875 \nL 379.94375 14.2 \nQ 379.94375 12.2 377.94375 12.2 \nL 302.089063 12.2 \nQ 300.089063 12.2 300.089063 14.2 \nL 300.089063 101.26875 \nQ 300.089063 103.26875 302.089063 103.26875 \nz\n\" style=\"fill:#ffffff;opacity:0.8;stroke:#cccccc;stroke-linejoin:miter;\"/>\n    </g>\n    <g id=\"line2d_21\">\n     <path d=\"M 304.089063 20.298437 \nL 324.089063 20.298437 \n\" style=\"fill:none;stroke:#1f77b4;stroke-linecap:square;stroke-width:1.5;\"/>\n    </g>\n    <g id=\"line2d_22\"/>\n    <g id=\"text_16\">\n     <!-- P(die=1) -->\n     <defs>\n      <path d=\"M 19.671875 64.796875 \nL 19.671875 37.40625 \nL 32.078125 37.40625 \nQ 38.96875 37.40625 42.71875 40.96875 \nQ 46.484375 44.53125 46.484375 51.125 \nQ 46.484375 57.671875 42.71875 61.234375 \nQ 38.96875 64.796875 32.078125 64.796875 \nz\nM 9.8125 72.90625 \nL 32.078125 72.90625 \nQ 44.34375 72.90625 50.609375 67.359375 \nQ 56.890625 61.8125 56.890625 51.125 \nQ 56.890625 40.328125 50.609375 34.8125 \nQ 44.34375 29.296875 32.078125 29.296875 \nL 19.671875 29.296875 \nL 19.671875 0 \nL 9.8125 0 \nz\n\" id=\"DejaVuSans-80\"/>\n      <path d=\"M 31 75.875 \nQ 24.46875 64.65625 21.28125 53.65625 \nQ 18.109375 42.671875 18.109375 31.390625 \nQ 18.109375 20.125 21.3125 9.0625 \nQ 24.515625 -2 31 -13.1875 \nL 23.1875 -13.1875 \nQ 15.875 -1.703125 12.234375 9.375 \nQ 8.59375 20.453125 8.59375 31.390625 \nQ 8.59375 42.28125 12.203125 53.3125 \nQ 15.828125 64.359375 23.1875 75.875 \nz\n\" id=\"DejaVuSans-40\"/>\n      <path d=\"M 10.59375 45.40625 \nL 73.1875 45.40625 \nL 73.1875 37.203125 \nL 10.59375 37.203125 \nz\nM 10.59375 25.484375 \nL 73.1875 25.484375 \nL 73.1875 17.1875 \nL 10.59375 17.1875 \nz\n\" id=\"DejaVuSans-61\"/>\n      <path d=\"M 8.015625 75.875 \nL 15.828125 75.875 \nQ 23.140625 64.359375 26.78125 53.3125 \nQ 30.421875 42.28125 30.421875 31.390625 \nQ 30.421875 20.453125 26.78125 9.375 \nQ 23.140625 -1.703125 15.828125 -13.1875 \nL 8.015625 -13.1875 \nQ 14.5 -2 17.703125 9.0625 \nQ 20.90625 20.125 20.90625 31.390625 \nQ 20.90625 42.671875 17.703125 53.65625 \nQ 14.5 64.65625 8.015625 75.875 \nz\n\" id=\"DejaVuSans-41\"/>\n     </defs>\n     <g transform=\"translate(332.089063 23.798437)scale(0.1 -0.1)\">\n      <use xlink:href=\"#DejaVuSans-80\"/>\n      <use x=\"60.302734\" xlink:href=\"#DejaVuSans-40\"/>\n      <use x=\"99.316406\" xlink:href=\"#DejaVuSans-100\"/>\n      <use x=\"162.792969\" xlink:href=\"#DejaVuSans-105\"/>\n      <use x=\"190.576172\" xlink:href=\"#DejaVuSans-101\"/>\n      <use x=\"252.099609\" xlink:href=\"#DejaVuSans-61\"/>\n      <use x=\"335.888672\" xlink:href=\"#DejaVuSans-49\"/>\n      <use x=\"399.511719\" xlink:href=\"#DejaVuSans-41\"/>\n     </g>\n    </g>\n    <g id=\"line2d_23\">\n     <path d=\"M 304.089063 34.976562 \nL 324.089063 34.976562 \n\" style=\"fill:none;stroke:#ff7f0e;stroke-linecap:square;stroke-width:1.5;\"/>\n    </g>\n    <g id=\"line2d_24\"/>\n    <g id=\"text_17\">\n     <!-- P(die=2) -->\n     <g transform=\"translate(332.089063 38.476562)scale(0.1 -0.1)\">\n      <use xlink:href=\"#DejaVuSans-80\"/>\n      <use x=\"60.302734\" xlink:href=\"#DejaVuSans-40\"/>\n      <use x=\"99.316406\" xlink:href=\"#DejaVuSans-100\"/>\n      <use x=\"162.792969\" xlink:href=\"#DejaVuSans-105\"/>\n      <use x=\"190.576172\" xlink:href=\"#DejaVuSans-101\"/>\n      <use x=\"252.099609\" xlink:href=\"#DejaVuSans-61\"/>\n      <use x=\"335.888672\" xlink:href=\"#DejaVuSans-50\"/>\n      <use x=\"399.511719\" xlink:href=\"#DejaVuSans-41\"/>\n     </g>\n    </g>\n    <g id=\"line2d_25\">\n     <path d=\"M 304.089063 49.654687 \nL 324.089063 49.654687 \n\" style=\"fill:none;stroke:#2ca02c;stroke-linecap:square;stroke-width:1.5;\"/>\n    </g>\n    <g id=\"line2d_26\"/>\n    <g id=\"text_18\">\n     <!-- P(die=3) -->\n     <g transform=\"translate(332.089063 53.154687)scale(0.1 -0.1)\">\n      <use xlink:href=\"#DejaVuSans-80\"/>\n      <use x=\"60.302734\" xlink:href=\"#DejaVuSans-40\"/>\n      <use x=\"99.316406\" xlink:href=\"#DejaVuSans-100\"/>\n      <use x=\"162.792969\" xlink:href=\"#DejaVuSans-105\"/>\n      <use x=\"190.576172\" xlink:href=\"#DejaVuSans-101\"/>\n      <use x=\"252.099609\" xlink:href=\"#DejaVuSans-61\"/>\n      <use x=\"335.888672\" xlink:href=\"#DejaVuSans-51\"/>\n      <use x=\"399.511719\" xlink:href=\"#DejaVuSans-41\"/>\n     </g>\n    </g>\n    <g id=\"line2d_27\">\n     <path d=\"M 304.089063 64.332812 \nL 324.089063 64.332812 \n\" style=\"fill:none;stroke:#d62728;stroke-linecap:square;stroke-width:1.5;\"/>\n    </g>\n    <g id=\"line2d_28\"/>\n    <g id=\"text_19\">\n     <!-- P(die=4) -->\n     <g transform=\"translate(332.089063 67.832812)scale(0.1 -0.1)\">\n      <use xlink:href=\"#DejaVuSans-80\"/>\n      <use x=\"60.302734\" xlink:href=\"#DejaVuSans-40\"/>\n      <use x=\"99.316406\" xlink:href=\"#DejaVuSans-100\"/>\n      <use x=\"162.792969\" xlink:href=\"#DejaVuSans-105\"/>\n      <use x=\"190.576172\" xlink:href=\"#DejaVuSans-101\"/>\n      <use x=\"252.099609\" xlink:href=\"#DejaVuSans-61\"/>\n      <use x=\"335.888672\" xlink:href=\"#DejaVuSans-52\"/>\n      <use x=\"399.511719\" xlink:href=\"#DejaVuSans-41\"/>\n     </g>\n    </g>\n    <g id=\"line2d_29\">\n     <path d=\"M 304.089063 79.010937 \nL 324.089063 79.010937 \n\" style=\"fill:none;stroke:#9467bd;stroke-linecap:square;stroke-width:1.5;\"/>\n    </g>\n    <g id=\"line2d_30\"/>\n    <g id=\"text_20\">\n     <!-- P(die=5) -->\n     <g transform=\"translate(332.089063 82.510937)scale(0.1 -0.1)\">\n      <use xlink:href=\"#DejaVuSans-80\"/>\n      <use x=\"60.302734\" xlink:href=\"#DejaVuSans-40\"/>\n      <use x=\"99.316406\" xlink:href=\"#DejaVuSans-100\"/>\n      <use x=\"162.792969\" xlink:href=\"#DejaVuSans-105\"/>\n      <use x=\"190.576172\" xlink:href=\"#DejaVuSans-101\"/>\n      <use x=\"252.099609\" xlink:href=\"#DejaVuSans-61\"/>\n      <use x=\"335.888672\" xlink:href=\"#DejaVuSans-53\"/>\n      <use x=\"399.511719\" xlink:href=\"#DejaVuSans-41\"/>\n     </g>\n    </g>\n    <g id=\"line2d_31\">\n     <path d=\"M 304.089063 93.689062 \nL 324.089063 93.689062 \n\" style=\"fill:none;stroke:#8c564b;stroke-linecap:square;stroke-width:1.5;\"/>\n    </g>\n    <g id=\"line2d_32\"/>\n    <g id=\"text_21\">\n     <!-- P(die=6) -->\n     <defs>\n      <path d=\"M 33.015625 40.375 \nQ 26.375 40.375 22.484375 35.828125 \nQ 18.609375 31.296875 18.609375 23.390625 \nQ 18.609375 15.53125 22.484375 10.953125 \nQ 26.375 6.390625 33.015625 6.390625 \nQ 39.65625 6.390625 43.53125 10.953125 \nQ 47.40625 15.53125 47.40625 23.390625 \nQ 47.40625 31.296875 43.53125 35.828125 \nQ 39.65625 40.375 33.015625 40.375 \nz\nM 52.59375 71.296875 \nL 52.59375 62.3125 \nQ 48.875 64.0625 45.09375 64.984375 \nQ 41.3125 65.921875 37.59375 65.921875 \nQ 27.828125 65.921875 22.671875 59.328125 \nQ 17.53125 52.734375 16.796875 39.40625 \nQ 19.671875 43.65625 24.015625 45.921875 \nQ 28.375 48.1875 33.59375 48.1875 \nQ 44.578125 48.1875 50.953125 41.515625 \nQ 57.328125 34.859375 57.328125 23.390625 \nQ 57.328125 12.15625 50.6875 5.359375 \nQ 44.046875 -1.421875 33.015625 -1.421875 \nQ 20.359375 -1.421875 13.671875 8.265625 \nQ 6.984375 17.96875 6.984375 36.375 \nQ 6.984375 53.65625 15.1875 63.9375 \nQ 23.390625 74.21875 37.203125 74.21875 \nQ 40.921875 74.21875 44.703125 73.484375 \nQ 48.484375 72.75 52.59375 71.296875 \nz\n\" id=\"DejaVuSans-54\"/>\n     </defs>\n     <g transform=\"translate(332.089063 97.189062)scale(0.1 -0.1)\">\n      <use xlink:href=\"#DejaVuSans-80\"/>\n      <use x=\"60.302734\" xlink:href=\"#DejaVuSans-40\"/>\n      <use x=\"99.316406\" xlink:href=\"#DejaVuSans-100\"/>\n      <use x=\"162.792969\" xlink:href=\"#DejaVuSans-105\"/>\n      <use x=\"190.576172\" xlink:href=\"#DejaVuSans-101\"/>\n      <use x=\"252.099609\" xlink:href=\"#DejaVuSans-61\"/>\n      <use x=\"335.888672\" xlink:href=\"#DejaVuSans-54\"/>\n      <use x=\"399.511719\" xlink:href=\"#DejaVuSans-41\"/>\n     </g>\n    </g>\n   </g>\n  </g>\n </g>\n <defs>\n  <clipPath id=\"p05a6a5f0fe\">\n   <rect height=\"244.62\" width=\"334.8\" x=\"50.14375\" y=\"7.2\"/>\n  </clipPath>\n </defs>\n</svg>\n"
          },
          "metadata": {
            "needs_background": "light"
          }
        }
      ]
    },
    {
      "cell_type": "markdown",
      "source": [
        "#2.7. Documentation"
      ],
      "metadata": {
        "id": "T19Cqodesm7j"
      }
    },
    {
      "cell_type": "markdown",
      "source": [
        "##2.7.1. Finding All the Functions and Classes in a Module"
      ],
      "metadata": {
        "id": "n__XeimjtJqE"
      }
    },
    {
      "cell_type": "code",
      "execution_count": null,
      "metadata": {
        "colab": {
          "base_uri": "https://localhost:8080/"
        },
        "id": "JCbgl_FIskRW",
        "outputId": "3fd49877-cf3c-499b-e32c-b3892da690a3"
      },
      "outputs": [
        {
          "output_type": "stream",
          "name": "stdout",
          "text": [
            "['AbsTransform', 'AffineTransform', 'Bernoulli', 'Beta', 'Binomial', 'CatTransform', 'Categorical', 'Cauchy', 'Chi2', 'ComposeTransform', 'ContinuousBernoulli', 'CorrCholeskyTransform', 'Dirichlet', 'Distribution', 'ExpTransform', 'Exponential', 'ExponentialFamily', 'FisherSnedecor', 'Gamma', 'Geometric', 'Gumbel', 'HalfCauchy', 'HalfNormal', 'Independent', 'IndependentTransform', 'Kumaraswamy', 'LKJCholesky', 'Laplace', 'LogNormal', 'LogisticNormal', 'LowRankMultivariateNormal', 'LowerCholeskyTransform', 'MixtureSameFamily', 'Multinomial', 'MultivariateNormal', 'NegativeBinomial', 'Normal', 'OneHotCategorical', 'OneHotCategoricalStraightThrough', 'Pareto', 'Poisson', 'PowerTransform', 'RelaxedBernoulli', 'RelaxedOneHotCategorical', 'ReshapeTransform', 'SigmoidTransform', 'SoftmaxTransform', 'StackTransform', 'StickBreakingTransform', 'StudentT', 'TanhTransform', 'Transform', 'TransformedDistribution', 'Uniform', 'VonMises', 'Weibull', '__all__', '__builtins__', '__cached__', '__doc__', '__file__', '__loader__', '__name__', '__package__', '__path__', '__spec__', 'bernoulli', 'beta', 'biject_to', 'binomial', 'categorical', 'cauchy', 'chi2', 'constraint_registry', 'constraints', 'continuous_bernoulli', 'dirichlet', 'distribution', 'exp_family', 'exponential', 'fishersnedecor', 'gamma', 'geometric', 'gumbel', 'half_cauchy', 'half_normal', 'identity_transform', 'independent', 'kl', 'kl_divergence', 'kumaraswamy', 'laplace', 'lkj_cholesky', 'log_normal', 'logistic_normal', 'lowrank_multivariate_normal', 'mixture_same_family', 'multinomial', 'multivariate_normal', 'negative_binomial', 'normal', 'one_hot_categorical', 'pareto', 'poisson', 'register_kl', 'relaxed_bernoulli', 'relaxed_categorical', 'studentT', 'transform_to', 'transformed_distribution', 'transforms', 'uniform', 'utils', 'von_mises', 'weibull']\n"
          ]
        }
      ],
      "source": [
        "import torch\n",
        "\n",
        "print(dir(torch.distributions))"
      ]
    },
    {
      "cell_type": "markdown",
      "source": [
        "##2.7.2. Finding the Usage of Specific Functions and Classes"
      ],
      "metadata": {
        "id": "D6JLHOWytSma"
      }
    },
    {
      "cell_type": "code",
      "source": [
        "help(torch.ones)"
      ],
      "metadata": {
        "colab": {
          "base_uri": "https://localhost:8080/"
        },
        "id": "mrvCS1PltOTM",
        "outputId": "ad012386-a03b-4293-d5fc-d0782590c33f"
      },
      "execution_count": null,
      "outputs": [
        {
          "output_type": "stream",
          "name": "stdout",
          "text": [
            "Help on built-in function ones:\n",
            "\n",
            "ones(...)\n",
            "    ones(*size, *, out=None, dtype=None, layout=torch.strided, device=None, requires_grad=False) -> Tensor\n",
            "    \n",
            "    Returns a tensor filled with the scalar value `1`, with the shape defined\n",
            "    by the variable argument :attr:`size`.\n",
            "    \n",
            "    Args:\n",
            "        size (int...): a sequence of integers defining the shape of the output tensor.\n",
            "            Can be a variable number of arguments or a collection like a list or tuple.\n",
            "    \n",
            "    Keyword arguments:\n",
            "        out (Tensor, optional): the output tensor.\n",
            "        dtype (:class:`torch.dtype`, optional): the desired data type of returned tensor.\n",
            "            Default: if ``None``, uses a global default (see :func:`torch.set_default_tensor_type`).\n",
            "        layout (:class:`torch.layout`, optional): the desired layout of returned Tensor.\n",
            "            Default: ``torch.strided``.\n",
            "        device (:class:`torch.device`, optional): the desired device of returned tensor.\n",
            "            Default: if ``None``, uses the current device for the default tensor type\n",
            "            (see :func:`torch.set_default_tensor_type`). :attr:`device` will be the CPU\n",
            "            for CPU tensor types and the current CUDA device for CUDA tensor types.\n",
            "        requires_grad (bool, optional): If autograd should record operations on the\n",
            "            returned tensor. Default: ``False``.\n",
            "    \n",
            "    Example::\n",
            "    \n",
            "        >>> torch.ones(2, 3)\n",
            "        tensor([[ 1.,  1.,  1.],\n",
            "                [ 1.,  1.,  1.]])\n",
            "    \n",
            "        >>> torch.ones(5)\n",
            "        tensor([ 1.,  1.,  1.,  1.,  1.])\n",
            "\n"
          ]
        }
      ]
    },
    {
      "cell_type": "code",
      "source": [
        "torch.ones(4)"
      ],
      "metadata": {
        "colab": {
          "base_uri": "https://localhost:8080/"
        },
        "id": "C4ha-FgntVsn",
        "outputId": "d44362c0-0113-4477-c6f0-9c8a15ebb307"
      },
      "execution_count": null,
      "outputs": [
        {
          "output_type": "execute_result",
          "data": {
            "text/plain": [
              "tensor([1., 1., 1., 1.])"
            ]
          },
          "metadata": {},
          "execution_count": 3
        }
      ]
    },
    {
      "cell_type": "markdown",
      "source": [
        "#Summary"
      ],
      "metadata": {
        "id": "NwMx5Nk_tbKZ"
      }
    },
    {
      "cell_type": "code",
      "source": [
        ""
      ],
      "metadata": {
        "id": "-WtD-sm9tZM6"
      },
      "execution_count": null,
      "outputs": []
    }
  ]
}